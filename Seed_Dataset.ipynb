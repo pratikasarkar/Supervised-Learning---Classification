{
 "cells": [
  {
   "cell_type": "code",
   "execution_count": 23,
   "metadata": {},
   "outputs": [],
   "source": [
    "import numpy as np\n",
    "import pandas as pd\n",
    "import matplotlib.pyplot as plt\n",
    "import seaborn as sns"
   ]
  },
  {
   "cell_type": "code",
   "execution_count": 24,
   "metadata": {},
   "outputs": [],
   "source": [
    "df = pd.read_csv('seed_dataset.csv')\n",
    "df = df.sample(frac = 1,random_state = 3)"
   ]
  },
  {
   "cell_type": "code",
   "execution_count": 25,
   "metadata": {},
   "outputs": [
    {
     "data": {
      "text/html": [
       "<div>\n",
       "<style scoped>\n",
       "    .dataframe tbody tr th:only-of-type {\n",
       "        vertical-align: middle;\n",
       "    }\n",
       "\n",
       "    .dataframe tbody tr th {\n",
       "        vertical-align: top;\n",
       "    }\n",
       "\n",
       "    .dataframe thead th {\n",
       "        text-align: right;\n",
       "    }\n",
       "</style>\n",
       "<table border=\"1\" class=\"dataframe\">\n",
       "  <thead>\n",
       "    <tr style=\"text-align: right;\">\n",
       "      <th></th>\n",
       "      <th>ID</th>\n",
       "      <th>area</th>\n",
       "      <th>perimeter</th>\n",
       "      <th>compactness</th>\n",
       "      <th>lengthOfKernel</th>\n",
       "      <th>widthOfKernel</th>\n",
       "      <th>asymmetryCoefficient</th>\n",
       "      <th>lengthOfKernelGroove</th>\n",
       "      <th>seedType</th>\n",
       "    </tr>\n",
       "  </thead>\n",
       "  <tbody>\n",
       "    <tr>\n",
       "      <td>164</td>\n",
       "      <td>165</td>\n",
       "      <td>11.14</td>\n",
       "      <td>12.79</td>\n",
       "      <td>0.8558</td>\n",
       "      <td>5.011</td>\n",
       "      <td>2.794</td>\n",
       "      <td>6.388</td>\n",
       "      <td>5.049</td>\n",
       "      <td>3</td>\n",
       "    </tr>\n",
       "    <tr>\n",
       "      <td>86</td>\n",
       "      <td>87</td>\n",
       "      <td>18.88</td>\n",
       "      <td>16.26</td>\n",
       "      <td>0.8969</td>\n",
       "      <td>6.084</td>\n",
       "      <td>3.764</td>\n",
       "      <td>1.649</td>\n",
       "      <td>6.109</td>\n",
       "      <td>2</td>\n",
       "    </tr>\n",
       "    <tr>\n",
       "      <td>122</td>\n",
       "      <td>123</td>\n",
       "      <td>16.17</td>\n",
       "      <td>15.38</td>\n",
       "      <td>0.8588</td>\n",
       "      <td>5.762</td>\n",
       "      <td>3.387</td>\n",
       "      <td>4.286</td>\n",
       "      <td>5.703</td>\n",
       "      <td>2</td>\n",
       "    </tr>\n",
       "    <tr>\n",
       "      <td>168</td>\n",
       "      <td>169</td>\n",
       "      <td>11.35</td>\n",
       "      <td>13.12</td>\n",
       "      <td>0.8291</td>\n",
       "      <td>5.176</td>\n",
       "      <td>2.668</td>\n",
       "      <td>4.337</td>\n",
       "      <td>5.132</td>\n",
       "      <td>3</td>\n",
       "    </tr>\n",
       "    <tr>\n",
       "      <td>128</td>\n",
       "      <td>129</td>\n",
       "      <td>20.16</td>\n",
       "      <td>17.03</td>\n",
       "      <td>0.8735</td>\n",
       "      <td>6.513</td>\n",
       "      <td>3.773</td>\n",
       "      <td>1.910</td>\n",
       "      <td>6.185</td>\n",
       "      <td>2</td>\n",
       "    </tr>\n",
       "    <tr>\n",
       "      <td>...</td>\n",
       "      <td>...</td>\n",
       "      <td>...</td>\n",
       "      <td>...</td>\n",
       "      <td>...</td>\n",
       "      <td>...</td>\n",
       "      <td>...</td>\n",
       "      <td>...</td>\n",
       "      <td>...</td>\n",
       "      <td>...</td>\n",
       "    </tr>\n",
       "    <tr>\n",
       "      <td>200</td>\n",
       "      <td>201</td>\n",
       "      <td>12.38</td>\n",
       "      <td>13.44</td>\n",
       "      <td>0.8609</td>\n",
       "      <td>5.219</td>\n",
       "      <td>2.989</td>\n",
       "      <td>5.472</td>\n",
       "      <td>5.045</td>\n",
       "      <td>3</td>\n",
       "    </tr>\n",
       "    <tr>\n",
       "      <td>184</td>\n",
       "      <td>185</td>\n",
       "      <td>12.89</td>\n",
       "      <td>13.77</td>\n",
       "      <td>0.8541</td>\n",
       "      <td>5.495</td>\n",
       "      <td>3.026</td>\n",
       "      <td>6.185</td>\n",
       "      <td>5.316</td>\n",
       "      <td>3</td>\n",
       "    </tr>\n",
       "    <tr>\n",
       "      <td>131</td>\n",
       "      <td>132</td>\n",
       "      <td>18.94</td>\n",
       "      <td>16.32</td>\n",
       "      <td>0.8942</td>\n",
       "      <td>6.144</td>\n",
       "      <td>3.825</td>\n",
       "      <td>2.908</td>\n",
       "      <td>5.949</td>\n",
       "      <td>2</td>\n",
       "    </tr>\n",
       "    <tr>\n",
       "      <td>152</td>\n",
       "      <td>153</td>\n",
       "      <td>12.26</td>\n",
       "      <td>13.60</td>\n",
       "      <td>0.8333</td>\n",
       "      <td>5.408</td>\n",
       "      <td>2.833</td>\n",
       "      <td>4.756</td>\n",
       "      <td>5.360</td>\n",
       "      <td>3</td>\n",
       "    </tr>\n",
       "    <tr>\n",
       "      <td>106</td>\n",
       "      <td>107</td>\n",
       "      <td>18.85</td>\n",
       "      <td>16.17</td>\n",
       "      <td>0.9056</td>\n",
       "      <td>6.152</td>\n",
       "      <td>3.806</td>\n",
       "      <td>2.843</td>\n",
       "      <td>6.200</td>\n",
       "      <td>2</td>\n",
       "    </tr>\n",
       "  </tbody>\n",
       "</table>\n",
       "<p>210 rows × 9 columns</p>\n",
       "</div>"
      ],
      "text/plain": [
       "      ID   area  perimeter  compactness  lengthOfKernel  widthOfKernel  \\\n",
       "164  165  11.14      12.79       0.8558           5.011          2.794   \n",
       "86    87  18.88      16.26       0.8969           6.084          3.764   \n",
       "122  123  16.17      15.38       0.8588           5.762          3.387   \n",
       "168  169  11.35      13.12       0.8291           5.176          2.668   \n",
       "128  129  20.16      17.03       0.8735           6.513          3.773   \n",
       "..   ...    ...        ...          ...             ...            ...   \n",
       "200  201  12.38      13.44       0.8609           5.219          2.989   \n",
       "184  185  12.89      13.77       0.8541           5.495          3.026   \n",
       "131  132  18.94      16.32       0.8942           6.144          3.825   \n",
       "152  153  12.26      13.60       0.8333           5.408          2.833   \n",
       "106  107  18.85      16.17       0.9056           6.152          3.806   \n",
       "\n",
       "     asymmetryCoefficient  lengthOfKernelGroove  seedType  \n",
       "164                 6.388                 5.049         3  \n",
       "86                  1.649                 6.109         2  \n",
       "122                 4.286                 5.703         2  \n",
       "168                 4.337                 5.132         3  \n",
       "128                 1.910                 6.185         2  \n",
       "..                    ...                   ...       ...  \n",
       "200                 5.472                 5.045         3  \n",
       "184                 6.185                 5.316         3  \n",
       "131                 2.908                 5.949         2  \n",
       "152                 4.756                 5.360         3  \n",
       "106                 2.843                 6.200         2  \n",
       "\n",
       "[210 rows x 9 columns]"
      ]
     },
     "execution_count": 25,
     "metadata": {},
     "output_type": "execute_result"
    }
   ],
   "source": [
    "df"
   ]
  },
  {
   "cell_type": "code",
   "execution_count": 26,
   "metadata": {},
   "outputs": [
    {
     "data": {
      "text/plain": [
       "3    70\n",
       "2    70\n",
       "1    70\n",
       "Name: seedType, dtype: int64"
      ]
     },
     "execution_count": 26,
     "metadata": {},
     "output_type": "execute_result"
    }
   ],
   "source": [
    "df['seedType'].value_counts()"
   ]
  },
  {
   "cell_type": "code",
   "execution_count": 27,
   "metadata": {},
   "outputs": [
    {
     "data": {
      "text/plain": [
       "ID                      0\n",
       "area                    0\n",
       "perimeter               0\n",
       "compactness             0\n",
       "lengthOfKernel          0\n",
       "widthOfKernel           0\n",
       "asymmetryCoefficient    0\n",
       "lengthOfKernelGroove    0\n",
       "seedType                0\n",
       "dtype: int64"
      ]
     },
     "execution_count": 27,
     "metadata": {},
     "output_type": "execute_result"
    }
   ],
   "source": [
    "df.isnull().sum()"
   ]
  },
  {
   "cell_type": "code",
   "execution_count": 28,
   "metadata": {},
   "outputs": [],
   "source": [
    "df.drop('ID',axis = 1,inplace = True)"
   ]
  },
  {
   "cell_type": "code",
   "execution_count": 29,
   "metadata": {},
   "outputs": [
    {
     "data": {
      "text/html": [
       "<div>\n",
       "<style scoped>\n",
       "    .dataframe tbody tr th:only-of-type {\n",
       "        vertical-align: middle;\n",
       "    }\n",
       "\n",
       "    .dataframe tbody tr th {\n",
       "        vertical-align: top;\n",
       "    }\n",
       "\n",
       "    .dataframe thead th {\n",
       "        text-align: right;\n",
       "    }\n",
       "</style>\n",
       "<table border=\"1\" class=\"dataframe\">\n",
       "  <thead>\n",
       "    <tr style=\"text-align: right;\">\n",
       "      <th></th>\n",
       "      <th>area</th>\n",
       "      <th>perimeter</th>\n",
       "      <th>compactness</th>\n",
       "      <th>lengthOfKernel</th>\n",
       "      <th>widthOfKernel</th>\n",
       "      <th>asymmetryCoefficient</th>\n",
       "      <th>lengthOfKernelGroove</th>\n",
       "      <th>seedType</th>\n",
       "    </tr>\n",
       "  </thead>\n",
       "  <tbody>\n",
       "    <tr>\n",
       "      <td>164</td>\n",
       "      <td>11.14</td>\n",
       "      <td>12.79</td>\n",
       "      <td>0.8558</td>\n",
       "      <td>5.011</td>\n",
       "      <td>2.794</td>\n",
       "      <td>6.388</td>\n",
       "      <td>5.049</td>\n",
       "      <td>3</td>\n",
       "    </tr>\n",
       "    <tr>\n",
       "      <td>86</td>\n",
       "      <td>18.88</td>\n",
       "      <td>16.26</td>\n",
       "      <td>0.8969</td>\n",
       "      <td>6.084</td>\n",
       "      <td>3.764</td>\n",
       "      <td>1.649</td>\n",
       "      <td>6.109</td>\n",
       "      <td>2</td>\n",
       "    </tr>\n",
       "    <tr>\n",
       "      <td>122</td>\n",
       "      <td>16.17</td>\n",
       "      <td>15.38</td>\n",
       "      <td>0.8588</td>\n",
       "      <td>5.762</td>\n",
       "      <td>3.387</td>\n",
       "      <td>4.286</td>\n",
       "      <td>5.703</td>\n",
       "      <td>2</td>\n",
       "    </tr>\n",
       "    <tr>\n",
       "      <td>168</td>\n",
       "      <td>11.35</td>\n",
       "      <td>13.12</td>\n",
       "      <td>0.8291</td>\n",
       "      <td>5.176</td>\n",
       "      <td>2.668</td>\n",
       "      <td>4.337</td>\n",
       "      <td>5.132</td>\n",
       "      <td>3</td>\n",
       "    </tr>\n",
       "    <tr>\n",
       "      <td>128</td>\n",
       "      <td>20.16</td>\n",
       "      <td>17.03</td>\n",
       "      <td>0.8735</td>\n",
       "      <td>6.513</td>\n",
       "      <td>3.773</td>\n",
       "      <td>1.910</td>\n",
       "      <td>6.185</td>\n",
       "      <td>2</td>\n",
       "    </tr>\n",
       "  </tbody>\n",
       "</table>\n",
       "</div>"
      ],
      "text/plain": [
       "      area  perimeter  compactness  lengthOfKernel  widthOfKernel  \\\n",
       "164  11.14      12.79       0.8558           5.011          2.794   \n",
       "86   18.88      16.26       0.8969           6.084          3.764   \n",
       "122  16.17      15.38       0.8588           5.762          3.387   \n",
       "168  11.35      13.12       0.8291           5.176          2.668   \n",
       "128  20.16      17.03       0.8735           6.513          3.773   \n",
       "\n",
       "     asymmetryCoefficient  lengthOfKernelGroove  seedType  \n",
       "164                 6.388                 5.049         3  \n",
       "86                  1.649                 6.109         2  \n",
       "122                 4.286                 5.703         2  \n",
       "168                 4.337                 5.132         3  \n",
       "128                 1.910                 6.185         2  "
      ]
     },
     "execution_count": 29,
     "metadata": {},
     "output_type": "execute_result"
    }
   ],
   "source": [
    "df.head()"
   ]
  },
  {
   "cell_type": "code",
   "execution_count": 30,
   "metadata": {},
   "outputs": [],
   "source": [
    "X = df.drop('seedType',axis = 1)\n",
    "y = df['seedType']"
   ]
  },
  {
   "cell_type": "code",
   "execution_count": 31,
   "metadata": {},
   "outputs": [],
   "source": [
    "from sklearn.preprocessing import StandardScaler\n",
    "ss = StandardScaler()\n",
    "X_scaled = ss.fit_transform(X)"
   ]
  },
  {
   "cell_type": "code",
   "execution_count": 32,
   "metadata": {},
   "outputs": [],
   "source": [
    "X_scaled = pd.DataFrame(X_scaled,columns=X.columns)"
   ]
  },
  {
   "cell_type": "code",
   "execution_count": 43,
   "metadata": {},
   "outputs": [
    {
     "data": {
      "text/plain": [
       "{'n_neighbors': 3, 'p': 1}"
      ]
     },
     "execution_count": 43,
     "metadata": {},
     "output_type": "execute_result"
    }
   ],
   "source": [
    "from sklearn.neighbors import KNeighborsClassifier\n",
    "from sklearn.model_selection import RandomizedSearchCV\n",
    "from scipy.stats import randint\n",
    "\n",
    "knn = KNeighborsClassifier()\n",
    "\n",
    "params = {\n",
    "    'n_neighbors' : randint(0,20),\n",
    "    'p' : randint(1,5)\n",
    "}\n",
    "\n",
    "rsearchcv = RandomizedSearchCV(estimator=knn,param_distributions=params,n_iter=50,n_jobs=-1,cv = 3,random_state=3,scoring='f1_weighted')\n",
    "\n",
    "rsearchcv.fit(X_scaled,y)\n",
    "\n",
    "rsearchcv.best_params_"
   ]
  },
  {
   "cell_type": "code",
   "execution_count": 48,
   "metadata": {},
   "outputs": [
    {
     "data": {
      "text/plain": [
       "{'explained_variance': make_scorer(explained_variance_score),\n",
       " 'r2': make_scorer(r2_score),\n",
       " 'max_error': make_scorer(max_error, greater_is_better=False),\n",
       " 'neg_median_absolute_error': make_scorer(median_absolute_error, greater_is_better=False),\n",
       " 'neg_mean_absolute_error': make_scorer(mean_absolute_error, greater_is_better=False),\n",
       " 'neg_mean_squared_error': make_scorer(mean_squared_error, greater_is_better=False),\n",
       " 'neg_mean_squared_log_error': make_scorer(mean_squared_log_error, greater_is_better=False),\n",
       " 'neg_root_mean_squared_error': make_scorer(mean_squared_error, greater_is_better=False, squared=False),\n",
       " 'neg_mean_poisson_deviance': make_scorer(mean_poisson_deviance, greater_is_better=False),\n",
       " 'neg_mean_gamma_deviance': make_scorer(mean_gamma_deviance, greater_is_better=False),\n",
       " 'accuracy': make_scorer(accuracy_score),\n",
       " 'roc_auc': make_scorer(roc_auc_score, needs_threshold=True),\n",
       " 'roc_auc_ovr': make_scorer(roc_auc_score, needs_proba=True, multi_class=ovr),\n",
       " 'roc_auc_ovo': make_scorer(roc_auc_score, needs_proba=True, multi_class=ovo),\n",
       " 'roc_auc_ovr_weighted': make_scorer(roc_auc_score, needs_proba=True, multi_class=ovr, average=weighted),\n",
       " 'roc_auc_ovo_weighted': make_scorer(roc_auc_score, needs_proba=True, multi_class=ovo, average=weighted),\n",
       " 'balanced_accuracy': make_scorer(balanced_accuracy_score),\n",
       " 'average_precision': make_scorer(average_precision_score, needs_threshold=True),\n",
       " 'neg_log_loss': make_scorer(log_loss, greater_is_better=False, needs_proba=True),\n",
       " 'neg_brier_score': make_scorer(brier_score_loss, greater_is_better=False, needs_proba=True),\n",
       " 'adjusted_rand_score': make_scorer(adjusted_rand_score),\n",
       " 'homogeneity_score': make_scorer(homogeneity_score),\n",
       " 'completeness_score': make_scorer(completeness_score),\n",
       " 'v_measure_score': make_scorer(v_measure_score),\n",
       " 'mutual_info_score': make_scorer(mutual_info_score),\n",
       " 'adjusted_mutual_info_score': make_scorer(adjusted_mutual_info_score),\n",
       " 'normalized_mutual_info_score': make_scorer(normalized_mutual_info_score),\n",
       " 'fowlkes_mallows_score': make_scorer(fowlkes_mallows_score),\n",
       " 'precision': make_scorer(precision_score, average=binary),\n",
       " 'precision_macro': make_scorer(precision_score, pos_label=None, average=macro),\n",
       " 'precision_micro': make_scorer(precision_score, pos_label=None, average=micro),\n",
       " 'precision_samples': make_scorer(precision_score, pos_label=None, average=samples),\n",
       " 'precision_weighted': make_scorer(precision_score, pos_label=None, average=weighted),\n",
       " 'recall': make_scorer(recall_score, average=binary),\n",
       " 'recall_macro': make_scorer(recall_score, pos_label=None, average=macro),\n",
       " 'recall_micro': make_scorer(recall_score, pos_label=None, average=micro),\n",
       " 'recall_samples': make_scorer(recall_score, pos_label=None, average=samples),\n",
       " 'recall_weighted': make_scorer(recall_score, pos_label=None, average=weighted),\n",
       " 'f1': make_scorer(f1_score, average=binary),\n",
       " 'f1_macro': make_scorer(f1_score, pos_label=None, average=macro),\n",
       " 'f1_micro': make_scorer(f1_score, pos_label=None, average=micro),\n",
       " 'f1_samples': make_scorer(f1_score, pos_label=None, average=samples),\n",
       " 'f1_weighted': make_scorer(f1_score, pos_label=None, average=weighted),\n",
       " 'jaccard': make_scorer(jaccard_score, average=binary),\n",
       " 'jaccard_macro': make_scorer(jaccard_score, pos_label=None, average=macro),\n",
       " 'jaccard_micro': make_scorer(jaccard_score, pos_label=None, average=micro),\n",
       " 'jaccard_samples': make_scorer(jaccard_score, pos_label=None, average=samples),\n",
       " 'jaccard_weighted': make_scorer(jaccard_score, pos_label=None, average=weighted)}"
      ]
     },
     "execution_count": 48,
     "metadata": {},
     "output_type": "execute_result"
    }
   ],
   "source": [
    "from sklearn.metrics import SCORERS\n",
    "SCORERS"
   ]
  },
  {
   "cell_type": "code",
   "execution_count": 44,
   "metadata": {},
   "outputs": [],
   "source": [
    "knn = KNeighborsClassifier(**rsearchcv.best_params_)"
   ]
  },
  {
   "cell_type": "code",
   "execution_count": 45,
   "metadata": {},
   "outputs": [],
   "source": [
    "from sklearn.model_selection import train_test_split\n",
    "X_train, X_test, y_train, y_test = train_test_split(X_scaled,y,test_size = 0.3,random_state = 3)"
   ]
  },
  {
   "cell_type": "code",
   "execution_count": 46,
   "metadata": {},
   "outputs": [
    {
     "data": {
      "text/plain": [
       "KNeighborsClassifier(algorithm='auto', leaf_size=30, metric='minkowski',\n",
       "                     metric_params=None, n_jobs=None, n_neighbors=3, p=1,\n",
       "                     weights='uniform')"
      ]
     },
     "execution_count": 46,
     "metadata": {},
     "output_type": "execute_result"
    }
   ],
   "source": [
    "knn.fit(X_train,y_train)"
   ]
  },
  {
   "cell_type": "code",
   "execution_count": 50,
   "metadata": {},
   "outputs": [
    {
     "name": "stdout",
     "output_type": "stream",
     "text": [
      "Confusion matrix - Train : \n",
      " [[46  0  1]\n",
      " [ 1 49  0]\n",
      " [ 1  0 49]]\n",
      "Overall accuracy - Train :  0.9795918367346939\n",
      "F1 score - Train \n",
      ":  0.9796648909430863\n",
      "Confusion matrix - Test : \n",
      " [[20  2  1]\n",
      " [ 0 20  0]\n",
      " [ 1  0 19]]\n",
      "Overall accuracy - Test :  0.9365079365079365\n",
      "F1 score - Test : \n",
      " 0.9358207929636502\n"
     ]
    }
   ],
   "source": [
    "from sklearn.metrics import confusion_matrix,roc_auc_score,roc_curve,accuracy_score, classification_report,f1_score\n",
    "y_train_ypred = knn.predict(X_train)\n",
    "y_train_prob = knn.predict_proba(X_train)[:,-1]\n",
    "\n",
    "y_train_ypred\n",
    "\n",
    "y_train_prob\n",
    "\n",
    "print('Confusion matrix - Train : \\n',confusion_matrix(y_train,y_train_ypred))\n",
    "\n",
    "print('Overall accuracy - Train : ',accuracy_score(y_train,y_train_ypred))\n",
    "\n",
    "print('F1 score - Train \\n: ',f1_score(y_train,y_train_ypred,average = 'weighted'))\n",
    "\n",
    "#### TEST\n",
    "\n",
    "y_test_ypred = knn.predict(X_test)\n",
    "y_test_prob = knn.predict_proba(X_test)[:,-1]\n",
    "\n",
    "print('Confusion matrix - Test : \\n',confusion_matrix(y_test,y_test_ypred))\n",
    "\n",
    "print('Overall accuracy - Test : ',accuracy_score(y_test,y_test_ypred))\n",
    "\n",
    "print('F1 score - Test : \\n',f1_score(y_test,y_test_ypred,average = 'weighted'))"
   ]
  },
  {
   "cell_type": "code",
   "execution_count": 55,
   "metadata": {},
   "outputs": [
    {
     "data": {
      "text/plain": [
       "LogisticRegression(C=1.0, class_weight=None, dual=False, fit_intercept=True,\n",
       "                   intercept_scaling=1, l1_ratio=None, max_iter=100,\n",
       "                   multi_class='auto', n_jobs=None, penalty='l2',\n",
       "                   random_state=None, solver='lbfgs', tol=0.0001, verbose=0,\n",
       "                   warm_start=False)"
      ]
     },
     "execution_count": 55,
     "metadata": {},
     "output_type": "execute_result"
    }
   ],
   "source": [
    "from sklearn.linear_model import LogisticRegression\n",
    "log_reg = LogisticRegression()\n",
    "log_reg.fit(X_train,y_train)"
   ]
  },
  {
   "cell_type": "code",
   "execution_count": 56,
   "metadata": {},
   "outputs": [
    {
     "data": {
      "text/plain": [
       "array([[ 0.10949899,  0.1896697 ,  0.12374175,  0.98153052, -0.03226029,\n",
       "        -0.92709476, -1.84151973],\n",
       "       [ 0.9174813 ,  0.89530103,  0.50908242,  0.03511234,  0.95070853,\n",
       "         0.39182431,  1.22217678],\n",
       "       [-1.02698029, -1.08497073, -0.63282418, -1.01664286, -0.91844824,\n",
       "         0.53527045,  0.61934295]])"
      ]
     },
     "execution_count": 56,
     "metadata": {},
     "output_type": "execute_result"
    }
   ],
   "source": [
    "log_reg.coef_"
   ]
  },
  {
   "cell_type": "code",
   "execution_count": 57,
   "metadata": {},
   "outputs": [
    {
     "data": {
      "text/plain": [
       "array([3, 2, 3, 2, 1, 3, 1, 2, 3, 1, 2, 3, 2, 1, 2, 2, 3, 1, 1, 2, 2, 1,\n",
       "       1, 3, 2, 3, 1, 1, 2, 1, 1, 3, 3, 2, 2, 2, 3, 3, 2, 2, 3, 2, 1, 2,\n",
       "       1, 1, 1, 3, 3, 3, 2, 1, 3, 1, 3, 1, 3, 2, 2, 1, 1, 2, 3],\n",
       "      dtype=int64)"
      ]
     },
     "execution_count": 57,
     "metadata": {},
     "output_type": "execute_result"
    }
   ],
   "source": [
    "log_reg.predict(X_test)"
   ]
  },
  {
   "cell_type": "code",
   "execution_count": 60,
   "metadata": {},
   "outputs": [
    {
     "data": {
      "text/plain": [
       "164    1.0\n",
       "86     0.5\n",
       "122    0.5\n",
       "168    1.0\n",
       "128    0.5\n",
       "      ... \n",
       "200    1.0\n",
       "184    1.0\n",
       "131    0.5\n",
       "152    1.0\n",
       "106    0.5\n",
       "Name: seedType, Length: 210, dtype: float64"
      ]
     },
     "execution_count": 60,
     "metadata": {},
     "output_type": "execute_result"
    }
   ],
   "source": [
    "y.replace({1:0,2:0.5,3:1},inplace = True)\n",
    "y"
   ]
  },
  {
   "cell_type": "code",
   "execution_count": 61,
   "metadata": {},
   "outputs": [
    {
     "name": "stdout",
     "output_type": "stream",
     "text": [
      "Optimization terminated successfully.\n",
      "         Current function value: 0.316533\n",
      "         Iterations 8\n"
     ]
    },
    {
     "name": "stderr",
     "output_type": "stream",
     "text": [
      "C:\\Anaconda\\lib\\site-packages\\numpy\\core\\fromnumeric.py:2389: FutureWarning: Method .ptp is deprecated and will be removed in a future version. Use numpy.ptp instead.\n",
      "  return ptp(axis=axis, out=out, **kwargs)\n"
     ]
    }
   ],
   "source": [
    "import statsmodels.api as sm\n",
    "log_sm = sm.Logit(y,sm.add_constant(X)).fit()"
   ]
  },
  {
   "cell_type": "code",
   "execution_count": 62,
   "metadata": {},
   "outputs": [
    {
     "data": {
      "text/html": [
       "<table class=\"simpletable\">\n",
       "<caption>Logit Regression Results</caption>\n",
       "<tr>\n",
       "  <th>Dep. Variable:</th>       <td>seedType</td>     <th>  No. Observations:  </th>  <td>   210</td>  \n",
       "</tr>\n",
       "<tr>\n",
       "  <th>Model:</th>                 <td>Logit</td>      <th>  Df Residuals:      </th>  <td>   202</td>  \n",
       "</tr>\n",
       "<tr>\n",
       "  <th>Method:</th>                 <td>MLE</td>       <th>  Df Model:          </th>  <td>     7</td>  \n",
       "</tr>\n",
       "<tr>\n",
       "  <th>Date:</th>            <td>Fri, 27 Mar 2020</td> <th>  Pseudo R-squ.:     </th>  <td>0.5433</td>  \n",
       "</tr>\n",
       "<tr>\n",
       "  <th>Time:</th>                <td>17:17:30</td>     <th>  Log-Likelihood:    </th> <td> -66.472</td> \n",
       "</tr>\n",
       "<tr>\n",
       "  <th>converged:</th>             <td>True</td>       <th>  LL-Null:           </th> <td> -145.56</td> \n",
       "</tr>\n",
       "<tr>\n",
       "  <th>Covariance Type:</th>     <td>nonrobust</td>    <th>  LLR p-value:       </th> <td>7.756e-31</td>\n",
       "</tr>\n",
       "</table>\n",
       "<table class=\"simpletable\">\n",
       "<tr>\n",
       "            <td></td>              <th>coef</th>     <th>std err</th>      <th>z</th>      <th>P>|z|</th>  <th>[0.025</th>    <th>0.975]</th>  \n",
       "</tr>\n",
       "<tr>\n",
       "  <th>const</th>                <td>  243.9222</td> <td>   61.784</td> <td>    3.948</td> <td> 0.000</td> <td>  122.827</td> <td>  365.018</td>\n",
       "</tr>\n",
       "<tr>\n",
       "  <th>area</th>                 <td>    6.6141</td> <td>    1.908</td> <td>    3.466</td> <td> 0.001</td> <td>    2.874</td> <td>   10.354</td>\n",
       "</tr>\n",
       "<tr>\n",
       "  <th>perimeter</th>            <td>  -14.8899</td> <td>    3.980</td> <td>   -3.741</td> <td> 0.000</td> <td>  -22.690</td> <td>   -7.090</td>\n",
       "</tr>\n",
       "<tr>\n",
       "  <th>compactness</th>          <td> -153.9941</td> <td>   44.350</td> <td>   -3.472</td> <td> 0.001</td> <td> -240.919</td> <td>  -67.070</td>\n",
       "</tr>\n",
       "<tr>\n",
       "  <th>lengthOfKernel</th>       <td>   -9.3741</td> <td>    3.187</td> <td>   -2.942</td> <td> 0.003</td> <td>  -15.620</td> <td>   -3.129</td>\n",
       "</tr>\n",
       "<tr>\n",
       "  <th>widthOfKernel</th>        <td>    3.2635</td> <td>    5.523</td> <td>    0.591</td> <td> 0.555</td> <td>   -7.562</td> <td>   14.089</td>\n",
       "</tr>\n",
       "<tr>\n",
       "  <th>asymmetryCoefficient</th> <td>    0.4041</td> <td>    0.166</td> <td>    2.428</td> <td> 0.015</td> <td>    0.078</td> <td>    0.730</td>\n",
       "</tr>\n",
       "<tr>\n",
       "  <th>lengthOfKernelGroove</th> <td>    9.1674</td> <td>    1.829</td> <td>    5.012</td> <td> 0.000</td> <td>    5.582</td> <td>   12.753</td>\n",
       "</tr>\n",
       "</table>"
      ],
      "text/plain": [
       "<class 'statsmodels.iolib.summary.Summary'>\n",
       "\"\"\"\n",
       "                           Logit Regression Results                           \n",
       "==============================================================================\n",
       "Dep. Variable:               seedType   No. Observations:                  210\n",
       "Model:                          Logit   Df Residuals:                      202\n",
       "Method:                           MLE   Df Model:                            7\n",
       "Date:                Fri, 27 Mar 2020   Pseudo R-squ.:                  0.5433\n",
       "Time:                        17:17:30   Log-Likelihood:                -66.472\n",
       "converged:                       True   LL-Null:                       -145.56\n",
       "Covariance Type:            nonrobust   LLR p-value:                 7.756e-31\n",
       "========================================================================================\n",
       "                           coef    std err          z      P>|z|      [0.025      0.975]\n",
       "----------------------------------------------------------------------------------------\n",
       "const                  243.9222     61.784      3.948      0.000     122.827     365.018\n",
       "area                     6.6141      1.908      3.466      0.001       2.874      10.354\n",
       "perimeter              -14.8899      3.980     -3.741      0.000     -22.690      -7.090\n",
       "compactness           -153.9941     44.350     -3.472      0.001    -240.919     -67.070\n",
       "lengthOfKernel          -9.3741      3.187     -2.942      0.003     -15.620      -3.129\n",
       "widthOfKernel            3.2635      5.523      0.591      0.555      -7.562      14.089\n",
       "asymmetryCoefficient     0.4041      0.166      2.428      0.015       0.078       0.730\n",
       "lengthOfKernelGroove     9.1674      1.829      5.012      0.000       5.582      12.753\n",
       "========================================================================================\n",
       "\"\"\""
      ]
     },
     "execution_count": 62,
     "metadata": {},
     "output_type": "execute_result"
    }
   ],
   "source": [
    "log_sm.summary()"
   ]
  },
  {
   "cell_type": "code",
   "execution_count": null,
   "metadata": {},
   "outputs": [],
   "source": []
  }
 ],
 "metadata": {
  "kernelspec": {
   "display_name": "Python 3",
   "language": "python",
   "name": "python3"
  },
  "language_info": {
   "codemirror_mode": {
    "name": "ipython",
    "version": 3
   },
   "file_extension": ".py",
   "mimetype": "text/x-python",
   "name": "python",
   "nbconvert_exporter": "python",
   "pygments_lexer": "ipython3",
   "version": "3.7.4"
  }
 },
 "nbformat": 4,
 "nbformat_minor": 2
}
