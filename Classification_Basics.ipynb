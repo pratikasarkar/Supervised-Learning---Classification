{
  "nbformat": 4,
  "nbformat_minor": 0,
  "metadata": {
    "kernelspec": {
      "display_name": "Python 3",
      "language": "python",
      "name": "python3"
    },
    "language_info": {
      "codemirror_mode": {
        "name": "ipython",
        "version": 3
      },
      "file_extension": ".py",
      "mimetype": "text/x-python",
      "name": "python",
      "nbconvert_exporter": "python",
      "pygments_lexer": "ipython3",
      "version": "3.7.4"
    },
    "colab": {
      "name": "Classification Basics.ipynb",
      "provenance": [],
      "collapsed_sections": [
        "ynzuvvOKi-7q"
      ],
      "include_colab_link": true
    }
  },
  "cells": [
    {
      "cell_type": "markdown",
      "metadata": {
        "id": "view-in-github",
        "colab_type": "text"
      },
      "source": [
        "<a href=\"https://colab.research.google.com/github/pratikasarkar/Supervised-Learning---Classification/blob/master/Classification_Basics.ipynb\" target=\"_parent\"><img src=\"https://colab.research.google.com/assets/colab-badge.svg\" alt=\"Open In Colab\"/></a>"
      ]
    },
    {
      "cell_type": "code",
      "metadata": {
        "id": "fX387LGhi-6e",
        "colab_type": "code",
        "outputId": "7313edce-032c-4f54-f650-22e3dd352004",
        "colab": {
          "base_uri": "https://localhost:8080/",
          "height": 71
        }
      },
      "source": [
        "import numpy as np\n",
        "import pandas as pd\n",
        "import seaborn as sns\n",
        "import matplotlib.pyplot as plt"
      ],
      "execution_count": 0,
      "outputs": [
        {
          "output_type": "stream",
          "text": [
            "/usr/local/lib/python3.6/dist-packages/statsmodels/tools/_testing.py:19: FutureWarning: pandas.util.testing is deprecated. Use the functions in the public API at pandas.testing instead.\n",
            "  import pandas.util.testing as tm\n"
          ],
          "name": "stderr"
        }
      ]
    },
    {
      "cell_type": "markdown",
      "metadata": {
        "id": "HZg82cdwi-6l",
        "colab_type": "text"
      },
      "source": [
        "# Univariate Analysis"
      ]
    },
    {
      "cell_type": "code",
      "metadata": {
        "id": "N4Zu58EIi-6m",
        "colab_type": "code",
        "colab": {}
      },
      "source": [
        "df = pd.DataFrame({'bmi' : [4.5,5.8,6.5,7.0,5.0,6.0,8.6],\n",
        "                'glucose' :[190,220,280,320,200,250,380]})"
      ],
      "execution_count": 0,
      "outputs": []
    },
    {
      "cell_type": "code",
      "metadata": {
        "id": "diSsM80li-6r",
        "colab_type": "code",
        "outputId": "d8a08e06-cb03-4d3d-b4a1-e87a93202a5f",
        "colab": {
          "base_uri": "https://localhost:8080/",
          "height": 266
        }
      },
      "source": [
        "df"
      ],
      "execution_count": 0,
      "outputs": [
        {
          "output_type": "execute_result",
          "data": {
            "text/html": [
              "<div>\n",
              "<style scoped>\n",
              "    .dataframe tbody tr th:only-of-type {\n",
              "        vertical-align: middle;\n",
              "    }\n",
              "\n",
              "    .dataframe tbody tr th {\n",
              "        vertical-align: top;\n",
              "    }\n",
              "\n",
              "    .dataframe thead th {\n",
              "        text-align: right;\n",
              "    }\n",
              "</style>\n",
              "<table border=\"1\" class=\"dataframe\">\n",
              "  <thead>\n",
              "    <tr style=\"text-align: right;\">\n",
              "      <th></th>\n",
              "      <th>bmi</th>\n",
              "      <th>glucose</th>\n",
              "    </tr>\n",
              "  </thead>\n",
              "  <tbody>\n",
              "    <tr>\n",
              "      <th>0</th>\n",
              "      <td>4.5</td>\n",
              "      <td>190</td>\n",
              "    </tr>\n",
              "    <tr>\n",
              "      <th>1</th>\n",
              "      <td>5.8</td>\n",
              "      <td>220</td>\n",
              "    </tr>\n",
              "    <tr>\n",
              "      <th>2</th>\n",
              "      <td>6.5</td>\n",
              "      <td>280</td>\n",
              "    </tr>\n",
              "    <tr>\n",
              "      <th>3</th>\n",
              "      <td>7.0</td>\n",
              "      <td>320</td>\n",
              "    </tr>\n",
              "    <tr>\n",
              "      <th>4</th>\n",
              "      <td>5.0</td>\n",
              "      <td>200</td>\n",
              "    </tr>\n",
              "    <tr>\n",
              "      <th>5</th>\n",
              "      <td>6.0</td>\n",
              "      <td>250</td>\n",
              "    </tr>\n",
              "    <tr>\n",
              "      <th>6</th>\n",
              "      <td>8.6</td>\n",
              "      <td>380</td>\n",
              "    </tr>\n",
              "  </tbody>\n",
              "</table>\n",
              "</div>"
            ],
            "text/plain": [
              "   bmi  glucose\n",
              "0  4.5      190\n",
              "1  5.8      220\n",
              "2  6.5      280\n",
              "3  7.0      320\n",
              "4  5.0      200\n",
              "5  6.0      250\n",
              "6  8.6      380"
            ]
          },
          "metadata": {
            "tags": []
          },
          "execution_count": 3
        }
      ]
    },
    {
      "cell_type": "code",
      "metadata": {
        "id": "AVZ9i2nDi-6x",
        "colab_type": "code",
        "outputId": "1611853d-ba21-42e2-ac91-ed4dffd934df",
        "colab": {
          "base_uri": "https://localhost:8080/",
          "height": 296
        }
      },
      "source": [
        "sns.scatterplot(df['bmi'],df['glucose'])\n",
        "plt.plot([4,9],[200,450],color = 'r',linestyle = 'dashed')\n",
        "plt.plot([4,9],[100,350],color = 'r',linestyle = 'dotted')"
      ],
      "execution_count": 0,
      "outputs": [
        {
          "output_type": "execute_result",
          "data": {
            "text/plain": [
              "[<matplotlib.lines.Line2D at 0x7f0f9d588c88>]"
            ]
          },
          "metadata": {
            "tags": []
          },
          "execution_count": 4
        },
        {
          "output_type": "display_data",
          "data": {
            "image/png": "[encoded data removed]",
            "text/plain": [
              "<Figure size 432x288 with 1 Axes>"
            ]
          },
          "metadata": {
            "tags": [],
            "needs_background": "light"
          }
        }
      ]
    },
    {
      "cell_type": "markdown",
      "metadata": {
        "id": "W8ArkQU3i-62",
        "colab_type": "text"
      },
      "source": [
        "glucose = beta0 + beta1 * bmi"
      ]
    },
    {
      "cell_type": "markdown",
      "metadata": {
        "id": "DRtKBg2ii-63",
        "colab_type": "text"
      },
      "source": [
        "y -> actual points \n",
        "\n",
        "y' -> predicted points on the line"
      ]
    },
    {
      "cell_type": "markdown",
      "metadata": {
        "id": "R2_uZMmCi-64",
        "colab_type": "text"
      },
      "source": [
        "residual = y - y'\n",
        "\n",
        "The difference between actual(y) and the predicted(y') is called a residual"
      ]
    },
    {
      "cell_type": "markdown",
      "metadata": {
        "id": "_yZnDTV7i-65",
        "colab_type": "text"
      },
      "source": [
        "For dashed line, all residuals will be negative.\n",
        "\n",
        "For dotted line, all residuals will be positive.\n",
        "\n",
        "beta1 = covariance of X and y divided by variance of X\n",
        "\n",
        "beta1 = cov(X,y)/var(X)\n",
        "\n",
        "cov(X,y) = sum_1_to_n((X-Xbar)(y-ybar))/n-1\n",
        "\n",
        "var(X) = sum_1_to_n((X-Xbar)**2)/n-1\n",
        "\n",
        "beta0 = ybar - beta1 * Xbar"
      ]
    },
    {
      "cell_type": "code",
      "metadata": {
        "id": "VAnEu2Rei-66",
        "colab_type": "code",
        "colab": {}
      },
      "source": [
        "n_bmi = len(df['bmi'])\n",
        "n_glucose = len(df['glucose'])"
      ],
      "execution_count": 0,
      "outputs": []
    },
    {
      "cell_type": "code",
      "metadata": {
        "id": "5N9REjRli-6-",
        "colab_type": "code",
        "colab": {}
      },
      "source": [
        "cov_bmi_glu = np.sum((df['bmi'] - np.mean(df['bmi']))*(df['glucose'] - np.mean(df['glucose'])))/(n_bmi-1)"
      ],
      "execution_count": 0,
      "outputs": []
    },
    {
      "cell_type": "code",
      "metadata": {
        "id": "ybbK_zDQi-7D",
        "colab_type": "code",
        "colab": {}
      },
      "source": [
        "var_bmi = np.sum((df['bmi'] - np.mean(df['bmi']))**2)/(n_bmi-1)"
      ],
      "execution_count": 0,
      "outputs": []
    },
    {
      "cell_type": "code",
      "metadata": {
        "id": "OVIdnkGSi-7H",
        "colab_type": "code",
        "colab": {}
      },
      "source": [
        "beta1 = cov_bmi_glu/var_bmi"
      ],
      "execution_count": 0,
      "outputs": []
    },
    {
      "cell_type": "code",
      "metadata": {
        "id": "nd082Y1Ri-7K",
        "colab_type": "code",
        "outputId": "84d9f9b0-2f1e-4a7a-9859-6d050d486389",
        "colab": {
          "base_uri": "https://localhost:8080/",
          "height": 34
        }
      },
      "source": [
        "beta1"
      ],
      "execution_count": 0,
      "outputs": [
        {
          "output_type": "execute_result",
          "data": {
            "text/plain": [
              "50.00000000000001"
            ]
          },
          "metadata": {
            "tags": []
          },
          "execution_count": 9
        }
      ]
    },
    {
      "cell_type": "code",
      "metadata": {
        "id": "o1kQG-LBi-7O",
        "colab_type": "code",
        "colab": {}
      },
      "source": [
        "ybar = np.mean(df['glucose'])\n",
        "Xbar = np.mean(df['bmi'])"
      ],
      "execution_count": 0,
      "outputs": []
    },
    {
      "cell_type": "code",
      "metadata": {
        "id": "0STFhTqHi-7T",
        "colab_type": "code",
        "colab": {}
      },
      "source": [
        "beta0 = ybar - beta1 * Xbar"
      ],
      "execution_count": 0,
      "outputs": []
    },
    {
      "cell_type": "code",
      "metadata": {
        "id": "Swb6D2vgi-7Y",
        "colab_type": "code",
        "outputId": "86448a94-060c-400e-ed41-143e526cb67b",
        "colab": {
          "base_uri": "https://localhost:8080/",
          "height": 34
        }
      },
      "source": [
        "beta0"
      ],
      "execution_count": 0,
      "outputs": [
        {
          "output_type": "execute_result",
          "data": {
            "text/plain": [
              "-47.142857142857224"
            ]
          },
          "metadata": {
            "tags": []
          },
          "execution_count": 12
        }
      ]
    },
    {
      "cell_type": "code",
      "metadata": {
        "id": "iJ6wlj_Ki-7c",
        "colab_type": "code",
        "colab": {}
      },
      "source": [
        "glu_predict = beta0 + beta1 * df['bmi']"
      ],
      "execution_count": 0,
      "outputs": []
    },
    {
      "cell_type": "code",
      "metadata": {
        "id": "sPulicYci-7f",
        "colab_type": "code",
        "outputId": "ea9deb85-5b6c-44f1-d9bd-c7d944b7cd7d",
        "colab": {
          "base_uri": "https://localhost:8080/",
          "height": 153
        }
      },
      "source": [
        "glu_predict"
      ],
      "execution_count": 0,
      "outputs": [
        {
          "output_type": "execute_result",
          "data": {
            "text/plain": [
              "0    177.857143\n",
              "1    242.857143\n",
              "2    277.857143\n",
              "3    302.857143\n",
              "4    202.857143\n",
              "5    252.857143\n",
              "6    382.857143\n",
              "Name: bmi, dtype: float64"
            ]
          },
          "metadata": {
            "tags": []
          },
          "execution_count": 14
        }
      ]
    },
    {
      "cell_type": "code",
      "metadata": {
        "id": "FvDAmozEi-7m",
        "colab_type": "code",
        "outputId": "492cf85c-aef2-4b46-87a0-512f240bbde0",
        "colab": {
          "base_uri": "https://localhost:8080/",
          "height": 296
        }
      },
      "source": [
        "sns.scatterplot(df['bmi'],df['glucose'])\n",
        "sns.lineplot(df['bmi'],glu_predict,color = 'g')"
      ],
      "execution_count": 0,
      "outputs": [
        {
          "output_type": "execute_result",
          "data": {
            "text/plain": [
              "<matplotlib.axes._subplots.AxesSubplot at 0x7f0f81a5d7f0>"
            ]
          },
          "metadata": {
            "tags": []
          },
          "execution_count": 15
        },
        {
          "output_type": "display_data",
          "data": {
            "image/png": "[encoded data removed]",
            "text/plain": [
              "<Figure size 432x288 with 1 Axes>"
            ]
          },
          "metadata": {
            "tags": [],
            "needs_background": "light"
          }
        }
      ]
    },
    {
      "cell_type": "markdown",
      "metadata": {
        "id": "ynzuvvOKi-7q",
        "colab_type": "text"
      },
      "source": [
        "### Verification using the sklearn model"
      ]
    },
    {
      "cell_type": "code",
      "metadata": {
        "id": "YmKjsRv_i-7r",
        "colab_type": "code",
        "colab": {}
      },
      "source": [
        "from sklearn.linear_model import LinearRegression\n",
        "lr = LinearRegression()"
      ],
      "execution_count": 0,
      "outputs": []
    },
    {
      "cell_type": "code",
      "metadata": {
        "id": "6VAbVWdTi-7w",
        "colab_type": "code",
        "outputId": "5b293a18-2ff2-49f9-ed5b-0309fee0104a",
        "colab": {
          "base_uri": "https://localhost:8080/"
        }
      },
      "source": [
        "lr.fit(df[['bmi']],df['glucose'])"
      ],
      "execution_count": 0,
      "outputs": [
        {
          "output_type": "execute_result",
          "data": {
            "text/plain": [
              "LinearRegression(copy_X=True, fit_intercept=True, n_jobs=None, normalize=False)"
            ]
          },
          "metadata": {
            "tags": []
          },
          "execution_count": 17
        }
      ]
    },
    {
      "cell_type": "code",
      "metadata": {
        "id": "4m0oIyrNi-73",
        "colab_type": "code",
        "outputId": "15cf0ccf-b1d9-46f5-a1f9-d8ef9a63c8a9",
        "colab": {
          "base_uri": "https://localhost:8080/"
        }
      },
      "source": [
        "lr.coef_"
      ],
      "execution_count": 0,
      "outputs": [
        {
          "output_type": "execute_result",
          "data": {
            "text/plain": [
              "array([50.])"
            ]
          },
          "metadata": {
            "tags": []
          },
          "execution_count": 18
        }
      ]
    },
    {
      "cell_type": "code",
      "metadata": {
        "id": "WZetQ4lri-76",
        "colab_type": "code",
        "outputId": "3cf68487-5f03-4cd4-ce64-02fcc313a5b2",
        "colab": {
          "base_uri": "https://localhost:8080/"
        }
      },
      "source": [
        "lr.intercept_"
      ],
      "execution_count": 0,
      "outputs": [
        {
          "output_type": "execute_result",
          "data": {
            "text/plain": [
              "-47.14285714285728"
            ]
          },
          "metadata": {
            "tags": []
          },
          "execution_count": 19
        }
      ]
    },
    {
      "cell_type": "code",
      "metadata": {
        "id": "JzuK3Bo2i-79",
        "colab_type": "code",
        "outputId": "44cfaf96-5dbd-41de-cdcb-007ad87ca946",
        "colab": {
          "base_uri": "https://localhost:8080/"
        }
      },
      "source": [
        "lr.predict(df[['bmi']])"
      ],
      "execution_count": 0,
      "outputs": [
        {
          "output_type": "execute_result",
          "data": {
            "text/plain": [
              "array([177.85714286, 242.85714286, 277.85714286, 302.85714286,\n",
              "       202.85714286, 252.85714286, 382.85714286])"
            ]
          },
          "metadata": {
            "tags": []
          },
          "execution_count": 20
        }
      ]
    },
    {
      "cell_type": "markdown",
      "metadata": {
        "id": "wdk80R0Di-8A",
        "colab_type": "text"
      },
      "source": [
        "For feature selection, correlation matrix will just give us how strongly the variables are correlated with each other, but the final decision whether to keep a variable or drop a variable should be taken by p-value in the ols summary."
      ]
    },
    {
      "cell_type": "markdown",
      "metadata": {
        "id": "vWI6P8TJi-8B",
        "colab_type": "text"
      },
      "source": [
        "For Regreesion model, we calculate the measures like rmse, r-squared and adjusted rsquared.\n",
        "\n",
        "For binary classification, we calculate accuracy,confusion matrix,classification report and ROC AUC curve.\n",
        "\n",
        "For multiclass classification, we calculate accuracy,confusion matrix,classification report and f1-score."
      ]
    },
    {
      "cell_type": "markdown",
      "metadata": {
        "id": "st0053Dli-8C",
        "colab_type": "text"
      },
      "source": [
        "##### We will be working on differnt models for regression and classification, but we need to choose the best model for our clients. \n",
        "\n",
        "##### So for final performance validation, for regression we use RMSE.\n",
        "\n",
        "##### For binary classification we use AUC and for multiclass classification we use F1-SCORE"
      ]
    },
    {
      "cell_type": "markdown",
      "metadata": {
        "id": "dh4N-1gni-8C",
        "colab_type": "text"
      },
      "source": [
        "# Adding a categorical value for y (dependent variable)"
      ]
    },
    {
      "cell_type": "code",
      "metadata": {
        "id": "LZtr6pM6i-8D",
        "colab_type": "code",
        "colab": {}
      },
      "source": [
        "df['outcome'] = [0,0,1,1,0,0,1]"
      ],
      "execution_count": 0,
      "outputs": []
    },
    {
      "cell_type": "code",
      "metadata": {
        "id": "c43_JyEXi-8G",
        "colab_type": "code",
        "outputId": "ebc65645-caeb-4c17-c0ae-0f1c49c750e0",
        "colab": {
          "base_uri": "https://localhost:8080/",
          "height": 266
        }
      },
      "source": [
        "df"
      ],
      "execution_count": 0,
      "outputs": [
        {
          "output_type": "execute_result",
          "data": {
            "text/html": [
              "<div>\n",
              "<style scoped>\n",
              "    .dataframe tbody tr th:only-of-type {\n",
              "        vertical-align: middle;\n",
              "    }\n",
              "\n",
              "    .dataframe tbody tr th {\n",
              "        vertical-align: top;\n",
              "    }\n",
              "\n",
              "    .dataframe thead th {\n",
              "        text-align: right;\n",
              "    }\n",
              "</style>\n",
              "<table border=\"1\" class=\"dataframe\">\n",
              "  <thead>\n",
              "    <tr style=\"text-align: right;\">\n",
              "      <th></th>\n",
              "      <th>bmi</th>\n",
              "      <th>glucose</th>\n",
              "      <th>outcome</th>\n",
              "    </tr>\n",
              "  </thead>\n",
              "  <tbody>\n",
              "    <tr>\n",
              "      <th>0</th>\n",
              "      <td>4.5</td>\n",
              "      <td>190</td>\n",
              "      <td>0</td>\n",
              "    </tr>\n",
              "    <tr>\n",
              "      <th>1</th>\n",
              "      <td>5.8</td>\n",
              "      <td>220</td>\n",
              "      <td>0</td>\n",
              "    </tr>\n",
              "    <tr>\n",
              "      <th>2</th>\n",
              "      <td>6.5</td>\n",
              "      <td>280</td>\n",
              "      <td>1</td>\n",
              "    </tr>\n",
              "    <tr>\n",
              "      <th>3</th>\n",
              "      <td>7.0</td>\n",
              "      <td>320</td>\n",
              "      <td>1</td>\n",
              "    </tr>\n",
              "    <tr>\n",
              "      <th>4</th>\n",
              "      <td>5.0</td>\n",
              "      <td>200</td>\n",
              "      <td>0</td>\n",
              "    </tr>\n",
              "    <tr>\n",
              "      <th>5</th>\n",
              "      <td>6.0</td>\n",
              "      <td>250</td>\n",
              "      <td>0</td>\n",
              "    </tr>\n",
              "    <tr>\n",
              "      <th>6</th>\n",
              "      <td>8.6</td>\n",
              "      <td>380</td>\n",
              "      <td>1</td>\n",
              "    </tr>\n",
              "  </tbody>\n",
              "</table>\n",
              "</div>"
            ],
            "text/plain": [
              "   bmi  glucose  outcome\n",
              "0  4.5      190        0\n",
              "1  5.8      220        0\n",
              "2  6.5      280        1\n",
              "3  7.0      320        1\n",
              "4  5.0      200        0\n",
              "5  6.0      250        0\n",
              "6  8.6      380        1"
            ]
          },
          "metadata": {
            "tags": []
          },
          "execution_count": 22
        }
      ]
    },
    {
      "cell_type": "code",
      "metadata": {
        "id": "MM9L_qhci-8K",
        "colab_type": "code",
        "colab": {}
      },
      "source": [
        "n_outcome = len(df['outcome'])"
      ],
      "execution_count": 0,
      "outputs": []
    },
    {
      "cell_type": "code",
      "metadata": {
        "id": "CS-KUMAHi-8Q",
        "colab_type": "code",
        "colab": {}
      },
      "source": [
        "cov_bmi_outcome = np.sum((df['bmi'] - np.mean(df['bmi']))*(df['outcome'] - np.mean(df['outcome'])))/(n_bmi-1)"
      ],
      "execution_count": 0,
      "outputs": []
    },
    {
      "cell_type": "code",
      "metadata": {
        "id": "4EuE0I4Fi-8U",
        "colab_type": "code",
        "colab": {}
      },
      "source": [
        "beta1 = cov_bmi_outcome/var_bmi"
      ],
      "execution_count": 0,
      "outputs": []
    },
    {
      "cell_type": "code",
      "metadata": {
        "scrolled": true,
        "id": "zl4UxwAqi-8X",
        "colab_type": "code",
        "outputId": "aaeb227a-799e-4f40-ac22-7e98a8669c0e",
        "colab": {
          "base_uri": "https://localhost:8080/",
          "height": 34
        }
      },
      "source": [
        "beta1"
      ],
      "execution_count": 0,
      "outputs": [
        {
          "output_type": "execute_result",
          "data": {
            "text/plain": [
              "0.3176043557168785"
            ]
          },
          "metadata": {
            "tags": []
          },
          "execution_count": 26
        }
      ]
    },
    {
      "cell_type": "code",
      "metadata": {
        "id": "sn1CP7Oti-8a",
        "colab_type": "code",
        "colab": {}
      },
      "source": [
        "ybar = np.mean(df['outcome'])\n",
        "Xbar = np.mean(df['bmi'])"
      ],
      "execution_count": 0,
      "outputs": []
    },
    {
      "cell_type": "code",
      "metadata": {
        "id": "egVfjhBai-8e",
        "colab_type": "code",
        "colab": {}
      },
      "source": [
        "beta0 = ybar - beta1 * Xbar"
      ],
      "execution_count": 0,
      "outputs": []
    },
    {
      "cell_type": "code",
      "metadata": {
        "id": "BBCyRvGei-8h",
        "colab_type": "code",
        "outputId": "b139090e-ee40-49f8-cbc9-53e456ced6ee",
        "colab": {
          "base_uri": "https://localhost:8080/",
          "height": 34
        }
      },
      "source": [
        "beta0"
      ],
      "execution_count": 0,
      "outputs": [
        {
          "output_type": "execute_result",
          "data": {
            "text/plain": [
              "-1.540575576873218"
            ]
          },
          "metadata": {
            "tags": []
          },
          "execution_count": 29
        }
      ]
    },
    {
      "cell_type": "code",
      "metadata": {
        "id": "cpFOrLgri-8k",
        "colab_type": "code",
        "colab": {}
      },
      "source": [
        "outcome_predict = beta0 + beta1 * df['bmi']"
      ],
      "execution_count": 0,
      "outputs": []
    },
    {
      "cell_type": "code",
      "metadata": {
        "id": "t-wUtf_7i-8n",
        "colab_type": "code",
        "outputId": "bd9b2425-7e65-4c93-f6e6-8b83d7312769",
        "colab": {
          "base_uri": "https://localhost:8080/",
          "height": 153
        }
      },
      "source": [
        "outcome_predict"
      ],
      "execution_count": 0,
      "outputs": [
        {
          "output_type": "execute_result",
          "data": {
            "text/plain": [
              "0   -0.111356\n",
              "1    0.301530\n",
              "2    0.523853\n",
              "3    0.682655\n",
              "4    0.047446\n",
              "5    0.365051\n",
              "6    1.190822\n",
              "Name: bmi, dtype: float64"
            ]
          },
          "metadata": {
            "tags": []
          },
          "execution_count": 31
        }
      ]
    },
    {
      "cell_type": "markdown",
      "metadata": {
        "id": "vH5cf3pAi-8r",
        "colab_type": "text"
      },
      "source": [
        "## Squashing / Sigmoid / Logistic function\n",
        "\n",
        "#### y = 1 / ( 1 + e^-(beta0 + beta1 * X) )\n",
        "\n",
        "![alt text](https://upload.wikimedia.org/wikipedia/commons/8/88/Logistic-curve.svg)"
      ]
    },
    {
      "cell_type": "code",
      "metadata": {
        "id": "znqWs1qCi-8r",
        "colab_type": "code",
        "outputId": "8ffe176b-a428-48ef-e0ca-cd21ee4ebf89",
        "colab": {
          "base_uri": "https://localhost:8080/",
          "height": 153
        }
      },
      "source": [
        "outcome_pred_prob = 1/(1+ np.exp(-outcome_predict))\n",
        "outcome_pred_prob"
      ],
      "execution_count": 0,
      "outputs": [
        {
          "output_type": "execute_result",
          "data": {
            "text/plain": [
              "0    0.472190\n",
              "1    0.574816\n",
              "2    0.628048\n",
              "3    0.664331\n",
              "4    0.511859\n",
              "5    0.590262\n",
              "6    0.766888\n",
              "Name: bmi, dtype: float64"
            ]
          },
          "metadata": {
            "tags": []
          },
          "execution_count": 32
        }
      ]
    },
    {
      "cell_type": "code",
      "metadata": {
        "id": "nBzli6M8i-8u",
        "colab_type": "code",
        "outputId": "0df667cd-14af-4515-cb95-57aaf8c4098c",
        "colab": {
          "base_uri": "https://localhost:8080/",
          "height": 34
        }
      },
      "source": [
        "outcome_pred = []\n",
        "for val in outcome_pred_prob:\n",
        "    if val > np.mean(outcome_pred_prob):\n",
        "        outcome_pred.append(1)\n",
        "    else:\n",
        "        outcome_pred.append(0)\n",
        "outcome_pred"
      ],
      "execution_count": 0,
      "outputs": [
        {
          "output_type": "execute_result",
          "data": {
            "text/plain": [
              "[0, 0, 1, 1, 0, 0, 1]"
            ]
          },
          "metadata": {
            "tags": []
          },
          "execution_count": 33
        }
      ]
    },
    {
      "cell_type": "code",
      "metadata": {
        "id": "7XNDdKDCi-8y",
        "colab_type": "code",
        "colab": {}
      },
      "source": [
        "# from google.colab import drive\n",
        "# drive.mount('/content/gdrive')"
      ],
      "execution_count": 0,
      "outputs": []
    },
    {
      "cell_type": "code",
      "metadata": {
        "id": "FMGeTv1-kZS6",
        "colab_type": "code",
        "colab": {}
      },
      "source": [
        "df = pd.read_csv('/content/gdrive/My Drive/US_Heart_Patients.csv')"
      ],
      "execution_count": 0,
      "outputs": []
    },
    {
      "cell_type": "code",
      "metadata": {
        "id": "c83SlNqXlS4l",
        "colab_type": "code",
        "outputId": "7d487f9d-24de-436a-9ccf-36e5d744d07f",
        "colab": {
          "base_uri": "https://localhost:8080/",
          "height": 34
        }
      },
      "source": [
        "df.shape"
      ],
      "execution_count": 0,
      "outputs": [
        {
          "output_type": "execute_result",
          "data": {
            "text/plain": [
              "(4240, 16)"
            ]
          },
          "metadata": {
            "tags": []
          },
          "execution_count": 36
        }
      ]
    },
    {
      "cell_type": "code",
      "metadata": {
        "id": "Uh7PZrmNl2GF",
        "colab_type": "code",
        "colab": {}
      },
      "source": [
        "import statsmodels.api as sm"
      ],
      "execution_count": 0,
      "outputs": []
    },
    {
      "cell_type": "code",
      "metadata": {
        "id": "QofeBJe6l6kx",
        "colab_type": "code",
        "outputId": "3446d09c-27fb-4e2a-b132-2e53e2b1f82f",
        "colab": {
          "base_uri": "https://localhost:8080/",
          "height": 204
        }
      },
      "source": [
        "df.head()"
      ],
      "execution_count": 0,
      "outputs": [
        {
          "output_type": "execute_result",
          "data": {
            "text/html": [
              "<div>\n",
              "<style scoped>\n",
              "    .dataframe tbody tr th:only-of-type {\n",
              "        vertical-align: middle;\n",
              "    }\n",
              "\n",
              "    .dataframe tbody tr th {\n",
              "        vertical-align: top;\n",
              "    }\n",
              "\n",
              "    .dataframe thead th {\n",
              "        text-align: right;\n",
              "    }\n",
              "</style>\n",
              "<table border=\"1\" class=\"dataframe\">\n",
              "  <thead>\n",
              "    <tr style=\"text-align: right;\">\n",
              "      <th></th>\n",
              "      <th>male</th>\n",
              "      <th>age</th>\n",
              "      <th>education</th>\n",
              "      <th>currentSmoker</th>\n",
              "      <th>cigsPerDay</th>\n",
              "      <th>BPMeds</th>\n",
              "      <th>prevalentStroke</th>\n",
              "      <th>prevalentHyp</th>\n",
              "      <th>diabetes</th>\n",
              "      <th>totChol</th>\n",
              "      <th>sysBP</th>\n",
              "      <th>diaBP</th>\n",
              "      <th>BMI</th>\n",
              "      <th>heartRate</th>\n",
              "      <th>glucose</th>\n",
              "      <th>TenYearCHD</th>\n",
              "    </tr>\n",
              "  </thead>\n",
              "  <tbody>\n",
              "    <tr>\n",
              "      <th>0</th>\n",
              "      <td>1</td>\n",
              "      <td>39</td>\n",
              "      <td>4.0</td>\n",
              "      <td>0</td>\n",
              "      <td>0.0</td>\n",
              "      <td>0.0</td>\n",
              "      <td>0</td>\n",
              "      <td>0</td>\n",
              "      <td>0</td>\n",
              "      <td>195.0</td>\n",
              "      <td>106.0</td>\n",
              "      <td>70.0</td>\n",
              "      <td>26.97</td>\n",
              "      <td>80.0</td>\n",
              "      <td>77.0</td>\n",
              "      <td>0</td>\n",
              "    </tr>\n",
              "    <tr>\n",
              "      <th>1</th>\n",
              "      <td>0</td>\n",
              "      <td>46</td>\n",
              "      <td>2.0</td>\n",
              "      <td>0</td>\n",
              "      <td>0.0</td>\n",
              "      <td>0.0</td>\n",
              "      <td>0</td>\n",
              "      <td>0</td>\n",
              "      <td>0</td>\n",
              "      <td>250.0</td>\n",
              "      <td>121.0</td>\n",
              "      <td>81.0</td>\n",
              "      <td>28.73</td>\n",
              "      <td>95.0</td>\n",
              "      <td>76.0</td>\n",
              "      <td>0</td>\n",
              "    </tr>\n",
              "    <tr>\n",
              "      <th>2</th>\n",
              "      <td>1</td>\n",
              "      <td>48</td>\n",
              "      <td>1.0</td>\n",
              "      <td>1</td>\n",
              "      <td>20.0</td>\n",
              "      <td>0.0</td>\n",
              "      <td>0</td>\n",
              "      <td>0</td>\n",
              "      <td>0</td>\n",
              "      <td>245.0</td>\n",
              "      <td>127.5</td>\n",
              "      <td>80.0</td>\n",
              "      <td>25.34</td>\n",
              "      <td>75.0</td>\n",
              "      <td>70.0</td>\n",
              "      <td>0</td>\n",
              "    </tr>\n",
              "    <tr>\n",
              "      <th>3</th>\n",
              "      <td>0</td>\n",
              "      <td>61</td>\n",
              "      <td>3.0</td>\n",
              "      <td>1</td>\n",
              "      <td>30.0</td>\n",
              "      <td>0.0</td>\n",
              "      <td>0</td>\n",
              "      <td>1</td>\n",
              "      <td>0</td>\n",
              "      <td>225.0</td>\n",
              "      <td>150.0</td>\n",
              "      <td>95.0</td>\n",
              "      <td>28.58</td>\n",
              "      <td>65.0</td>\n",
              "      <td>103.0</td>\n",
              "      <td>1</td>\n",
              "    </tr>\n",
              "    <tr>\n",
              "      <th>4</th>\n",
              "      <td>0</td>\n",
              "      <td>46</td>\n",
              "      <td>3.0</td>\n",
              "      <td>1</td>\n",
              "      <td>23.0</td>\n",
              "      <td>0.0</td>\n",
              "      <td>0</td>\n",
              "      <td>0</td>\n",
              "      <td>0</td>\n",
              "      <td>285.0</td>\n",
              "      <td>130.0</td>\n",
              "      <td>84.0</td>\n",
              "      <td>23.10</td>\n",
              "      <td>85.0</td>\n",
              "      <td>85.0</td>\n",
              "      <td>0</td>\n",
              "    </tr>\n",
              "  </tbody>\n",
              "</table>\n",
              "</div>"
            ],
            "text/plain": [
              "   male  age  education  currentSmoker  ...    BMI  heartRate  glucose  TenYearCHD\n",
              "0     1   39        4.0              0  ...  26.97       80.0     77.0           0\n",
              "1     0   46        2.0              0  ...  28.73       95.0     76.0           0\n",
              "2     1   48        1.0              1  ...  25.34       75.0     70.0           0\n",
              "3     0   61        3.0              1  ...  28.58       65.0    103.0           1\n",
              "4     0   46        3.0              1  ...  23.10       85.0     85.0           0\n",
              "\n",
              "[5 rows x 16 columns]"
            ]
          },
          "metadata": {
            "tags": []
          },
          "execution_count": 38
        }
      ]
    },
    {
      "cell_type": "code",
      "metadata": {
        "id": "dH3YmE9rmG7N",
        "colab_type": "code",
        "outputId": "bf579373-b8f5-4e8e-d132-bb410811e1ce",
        "colab": {
          "base_uri": "https://localhost:8080/",
          "height": 408
        }
      },
      "source": [
        "df.info()"
      ],
      "execution_count": 0,
      "outputs": [
        {
          "output_type": "stream",
          "text": [
            "<class 'pandas.core.frame.DataFrame'>\n",
            "RangeIndex: 4240 entries, 0 to 4239\n",
            "Data columns (total 16 columns):\n",
            " #   Column           Non-Null Count  Dtype  \n",
            "---  ------           --------------  -----  \n",
            " 0   male             4240 non-null   int64  \n",
            " 1   age              4240 non-null   int64  \n",
            " 2   education        4135 non-null   float64\n",
            " 3   currentSmoker    4240 non-null   int64  \n",
            " 4   cigsPerDay       4211 non-null   float64\n",
            " 5   BPMeds           4187 non-null   float64\n",
            " 6   prevalentStroke  4240 non-null   int64  \n",
            " 7   prevalentHyp     4240 non-null   int64  \n",
            " 8   diabetes         4240 non-null   int64  \n",
            " 9   totChol          4190 non-null   float64\n",
            " 10  sysBP            4240 non-null   float64\n",
            " 11  diaBP            4240 non-null   float64\n",
            " 12  BMI              4221 non-null   float64\n",
            " 13  heartRate        4239 non-null   float64\n",
            " 14  glucose          3852 non-null   float64\n",
            " 15  TenYearCHD       4240 non-null   int64  \n",
            "dtypes: float64(9), int64(7)\n",
            "memory usage: 530.1 KB\n"
          ],
          "name": "stdout"
        }
      ]
    },
    {
      "cell_type": "code",
      "metadata": {
        "id": "a0f3kP1ZmgJu",
        "colab_type": "code",
        "outputId": "0c0fae0b-ea43-4188-8d84-ec0d57a3a86a",
        "colab": {
          "base_uri": "https://localhost:8080/",
          "height": 306
        }
      },
      "source": [
        "df.isnull().sum()"
      ],
      "execution_count": 0,
      "outputs": [
        {
          "output_type": "execute_result",
          "data": {
            "text/plain": [
              "male                 0\n",
              "age                  0\n",
              "education          105\n",
              "currentSmoker        0\n",
              "cigsPerDay          29\n",
              "BPMeds              53\n",
              "prevalentStroke      0\n",
              "prevalentHyp         0\n",
              "diabetes             0\n",
              "totChol             50\n",
              "sysBP                0\n",
              "diaBP                0\n",
              "BMI                 19\n",
              "heartRate            1\n",
              "glucose            388\n",
              "TenYearCHD           0\n",
              "dtype: int64"
            ]
          },
          "metadata": {
            "tags": []
          },
          "execution_count": 40
        }
      ]
    },
    {
      "cell_type": "code",
      "metadata": {
        "id": "cASDU1ehms89",
        "colab_type": "code",
        "colab": {}
      },
      "source": [
        "df2 = df.dropna()"
      ],
      "execution_count": 0,
      "outputs": []
    },
    {
      "cell_type": "code",
      "metadata": {
        "id": "loiIMLjJm8HA",
        "colab_type": "code",
        "outputId": "cebfe16f-d0c5-458a-b564-a9b53cce1964",
        "colab": {
          "base_uri": "https://localhost:8080/",
          "height": 34
        }
      },
      "source": [
        "df.shape[0] - df2.shape[0]"
      ],
      "execution_count": 0,
      "outputs": [
        {
          "output_type": "execute_result",
          "data": {
            "text/plain": [
              "582"
            ]
          },
          "metadata": {
            "tags": []
          },
          "execution_count": 42
        }
      ]
    },
    {
      "cell_type": "code",
      "metadata": {
        "id": "e7NMC6qL396f",
        "colab_type": "code",
        "outputId": "951a007e-c033-4a2c-f7c4-dcdd70c1941c",
        "colab": {
          "base_uri": "https://localhost:8080/",
          "height": 102
        }
      },
      "source": [
        "df2.rename(columns={'male':'Gender'},inplace=True)"
      ],
      "execution_count": 0,
      "outputs": [
        {
          "output_type": "stream",
          "text": [
            "/usr/local/lib/python3.6/dist-packages/pandas/core/frame.py:4133: SettingWithCopyWarning: \n",
            "A value is trying to be set on a copy of a slice from a DataFrame\n",
            "\n",
            "See the caveats in the documentation: https://pandas.pydata.org/pandas-docs/stable/user_guide/indexing.html#returning-a-view-versus-a-copy\n",
            "  errors=errors,\n"
          ],
          "name": "stderr"
        }
      ]
    },
    {
      "cell_type": "code",
      "metadata": {
        "id": "xT0XSa3s3A2p",
        "colab_type": "code",
        "outputId": "4fb67a45-80e5-4453-e18d-90f04de8e062",
        "colab": {
          "base_uri": "https://localhost:8080/",
          "height": 514
        }
      },
      "source": [
        "plt.figure(figsize=(13,7))\n",
        "sns.heatmap(df2.corr(),annot = True,cbar=False)"
      ],
      "execution_count": 0,
      "outputs": [
        {
          "output_type": "execute_result",
          "data": {
            "text/plain": [
              "<matplotlib.axes._subplots.AxesSubplot at 0x7f0f7d4a20f0>"
            ]
          },
          "metadata": {
            "tags": []
          },
          "execution_count": 44
        },
        {
          "output_type": "display_data",
          "data": {
            "image/png": "[encoded data removed]",
            "text/plain": [
              "<Figure size 936x504 with 1 Axes>"
            ]
          },
          "metadata": {
            "tags": [],
            "needs_background": "light"
          }
        }
      ]
    },
    {
      "cell_type": "code",
      "metadata": {
        "id": "idetRuDc3Ceg",
        "colab_type": "code",
        "colab": {}
      },
      "source": [
        "X = df2.drop('TenYearCHD',axis=1)"
      ],
      "execution_count": 0,
      "outputs": []
    },
    {
      "cell_type": "code",
      "metadata": {
        "id": "nUjSRdzo6ZXP",
        "colab_type": "code",
        "outputId": "433b59e2-6135-4daa-fece-5b400fc51913",
        "colab": {
          "base_uri": "https://localhost:8080/",
          "height": 34
        }
      },
      "source": [
        "X.shape"
      ],
      "execution_count": 0,
      "outputs": [
        {
          "output_type": "execute_result",
          "data": {
            "text/plain": [
              "(3658, 15)"
            ]
          },
          "metadata": {
            "tags": []
          },
          "execution_count": 46
        }
      ]
    },
    {
      "cell_type": "code",
      "metadata": {
        "id": "QSBkfh2Y6Z8l",
        "colab_type": "code",
        "colab": {}
      },
      "source": [
        "y = df2['TenYearCHD']"
      ],
      "execution_count": 0,
      "outputs": []
    },
    {
      "cell_type": "code",
      "metadata": {
        "id": "pR6ijQu06iJd",
        "colab_type": "code",
        "colab": {}
      },
      "source": [
        "Xc = sm.add_constant(X)"
      ],
      "execution_count": 0,
      "outputs": []
    },
    {
      "cell_type": "code",
      "metadata": {
        "id": "JWr5FDp8637V",
        "colab_type": "code",
        "outputId": "c24acf39-a70f-4ef2-ba0a-848b248da118",
        "colab": {
          "base_uri": "https://localhost:8080/",
          "height": 593
        }
      },
      "source": [
        "model = sm.Logit(y,Xc).fit()\n",
        "model.summary()"
      ],
      "execution_count": 0,
      "outputs": [
        {
          "output_type": "stream",
          "text": [
            "Optimization terminated successfully.\n",
            "         Current function value: 0.376500\n",
            "         Iterations 7\n"
          ],
          "name": "stdout"
        },
        {
          "output_type": "execute_result",
          "data": {
            "text/html": [
              "<table class=\"simpletable\">\n",
              "<caption>Logit Regression Results</caption>\n",
              "<tr>\n",
              "  <th>Dep. Variable:</th>      <td>TenYearCHD</td>    <th>  No. Observations:  </th>  <td>  3658</td>  \n",
              "</tr>\n",
              "<tr>\n",
              "  <th>Model:</th>                 <td>Logit</td>      <th>  Df Residuals:      </th>  <td>  3642</td>  \n",
              "</tr>\n",
              "<tr>\n",
              "  <th>Method:</th>                 <td>MLE</td>       <th>  Df Model:          </th>  <td>    15</td>  \n",
              "</tr>\n",
              "<tr>\n",
              "  <th>Date:</th>            <td>Mon, 20 Apr 2020</td> <th>  Pseudo R-squ.:     </th>  <td>0.1175</td>  \n",
              "</tr>\n",
              "<tr>\n",
              "  <th>Time:</th>                <td>13:13:32</td>     <th>  Log-Likelihood:    </th> <td> -1377.2</td> \n",
              "</tr>\n",
              "<tr>\n",
              "  <th>converged:</th>             <td>True</td>       <th>  LL-Null:           </th> <td> -1560.6</td> \n",
              "</tr>\n",
              "<tr>\n",
              "  <th>Covariance Type:</th>     <td>nonrobust</td>    <th>  LLR p-value:       </th> <td>6.676e-69</td>\n",
              "</tr>\n",
              "</table>\n",
              "<table class=\"simpletable\">\n",
              "<tr>\n",
              "         <td></td>            <th>coef</th>     <th>std err</th>      <th>z</th>      <th>P>|z|</th>  <th>[0.025</th>    <th>0.975]</th>  \n",
              "</tr>\n",
              "<tr>\n",
              "  <th>const</th>           <td>   -8.3282</td> <td>    0.715</td> <td>  -11.640</td> <td> 0.000</td> <td>   -9.730</td> <td>   -6.926</td>\n",
              "</tr>\n",
              "<tr>\n",
              "  <th>Gender</th>          <td>    0.5553</td> <td>    0.109</td> <td>    5.093</td> <td> 0.000</td> <td>    0.342</td> <td>    0.769</td>\n",
              "</tr>\n",
              "<tr>\n",
              "  <th>age</th>             <td>    0.0635</td> <td>    0.007</td> <td>    9.509</td> <td> 0.000</td> <td>    0.050</td> <td>    0.077</td>\n",
              "</tr>\n",
              "<tr>\n",
              "  <th>education</th>       <td>   -0.0478</td> <td>    0.049</td> <td>   -0.967</td> <td> 0.334</td> <td>   -0.145</td> <td>    0.049</td>\n",
              "</tr>\n",
              "<tr>\n",
              "  <th>currentSmoker</th>   <td>    0.0716</td> <td>    0.157</td> <td>    0.457</td> <td> 0.648</td> <td>   -0.236</td> <td>    0.379</td>\n",
              "</tr>\n",
              "<tr>\n",
              "  <th>cigsPerDay</th>      <td>    0.0179</td> <td>    0.006</td> <td>    2.872</td> <td> 0.004</td> <td>    0.006</td> <td>    0.030</td>\n",
              "</tr>\n",
              "<tr>\n",
              "  <th>BPMeds</th>          <td>    0.1625</td> <td>    0.234</td> <td>    0.693</td> <td> 0.488</td> <td>   -0.297</td> <td>    0.622</td>\n",
              "</tr>\n",
              "<tr>\n",
              "  <th>prevalentStroke</th> <td>    0.6937</td> <td>    0.490</td> <td>    1.417</td> <td> 0.157</td> <td>   -0.266</td> <td>    1.653</td>\n",
              "</tr>\n",
              "<tr>\n",
              "  <th>prevalentHyp</th>    <td>    0.2342</td> <td>    0.138</td> <td>    1.697</td> <td> 0.090</td> <td>   -0.036</td> <td>    0.505</td>\n",
              "</tr>\n",
              "<tr>\n",
              "  <th>diabetes</th>        <td>    0.0392</td> <td>    0.316</td> <td>    0.124</td> <td> 0.901</td> <td>   -0.579</td> <td>    0.658</td>\n",
              "</tr>\n",
              "<tr>\n",
              "  <th>totChol</th>         <td>    0.0023</td> <td>    0.001</td> <td>    2.070</td> <td> 0.038</td> <td>    0.000</td> <td>    0.005</td>\n",
              "</tr>\n",
              "<tr>\n",
              "  <th>sysBP</th>           <td>    0.0154</td> <td>    0.004</td> <td>    4.044</td> <td> 0.000</td> <td>    0.008</td> <td>    0.023</td>\n",
              "</tr>\n",
              "<tr>\n",
              "  <th>diaBP</th>           <td>   -0.0042</td> <td>    0.006</td> <td>   -0.646</td> <td> 0.518</td> <td>   -0.017</td> <td>    0.008</td>\n",
              "</tr>\n",
              "<tr>\n",
              "  <th>BMI</th>             <td>    0.0067</td> <td>    0.013</td> <td>    0.523</td> <td> 0.601</td> <td>   -0.018</td> <td>    0.032</td>\n",
              "</tr>\n",
              "<tr>\n",
              "  <th>heartRate</th>       <td>   -0.0032</td> <td>    0.004</td> <td>   -0.771</td> <td> 0.441</td> <td>   -0.012</td> <td>    0.005</td>\n",
              "</tr>\n",
              "<tr>\n",
              "  <th>glucose</th>         <td>    0.0071</td> <td>    0.002</td> <td>    3.190</td> <td> 0.001</td> <td>    0.003</td> <td>    0.012</td>\n",
              "</tr>\n",
              "</table>"
            ],
            "text/plain": [
              "<class 'statsmodels.iolib.summary.Summary'>\n",
              "\"\"\"\n",
              "                           Logit Regression Results                           \n",
              "==============================================================================\n",
              "Dep. Variable:             TenYearCHD   No. Observations:                 3658\n",
              "Model:                          Logit   Df Residuals:                     3642\n",
              "Method:                           MLE   Df Model:                           15\n",
              "Date:                Mon, 20 Apr 2020   Pseudo R-squ.:                  0.1175\n",
              "Time:                        13:13:32   Log-Likelihood:                -1377.2\n",
              "converged:                       True   LL-Null:                       -1560.6\n",
              "Covariance Type:            nonrobust   LLR p-value:                 6.676e-69\n",
              "===================================================================================\n",
              "                      coef    std err          z      P>|z|      [0.025      0.975]\n",
              "-----------------------------------------------------------------------------------\n",
              "const              -8.3282      0.715    -11.640      0.000      -9.730      -6.926\n",
              "Gender              0.5553      0.109      5.093      0.000       0.342       0.769\n",
              "age                 0.0635      0.007      9.509      0.000       0.050       0.077\n",
              "education          -0.0478      0.049     -0.967      0.334      -0.145       0.049\n",
              "currentSmoker       0.0716      0.157      0.457      0.648      -0.236       0.379\n",
              "cigsPerDay          0.0179      0.006      2.872      0.004       0.006       0.030\n",
              "BPMeds              0.1625      0.234      0.693      0.488      -0.297       0.622\n",
              "prevalentStroke     0.6937      0.490      1.417      0.157      -0.266       1.653\n",
              "prevalentHyp        0.2342      0.138      1.697      0.090      -0.036       0.505\n",
              "diabetes            0.0392      0.316      0.124      0.901      -0.579       0.658\n",
              "totChol             0.0023      0.001      2.070      0.038       0.000       0.005\n",
              "sysBP               0.0154      0.004      4.044      0.000       0.008       0.023\n",
              "diaBP              -0.0042      0.006     -0.646      0.518      -0.017       0.008\n",
              "BMI                 0.0067      0.013      0.523      0.601      -0.018       0.032\n",
              "heartRate          -0.0032      0.004     -0.771      0.441      -0.012       0.005\n",
              "glucose             0.0071      0.002      3.190      0.001       0.003       0.012\n",
              "===================================================================================\n",
              "\"\"\""
            ]
          },
          "metadata": {
            "tags": []
          },
          "execution_count": 49
        }
      ]
    },
    {
      "cell_type": "code",
      "metadata": {
        "id": "GWJY_tFH9_Im",
        "colab_type": "code",
        "colab": {}
      },
      "source": [
        ""
      ],
      "execution_count": 0,
      "outputs": []
    },
    {
      "cell_type": "code",
      "metadata": {
        "id": "r0pCoFPS7Rnq",
        "colab_type": "code",
        "colab": {}
      },
      "source": [
        "def backward_elimination(df,target):\n",
        "  X = df.drop(target,axis =1)\n",
        "  Xc = sm.add_constant(X)\n",
        "  remaining_cols = list(Xc.columns)\n",
        "  y = df[target]\n",
        "  while len(remaining_cols) > 0 : \n",
        "    X_temp = Xc[remaining_cols]\n",
        "    model = sm.Logit(y,X_temp).fit()\n",
        "    pvals = list(model.pvalues)\n",
        "    max_pval = max(pvals)\n",
        "    max_pval_feature = model.pvalues.idxmax()\n",
        "    if max_pval > 0.03:\n",
        "      remaining_cols.remove(max_pval_feature)\n",
        "      print(max_pval_feature,max_pval)\n",
        "    else:\n",
        "      break\n",
        "  return remaining_cols"
      ],
      "execution_count": 0,
      "outputs": []
    },
    {
      "cell_type": "code",
      "metadata": {
        "id": "vpsrAnGs_Auq",
        "colab_type": "code",
        "outputId": "a6244263-e665-48bb-b8ad-6aefc64e41a1",
        "colab": {
          "base_uri": "https://localhost:8080/",
          "height": 748
        }
      },
      "source": [
        "impt_features = backward_elimination(df2,'TenYearCHD')"
      ],
      "execution_count": 0,
      "outputs": [
        {
          "output_type": "stream",
          "text": [
            "Optimization terminated successfully.\n",
            "         Current function value: 0.376500\n",
            "         Iterations 7\n",
            "diabetes 0.9012045780435511\n",
            "Optimization terminated successfully.\n",
            "         Current function value: 0.376502\n",
            "         Iterations 7\n",
            "currentSmoker 0.64836503909236\n",
            "Optimization terminated successfully.\n",
            "         Current function value: 0.376531\n",
            "         Iterations 7\n",
            "BMI 0.6296050439469527\n",
            "Optimization terminated successfully.\n",
            "         Current function value: 0.376562\n",
            "         Iterations 7\n",
            "diaBP 0.5625804781393751\n",
            "Optimization terminated successfully.\n",
            "         Current function value: 0.376608\n",
            "         Iterations 7\n",
            "BPMeds 0.4697715086532108\n",
            "Optimization terminated successfully.\n",
            "         Current function value: 0.376679\n",
            "         Iterations 7\n",
            "heartRate 0.41602841295529747\n",
            "Optimization terminated successfully.\n",
            "         Current function value: 0.376770\n",
            "         Iterations 7\n",
            "education 0.3066346175601081\n",
            "Optimization terminated successfully.\n",
            "         Current function value: 0.376914\n",
            "         Iterations 7\n",
            "prevalentStroke 0.12008291603333385\n",
            "Optimization terminated successfully.\n",
            "         Current function value: 0.377226\n",
            "         Iterations 7\n",
            "prevalentHyp 0.0829954016839617\n",
            "Optimization terminated successfully.\n",
            "         Current function value: 0.377634\n",
            "         Iterations 7\n",
            "totChol 0.042221247653764324\n",
            "Optimization terminated successfully.\n",
            "         Current function value: 0.378192\n",
            "         Iterations 7\n"
          ],
          "name": "stdout"
        }
      ]
    },
    {
      "cell_type": "code",
      "metadata": {
        "id": "qqPr8mF-_FLS",
        "colab_type": "code",
        "outputId": "8f438f15-4b9a-4421-8d36-3b293b65b8ae",
        "colab": {
          "base_uri": "https://localhost:8080/",
          "height": 34
        }
      },
      "source": [
        "impt_features"
      ],
      "execution_count": 0,
      "outputs": [
        {
          "output_type": "execute_result",
          "data": {
            "text/plain": [
              "['const', 'Gender', 'age', 'cigsPerDay', 'sysBP', 'glucose']"
            ]
          },
          "metadata": {
            "tags": []
          },
          "execution_count": 68
        }
      ]
    },
    {
      "cell_type": "code",
      "metadata": {
        "id": "gp4cwQVo_rx_",
        "colab_type": "code",
        "outputId": "e87f1b32-3ffa-4a87-8caf-49228293075c",
        "colab": {
          "base_uri": "https://localhost:8080/",
          "height": 383
        }
      },
      "source": [
        "model = sm.Logit(y,Xc[impt_features]).fit()\n",
        "model.summary()"
      ],
      "execution_count": 0,
      "outputs": [
        {
          "output_type": "stream",
          "text": [
            "Optimization terminated successfully.\n",
            "         Current function value: 0.378192\n",
            "         Iterations 7\n"
          ],
          "name": "stdout"
        },
        {
          "output_type": "execute_result",
          "data": {
            "text/html": [
              "<table class=\"simpletable\">\n",
              "<caption>Logit Regression Results</caption>\n",
              "<tr>\n",
              "  <th>Dep. Variable:</th>      <td>TenYearCHD</td>    <th>  No. Observations:  </th>  <td>  3658</td>  \n",
              "</tr>\n",
              "<tr>\n",
              "  <th>Model:</th>                 <td>Logit</td>      <th>  Df Residuals:      </th>  <td>  3652</td>  \n",
              "</tr>\n",
              "<tr>\n",
              "  <th>Method:</th>                 <td>MLE</td>       <th>  Df Model:          </th>  <td>     5</td>  \n",
              "</tr>\n",
              "<tr>\n",
              "  <th>Date:</th>            <td>Mon, 20 Apr 2020</td> <th>  Pseudo R-squ.:     </th>  <td>0.1135</td>  \n",
              "</tr>\n",
              "<tr>\n",
              "  <th>Time:</th>                <td>13:24:23</td>     <th>  Log-Likelihood:    </th> <td> -1383.4</td> \n",
              "</tr>\n",
              "<tr>\n",
              "  <th>converged:</th>             <td>True</td>       <th>  LL-Null:           </th> <td> -1560.6</td> \n",
              "</tr>\n",
              "<tr>\n",
              "  <th>Covariance Type:</th>     <td>nonrobust</td>    <th>  LLR p-value:       </th> <td>2.041e-74</td>\n",
              "</tr>\n",
              "</table>\n",
              "<table class=\"simpletable\">\n",
              "<tr>\n",
              "       <td></td>         <th>coef</th>     <th>std err</th>      <th>z</th>      <th>P>|z|</th>  <th>[0.025</th>    <th>0.975]</th>  \n",
              "</tr>\n",
              "<tr>\n",
              "  <th>const</th>      <td>   -8.7081</td> <td>    0.421</td> <td>  -20.682</td> <td> 0.000</td> <td>   -9.533</td> <td>   -7.883</td>\n",
              "</tr>\n",
              "<tr>\n",
              "  <th>Gender</th>     <td>    0.5312</td> <td>    0.106</td> <td>    5.032</td> <td> 0.000</td> <td>    0.324</td> <td>    0.738</td>\n",
              "</tr>\n",
              "<tr>\n",
              "  <th>age</th>        <td>    0.0674</td> <td>    0.006</td> <td>   10.574</td> <td> 0.000</td> <td>    0.055</td> <td>    0.080</td>\n",
              "</tr>\n",
              "<tr>\n",
              "  <th>cigsPerDay</th> <td>    0.0195</td> <td>    0.004</td> <td>    4.683</td> <td> 0.000</td> <td>    0.011</td> <td>    0.028</td>\n",
              "</tr>\n",
              "<tr>\n",
              "  <th>sysBP</th>      <td>    0.0180</td> <td>    0.002</td> <td>    8.413</td> <td> 0.000</td> <td>    0.014</td> <td>    0.022</td>\n",
              "</tr>\n",
              "<tr>\n",
              "  <th>glucose</th>    <td>    0.0073</td> <td>    0.002</td> <td>    4.369</td> <td> 0.000</td> <td>    0.004</td> <td>    0.011</td>\n",
              "</tr>\n",
              "</table>"
            ],
            "text/plain": [
              "<class 'statsmodels.iolib.summary.Summary'>\n",
              "\"\"\"\n",
              "                           Logit Regression Results                           \n",
              "==============================================================================\n",
              "Dep. Variable:             TenYearCHD   No. Observations:                 3658\n",
              "Model:                          Logit   Df Residuals:                     3652\n",
              "Method:                           MLE   Df Model:                            5\n",
              "Date:                Mon, 20 Apr 2020   Pseudo R-squ.:                  0.1135\n",
              "Time:                        13:24:23   Log-Likelihood:                -1383.4\n",
              "converged:                       True   LL-Null:                       -1560.6\n",
              "Covariance Type:            nonrobust   LLR p-value:                 2.041e-74\n",
              "==============================================================================\n",
              "                 coef    std err          z      P>|z|      [0.025      0.975]\n",
              "------------------------------------------------------------------------------\n",
              "const         -8.7081      0.421    -20.682      0.000      -9.533      -7.883\n",
              "Gender         0.5312      0.106      5.032      0.000       0.324       0.738\n",
              "age            0.0674      0.006     10.574      0.000       0.055       0.080\n",
              "cigsPerDay     0.0195      0.004      4.683      0.000       0.011       0.028\n",
              "sysBP          0.0180      0.002      8.413      0.000       0.014       0.022\n",
              "glucose        0.0073      0.002      4.369      0.000       0.004       0.011\n",
              "==============================================================================\n",
              "\"\"\""
            ]
          },
          "metadata": {
            "tags": []
          },
          "execution_count": 69
        }
      ]
    },
    {
      "cell_type": "markdown",
      "metadata": {
        "id": "d-1N85XaImJH",
        "colab_type": "text"
      },
      "source": [
        "# Confusion Matrix\n",
        "For a confusion matrix, the abonormility is considered as positive case and the opposite to abnormality is considered as negative case.\n",
        "\n",
        "![alt text](https://2.bp.blogspot.com/-EvSXDotTOwc/XMfeOGZ-CVI/AAAAAAAAEiE/oePFfvhfOQM11dgRn9FkPxlegCXbgOF4QCLcBGAs/s1600/confusionMatrxiUpdated.jpg)"
      ]
    },
    {
      "cell_type": "markdown",
      "metadata": {
        "id": "fWDXMj2mPI-t",
        "colab_type": "text"
      },
      "source": [
        "# Pseudo R-square (Used Rarely)\n",
        "\n",
        "![alt text](https://thestatsgeek.com/wp-content/ql-cache/quicklatex.com-5131a3908febd4a52f24c502dd3a83c4_l3.svg)\n",
        "\n",
        "Numerator : Log of Likelihood  when all the features are taken into consideration\n",
        "\n",
        "Denominator : Log of Likelihood  when none of the features are taken into consideration. (The null model will classify all the records to the class with higher probability)\n",
        "\n",
        "So according to our model : \n",
        "\n",
        "Pseudo R-square =  1 - [ (-1381.4)/(-1560.6) ] = 0.1148\n",
        "\n",
        "MAXIMUM VALUE OF PSEUDO R_SQUARE IS AROUND 0.4"
      ]
    },
    {
      "cell_type": "code",
      "metadata": {
        "id": "FNxhCHkpYNIE",
        "colab_type": "code",
        "colab": {}
      },
      "source": [
        "impt_features.remove('const')"
      ],
      "execution_count": 0,
      "outputs": []
    },
    {
      "cell_type": "code",
      "metadata": {
        "id": "SzMfaGigPOt6",
        "colab_type": "code",
        "colab": {}
      },
      "source": [
        "from sklearn.model_selection import train_test_split\n",
        "X_train,X_test,y_train,y_test = train_test_split(X[impt_features],y,test_size = 0.3,random_state = 0)"
      ],
      "execution_count": 0,
      "outputs": []
    },
    {
      "cell_type": "code",
      "metadata": {
        "id": "CBD3c-nFXi5O",
        "colab_type": "code",
        "outputId": "3f47baed-27ac-494a-c7dd-18cff7d7fb65",
        "colab": {
          "base_uri": "https://localhost:8080/",
          "height": 68
        }
      },
      "source": [
        "from sklearn.linear_model import LogisticRegression\n",
        "from sklearn import metrics\n",
        "model = LogisticRegression()\n",
        "model.fit(X_train,y_train)\n",
        "y_pred = model.predict(X_test)\n",
        "accuracy = metrics.accuracy_score(y_test,y_pred)\n",
        "print(accuracy * 100)\n",
        "cm = metrics.confusion_matrix(y_test,y_pred)\n",
        "print(cm)"
      ],
      "execution_count": 0,
      "outputs": [
        {
          "output_type": "stream",
          "text": [
            "84.15300546448088\n",
            "[[907   9]\n",
            " [165  17]]\n"
          ],
          "name": "stdout"
        }
      ]
    },
    {
      "cell_type": "markdown",
      "metadata": {
        "id": "w5G_-ugFlvVy",
        "colab_type": "text"
      },
      "source": [
        "### Confusion Matrix :\n",
        "\n",
        "&nbsp;&nbsp;&nbsp;&nbsp;&nbsp;&nbsp;&nbsp;&nbsp;&nbsp;&nbsp;&nbsp;&nbsp;&nbsp;&nbsp;&nbsp;&nbsp;&nbsp;&nbsp;&nbsp;&nbsp;&nbsp;***Actual***\n",
        "\n",
        "***Predicted*** [ TN &nbsp;&nbsp;&nbsp;&nbsp;&nbsp;&nbsp;&nbsp; FP/alpha/type1 error\n",
        "\n",
        "&nbsp;&nbsp;&nbsp;&nbsp;&nbsp;&nbsp;&nbsp;&nbsp;&nbsp;&nbsp;&nbsp;&nbsp;&nbsp;&nbsp;&nbsp;&nbsp;&nbsp;&nbsp;&nbsp;&nbsp;&nbsp;FN/beta/type2 error &nbsp;&nbsp;&nbsp;&nbsp;&nbsp;&nbsp;&nbsp; TP]\n",
        "\n"
      ]
    },
    {
      "cell_type": "markdown",
      "metadata": {
        "id": "SaSVl7p7qj8r",
        "colab_type": "text"
      },
      "source": [
        "*   Alpha/ Type1 Error/ False Positive rate = FP/FP+TN\n",
        "*   Beta/ Type2 Error/ False Negative Rate = FN/FN+TP\n",
        "*   1- Alpha/ True Negative Rate/ Specificity = TN/TN+FP\n",
        "*   1- Beta/ True Positive Rate/ Sensitivity/Recall = TP/TP+FN"
      ]
    },
    {
      "cell_type": "code",
      "metadata": {
        "id": "hsHNZW4Il7iK",
        "colab_type": "code",
        "outputId": "356083e6-45f9-4ffc-d7a2-c2b6e80775e7",
        "colab": {
          "base_uri": "https://localhost:8080/",
          "height": 51
        }
      },
      "source": [
        "print('TPR/Sensitivity/Recall : ',17/182)\n",
        "print('Using metrics : ',metrics.recall_score(y_test,y_pred))"
      ],
      "execution_count": 0,
      "outputs": [
        {
          "output_type": "stream",
          "text": [
            "TPR/Sensitivity/Recall :  0.09340659340659341\n",
            "Using metrics :  0.09340659340659341\n"
          ],
          "name": "stdout"
        }
      ]
    },
    {
      "cell_type": "code",
      "metadata": {
        "id": "AdbtS1gUuoIZ",
        "colab_type": "code",
        "outputId": "e5086093-e857-4859-e767-1e929fc6e22d",
        "colab": {
          "base_uri": "https://localhost:8080/",
          "height": 34
        }
      },
      "source": [
        "print('TNR/Specificity : ',907/916)"
      ],
      "execution_count": 0,
      "outputs": [
        {
          "output_type": "stream",
          "text": [
            "TNR/Specificity :  0.990174672489083\n"
          ],
          "name": "stdout"
        }
      ]
    },
    {
      "cell_type": "code",
      "metadata": {
        "id": "M7Nn_cPpmck_",
        "colab_type": "code",
        "outputId": "e9db018d-bc7f-48a2-8651-a88a3f2b9405",
        "colab": {
          "base_uri": "https://localhost:8080/",
          "height": 34
        }
      },
      "source": [
        "model.coef_"
      ],
      "execution_count": 0,
      "outputs": [
        {
          "output_type": "execute_result",
          "data": {
            "text/plain": [
              "array([[0.5213538 , 0.05738011, 0.01798024, 0.01886123, 0.00915603]])"
            ]
          },
          "metadata": {
            "tags": []
          },
          "execution_count": 75
        }
      ]
    },
    {
      "cell_type": "code",
      "metadata": {
        "id": "tBYT8EX_tWo0",
        "colab_type": "code",
        "colab": {}
      },
      "source": [
        ""
      ],
      "execution_count": 0,
      "outputs": []
    },
    {
      "cell_type": "code",
      "metadata": {
        "id": "fCCRFFtdv0y-",
        "colab_type": "code",
        "colab": {}
      },
      "source": [
        ""
      ],
      "execution_count": 0,
      "outputs": []
    }
  ]
}