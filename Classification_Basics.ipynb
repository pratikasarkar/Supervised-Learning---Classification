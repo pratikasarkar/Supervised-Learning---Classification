{
  "nbformat": 4,
  "nbformat_minor": 0,
  "metadata": {
    "kernelspec": {
      "display_name": "Python 3",
      "language": "python",
      "name": "python3"
    },
    "language_info": {
      "codemirror_mode": {
        "name": "ipython",
        "version": 3
      },
      "file_extension": ".py",
      "mimetype": "text/x-python",
      "name": "python",
      "nbconvert_exporter": "python",
      "pygments_lexer": "ipython3",
      "version": "3.7.4"
    },
    "colab": {
      "name": "Classification Basics",
      "provenance": [],
      "collapsed_sections": [
        "ynzuvvOKi-7q"
      ],
      "include_colab_link": true
    }
  },
  "cells": [
    {
      "cell_type": "markdown",
      "metadata": {
        "id": "view-in-github",
        "colab_type": "text"
      },
      "source": [
        "<a href=\"https://colab.research.google.com/github/pratikasarkar/Supervised-Learning---Classification/blob/master/Classification_Basics.ipynb\" target=\"_parent\"><img src=\"https://colab.research.google.com/assets/colab-badge.svg\" alt=\"Open In Colab\"/></a>"
      ]
    },
    {
      "cell_type": "code",
      "metadata": {
        "id": "fX387LGhi-6e",
        "colab_type": "code",
        "outputId": "57e50c7c-ca2a-40e7-e775-680cacdcc7ac",
        "colab": {
          "base_uri": "https://localhost:8080/",
          "height": 71
        }
      },
      "source": [
        "import numpy as np\n",
        "import pandas as pd\n",
        "import seaborn as sns\n",
        "import matplotlib.pyplot as plt"
      ],
      "execution_count": 1,
      "outputs": [
        {
          "output_type": "stream",
          "text": [
            "/usr/local/lib/python3.6/dist-packages/statsmodels/tools/_testing.py:19: FutureWarning: pandas.util.testing is deprecated. Use the functions in the public API at pandas.testing instead.\n",
            "  import pandas.util.testing as tm\n"
          ],
          "name": "stderr"
        }
      ]
    },
    {
      "cell_type": "markdown",
      "metadata": {
        "id": "HZg82cdwi-6l",
        "colab_type": "text"
      },
      "source": [
        "# Univariate Analysis"
      ]
    },
    {
      "cell_type": "code",
      "metadata": {
        "id": "N4Zu58EIi-6m",
        "colab_type": "code",
        "colab": {}
      },
      "source": [
        "df = pd.DataFrame({'bmi' : [4.5,5.8,6.5,7.0,5.0,6.0,8.6],\n",
        "                'glucose' :[190,220,280,320,200,250,380]})"
      ],
      "execution_count": 0,
      "outputs": []
    },
    {
      "cell_type": "code",
      "metadata": {
        "id": "diSsM80li-6r",
        "colab_type": "code",
        "outputId": "f6271497-d29f-43c8-8ebf-cffa4ee6bd7e",
        "colab": {
          "base_uri": "https://localhost:8080/",
          "height": 266
        }
      },
      "source": [
        "df"
      ],
      "execution_count": 3,
      "outputs": [
        {
          "output_type": "execute_result",
          "data": {
            "text/html": [
              "<div>\n",
              "<style scoped>\n",
              "    .dataframe tbody tr th:only-of-type {\n",
              "        vertical-align: middle;\n",
              "    }\n",
              "\n",
              "    .dataframe tbody tr th {\n",
              "        vertical-align: top;\n",
              "    }\n",
              "\n",
              "    .dataframe thead th {\n",
              "        text-align: right;\n",
              "    }\n",
              "</style>\n",
              "<table border=\"1\" class=\"dataframe\">\n",
              "  <thead>\n",
              "    <tr style=\"text-align: right;\">\n",
              "      <th></th>\n",
              "      <th>bmi</th>\n",
              "      <th>glucose</th>\n",
              "    </tr>\n",
              "  </thead>\n",
              "  <tbody>\n",
              "    <tr>\n",
              "      <th>0</th>\n",
              "      <td>4.5</td>\n",
              "      <td>190</td>\n",
              "    </tr>\n",
              "    <tr>\n",
              "      <th>1</th>\n",
              "      <td>5.8</td>\n",
              "      <td>220</td>\n",
              "    </tr>\n",
              "    <tr>\n",
              "      <th>2</th>\n",
              "      <td>6.5</td>\n",
              "      <td>280</td>\n",
              "    </tr>\n",
              "    <tr>\n",
              "      <th>3</th>\n",
              "      <td>7.0</td>\n",
              "      <td>320</td>\n",
              "    </tr>\n",
              "    <tr>\n",
              "      <th>4</th>\n",
              "      <td>5.0</td>\n",
              "      <td>200</td>\n",
              "    </tr>\n",
              "    <tr>\n",
              "      <th>5</th>\n",
              "      <td>6.0</td>\n",
              "      <td>250</td>\n",
              "    </tr>\n",
              "    <tr>\n",
              "      <th>6</th>\n",
              "      <td>8.6</td>\n",
              "      <td>380</td>\n",
              "    </tr>\n",
              "  </tbody>\n",
              "</table>\n",
              "</div>"
            ],
            "text/plain": [
              "   bmi  glucose\n",
              "0  4.5      190\n",
              "1  5.8      220\n",
              "2  6.5      280\n",
              "3  7.0      320\n",
              "4  5.0      200\n",
              "5  6.0      250\n",
              "6  8.6      380"
            ]
          },
          "metadata": {
            "tags": []
          },
          "execution_count": 3
        }
      ]
    },
    {
      "cell_type": "code",
      "metadata": {
        "id": "AVZ9i2nDi-6x",
        "colab_type": "code",
        "outputId": "9e92e088-f8a5-478b-cd39-1601d11ba483",
        "colab": {
          "base_uri": "https://localhost:8080/",
          "height": 296
        }
      },
      "source": [
        "sns.scatterplot(df['bmi'],df['glucose'])\n",
        "plt.plot([4,9],[200,450],color = 'r',linestyle = 'dashed')\n",
        "plt.plot([4,9],[100,350],color = 'r',linestyle = 'dotted')"
      ],
      "execution_count": 4,
      "outputs": [
        {
          "output_type": "execute_result",
          "data": {
            "text/plain": [
              "[<matplotlib.lines.Line2D at 0x7f0000a21b38>]"
            ]
          },
          "metadata": {
            "tags": []
          },
          "execution_count": 4
        },
        {
          "output_type": "display_data",
          "data": {
            "image/png": "[encoded data removed]",
            "text/plain": [
              "<Figure size 432x288 with 1 Axes>"
            ]
          },
          "metadata": {
            "tags": [],
            "needs_background": "light"
          }
        }
      ]
    },
    {
      "cell_type": "markdown",
      "metadata": {
        "id": "W8ArkQU3i-62",
        "colab_type": "text"
      },
      "source": [
        "glucose = beta0 + beta1 * bmi"
      ]
    },
    {
      "cell_type": "markdown",
      "metadata": {
        "id": "DRtKBg2ii-63",
        "colab_type": "text"
      },
      "source": [
        "y -> actual points \n",
        "\n",
        "y' -> predicted points on the line"
      ]
    },
    {
      "cell_type": "markdown",
      "metadata": {
        "id": "R2_uZMmCi-64",
        "colab_type": "text"
      },
      "source": [
        "residual = y - y'\n",
        "\n",
        "The difference between actual(y) and the predicted(y') is called a residual"
      ]
    },
    {
      "cell_type": "markdown",
      "metadata": {
        "id": "_yZnDTV7i-65",
        "colab_type": "text"
      },
      "source": [
        "For dashed line, all residuals will be negative.\n",
        "\n",
        "For dotted line, all residuals will be positive.\n",
        "\n",
        "beta1 = covariance of X and y divided by variance of X\n",
        "\n",
        "beta1 = cov(X,y)/var(X)\n",
        "\n",
        "cov(X,y) = sum_1_to_n((X-Xbar)(y-ybar))/n-1\n",
        "\n",
        "var(X) = sum_1_to_n((X-Xbar)**2)/n-1\n",
        "\n",
        "beta0 = ybar - beta1 * Xbar"
      ]
    },
    {
      "cell_type": "code",
      "metadata": {
        "id": "VAnEu2Rei-66",
        "colab_type": "code",
        "colab": {}
      },
      "source": [
        "n_bmi = len(df['bmi'])\n",
        "n_glucose = len(df['glucose'])"
      ],
      "execution_count": 0,
      "outputs": []
    },
    {
      "cell_type": "code",
      "metadata": {
        "id": "5N9REjRli-6-",
        "colab_type": "code",
        "colab": {}
      },
      "source": [
        "cov_bmi_glu = np.sum((df['bmi'] - np.mean(df['bmi']))*(df['glucose'] - np.mean(df['glucose'])))/(n_bmi-1)"
      ],
      "execution_count": 0,
      "outputs": []
    },
    {
      "cell_type": "code",
      "metadata": {
        "id": "ybbK_zDQi-7D",
        "colab_type": "code",
        "colab": {}
      },
      "source": [
        "var_bmi = np.sum((df['bmi'] - np.mean(df['bmi']))**2)/(n_bmi-1)"
      ],
      "execution_count": 0,
      "outputs": []
    },
    {
      "cell_type": "code",
      "metadata": {
        "id": "OVIdnkGSi-7H",
        "colab_type": "code",
        "colab": {}
      },
      "source": [
        "beta1 = cov_bmi_glu/var_bmi"
      ],
      "execution_count": 0,
      "outputs": []
    },
    {
      "cell_type": "code",
      "metadata": {
        "id": "nd082Y1Ri-7K",
        "colab_type": "code",
        "outputId": "24d49965-b631-4d72-f679-fc21e8609b28",
        "colab": {
          "base_uri": "https://localhost:8080/",
          "height": 34
        }
      },
      "source": [
        "beta1"
      ],
      "execution_count": 9,
      "outputs": [
        {
          "output_type": "execute_result",
          "data": {
            "text/plain": [
              "50.00000000000001"
            ]
          },
          "metadata": {
            "tags": []
          },
          "execution_count": 9
        }
      ]
    },
    {
      "cell_type": "code",
      "metadata": {
        "id": "o1kQG-LBi-7O",
        "colab_type": "code",
        "colab": {}
      },
      "source": [
        "ybar = np.mean(df['glucose'])\n",
        "Xbar = np.mean(df['bmi'])"
      ],
      "execution_count": 0,
      "outputs": []
    },
    {
      "cell_type": "code",
      "metadata": {
        "id": "0STFhTqHi-7T",
        "colab_type": "code",
        "colab": {}
      },
      "source": [
        "beta0 = ybar - beta1 * Xbar"
      ],
      "execution_count": 0,
      "outputs": []
    },
    {
      "cell_type": "code",
      "metadata": {
        "id": "Swb6D2vgi-7Y",
        "colab_type": "code",
        "outputId": "f4a08398-2fcf-4116-bd81-26b086a3ca24",
        "colab": {
          "base_uri": "https://localhost:8080/",
          "height": 34
        }
      },
      "source": [
        "beta0"
      ],
      "execution_count": 12,
      "outputs": [
        {
          "output_type": "execute_result",
          "data": {
            "text/plain": [
              "-47.142857142857224"
            ]
          },
          "metadata": {
            "tags": []
          },
          "execution_count": 12
        }
      ]
    },
    {
      "cell_type": "code",
      "metadata": {
        "id": "iJ6wlj_Ki-7c",
        "colab_type": "code",
        "colab": {}
      },
      "source": [
        "glu_predict = beta0 + beta1 * df['bmi']"
      ],
      "execution_count": 0,
      "outputs": []
    },
    {
      "cell_type": "code",
      "metadata": {
        "id": "sPulicYci-7f",
        "colab_type": "code",
        "outputId": "2d818456-1026-4151-8a11-d9e9100d4d0a",
        "colab": {
          "base_uri": "https://localhost:8080/",
          "height": 153
        }
      },
      "source": [
        "glu_predict"
      ],
      "execution_count": 14,
      "outputs": [
        {
          "output_type": "execute_result",
          "data": {
            "text/plain": [
              "0    177.857143\n",
              "1    242.857143\n",
              "2    277.857143\n",
              "3    302.857143\n",
              "4    202.857143\n",
              "5    252.857143\n",
              "6    382.857143\n",
              "Name: bmi, dtype: float64"
            ]
          },
          "metadata": {
            "tags": []
          },
          "execution_count": 14
        }
      ]
    },
    {
      "cell_type": "code",
      "metadata": {
        "id": "FvDAmozEi-7m",
        "colab_type": "code",
        "outputId": "c97a6f8f-83f0-41e0-fa74-494571d6dcc4",
        "colab": {
          "base_uri": "https://localhost:8080/",
          "height": 296
        }
      },
      "source": [
        "sns.scatterplot(df['bmi'],df['glucose'])\n",
        "sns.lineplot(df['bmi'],glu_predict,color = 'g')"
      ],
      "execution_count": 15,
      "outputs": [
        {
          "output_type": "execute_result",
          "data": {
            "text/plain": [
              "<matplotlib.axes._subplots.AxesSubplot at 0x7effcfd970b8>"
            ]
          },
          "metadata": {
            "tags": []
          },
          "execution_count": 15
        },
        {
          "output_type": "display_data",
          "data": {
            "image/png": "[encoded data removed]",
            "text/plain": [
              "<Figure size 432x288 with 1 Axes>"
            ]
          },
          "metadata": {
            "tags": [],
            "needs_background": "light"
          }
        }
      ]
    },
    {
      "cell_type": "markdown",
      "metadata": {
        "id": "ynzuvvOKi-7q",
        "colab_type": "text"
      },
      "source": [
        "### Verification using the sklearn model"
      ]
    },
    {
      "cell_type": "code",
      "metadata": {
        "id": "YmKjsRv_i-7r",
        "colab_type": "code",
        "colab": {}
      },
      "source": [
        "from sklearn.linear_model import LinearRegression\n",
        "lr = LinearRegression()"
      ],
      "execution_count": 0,
      "outputs": []
    },
    {
      "cell_type": "code",
      "metadata": {
        "id": "6VAbVWdTi-7w",
        "colab_type": "code",
        "outputId": "dd52b995-0d66-4816-dc7a-cd4b4518e514",
        "colab": {
          "base_uri": "https://localhost:8080/",
          "height": 0
        }
      },
      "source": [
        "lr.fit(df[['bmi']],df['glucose'])"
      ],
      "execution_count": 17,
      "outputs": [
        {
          "output_type": "execute_result",
          "data": {
            "text/plain": [
              "LinearRegression(copy_X=True, fit_intercept=True, n_jobs=None, normalize=False)"
            ]
          },
          "metadata": {
            "tags": []
          },
          "execution_count": 17
        }
      ]
    },
    {
      "cell_type": "code",
      "metadata": {
        "id": "4m0oIyrNi-73",
        "colab_type": "code",
        "outputId": "6f97b441-ae20-47e3-d883-0b00dbb20855",
        "colab": {
          "base_uri": "https://localhost:8080/",
          "height": 0
        }
      },
      "source": [
        "lr.coef_"
      ],
      "execution_count": 18,
      "outputs": [
        {
          "output_type": "execute_result",
          "data": {
            "text/plain": [
              "array([50.])"
            ]
          },
          "metadata": {
            "tags": []
          },
          "execution_count": 18
        }
      ]
    },
    {
      "cell_type": "code",
      "metadata": {
        "id": "WZetQ4lri-76",
        "colab_type": "code",
        "outputId": "253bf4d4-b3a1-46dd-adb0-fc61f7219817",
        "colab": {
          "base_uri": "https://localhost:8080/",
          "height": 0
        }
      },
      "source": [
        "lr.intercept_"
      ],
      "execution_count": 19,
      "outputs": [
        {
          "output_type": "execute_result",
          "data": {
            "text/plain": [
              "-47.14285714285728"
            ]
          },
          "metadata": {
            "tags": []
          },
          "execution_count": 19
        }
      ]
    },
    {
      "cell_type": "code",
      "metadata": {
        "id": "JzuK3Bo2i-79",
        "colab_type": "code",
        "outputId": "a05d9c1b-7140-4354-a3da-81d15875c5cb",
        "colab": {
          "base_uri": "https://localhost:8080/",
          "height": 0
        }
      },
      "source": [
        "lr.predict(df[['bmi']])"
      ],
      "execution_count": 20,
      "outputs": [
        {
          "output_type": "execute_result",
          "data": {
            "text/plain": [
              "array([177.85714286, 242.85714286, 277.85714286, 302.85714286,\n",
              "       202.85714286, 252.85714286, 382.85714286])"
            ]
          },
          "metadata": {
            "tags": []
          },
          "execution_count": 20
        }
      ]
    },
    {
      "cell_type": "markdown",
      "metadata": {
        "id": "wdk80R0Di-8A",
        "colab_type": "text"
      },
      "source": [
        "For feature selection, correlation matrix will just give us how strongly the variables are correlated with each other, but the final decision whether to keep a variable or drop a variable should be taken by p-value in the ols summary."
      ]
    },
    {
      "cell_type": "markdown",
      "metadata": {
        "id": "vWI6P8TJi-8B",
        "colab_type": "text"
      },
      "source": [
        "For Regreesion model, we calculate the measures like rmse, r-squared and adjusted rsquared.\n",
        "\n",
        "For binary classification, we calculate accuracy,confusion matrix,classification report and ROC AUC curve.\n",
        "\n",
        "For multiclass classification, we calculate accuracy,confusion matrix,classification report and f1-score."
      ]
    },
    {
      "cell_type": "markdown",
      "metadata": {
        "id": "st0053Dli-8C",
        "colab_type": "text"
      },
      "source": [
        "##### We will be working on differnt models for regression and classification, but we need to choose the best model for our clients. \n",
        "\n",
        "##### So for final performance validation, for regression we use RMSE.\n",
        "\n",
        "##### For binary classification we use AUC and for multiclass classification we use F1-SCORE"
      ]
    },
    {
      "cell_type": "markdown",
      "metadata": {
        "id": "dh4N-1gni-8C",
        "colab_type": "text"
      },
      "source": [
        "# Adding a categorical value for y (dependent variable)"
      ]
    },
    {
      "cell_type": "code",
      "metadata": {
        "id": "LZtr6pM6i-8D",
        "colab_type": "code",
        "colab": {}
      },
      "source": [
        "df['outcome'] = [0,0,1,1,0,0,1]"
      ],
      "execution_count": 0,
      "outputs": []
    },
    {
      "cell_type": "code",
      "metadata": {
        "id": "c43_JyEXi-8G",
        "colab_type": "code",
        "outputId": "243faf51-b58c-49be-e951-4f0440cfc459",
        "colab": {
          "base_uri": "https://localhost:8080/",
          "height": 266
        }
      },
      "source": [
        "df"
      ],
      "execution_count": 22,
      "outputs": [
        {
          "output_type": "execute_result",
          "data": {
            "text/html": [
              "<div>\n",
              "<style scoped>\n",
              "    .dataframe tbody tr th:only-of-type {\n",
              "        vertical-align: middle;\n",
              "    }\n",
              "\n",
              "    .dataframe tbody tr th {\n",
              "        vertical-align: top;\n",
              "    }\n",
              "\n",
              "    .dataframe thead th {\n",
              "        text-align: right;\n",
              "    }\n",
              "</style>\n",
              "<table border=\"1\" class=\"dataframe\">\n",
              "  <thead>\n",
              "    <tr style=\"text-align: right;\">\n",
              "      <th></th>\n",
              "      <th>bmi</th>\n",
              "      <th>glucose</th>\n",
              "      <th>outcome</th>\n",
              "    </tr>\n",
              "  </thead>\n",
              "  <tbody>\n",
              "    <tr>\n",
              "      <th>0</th>\n",
              "      <td>4.5</td>\n",
              "      <td>190</td>\n",
              "      <td>0</td>\n",
              "    </tr>\n",
              "    <tr>\n",
              "      <th>1</th>\n",
              "      <td>5.8</td>\n",
              "      <td>220</td>\n",
              "      <td>0</td>\n",
              "    </tr>\n",
              "    <tr>\n",
              "      <th>2</th>\n",
              "      <td>6.5</td>\n",
              "      <td>280</td>\n",
              "      <td>1</td>\n",
              "    </tr>\n",
              "    <tr>\n",
              "      <th>3</th>\n",
              "      <td>7.0</td>\n",
              "      <td>320</td>\n",
              "      <td>1</td>\n",
              "    </tr>\n",
              "    <tr>\n",
              "      <th>4</th>\n",
              "      <td>5.0</td>\n",
              "      <td>200</td>\n",
              "      <td>0</td>\n",
              "    </tr>\n",
              "    <tr>\n",
              "      <th>5</th>\n",
              "      <td>6.0</td>\n",
              "      <td>250</td>\n",
              "      <td>0</td>\n",
              "    </tr>\n",
              "    <tr>\n",
              "      <th>6</th>\n",
              "      <td>8.6</td>\n",
              "      <td>380</td>\n",
              "      <td>1</td>\n",
              "    </tr>\n",
              "  </tbody>\n",
              "</table>\n",
              "</div>"
            ],
            "text/plain": [
              "   bmi  glucose  outcome\n",
              "0  4.5      190        0\n",
              "1  5.8      220        0\n",
              "2  6.5      280        1\n",
              "3  7.0      320        1\n",
              "4  5.0      200        0\n",
              "5  6.0      250        0\n",
              "6  8.6      380        1"
            ]
          },
          "metadata": {
            "tags": []
          },
          "execution_count": 22
        }
      ]
    },
    {
      "cell_type": "code",
      "metadata": {
        "id": "MM9L_qhci-8K",
        "colab_type": "code",
        "colab": {}
      },
      "source": [
        "n_outcome = len(df['outcome'])"
      ],
      "execution_count": 0,
      "outputs": []
    },
    {
      "cell_type": "code",
      "metadata": {
        "id": "CS-KUMAHi-8Q",
        "colab_type": "code",
        "colab": {}
      },
      "source": [
        "cov_bmi_outcome = np.sum((df['bmi'] - np.mean(df['bmi']))*(df['outcome'] - np.mean(df['outcome'])))/(n_bmi-1)"
      ],
      "execution_count": 0,
      "outputs": []
    },
    {
      "cell_type": "code",
      "metadata": {
        "id": "4EuE0I4Fi-8U",
        "colab_type": "code",
        "colab": {}
      },
      "source": [
        "beta1 = cov_bmi_outcome/var_bmi"
      ],
      "execution_count": 0,
      "outputs": []
    },
    {
      "cell_type": "code",
      "metadata": {
        "scrolled": true,
        "id": "zl4UxwAqi-8X",
        "colab_type": "code",
        "outputId": "944196af-8380-4c2c-e02d-2ffca0261606",
        "colab": {
          "base_uri": "https://localhost:8080/",
          "height": 34
        }
      },
      "source": [
        "beta1"
      ],
      "execution_count": 26,
      "outputs": [
        {
          "output_type": "execute_result",
          "data": {
            "text/plain": [
              "0.3176043557168785"
            ]
          },
          "metadata": {
            "tags": []
          },
          "execution_count": 26
        }
      ]
    },
    {
      "cell_type": "code",
      "metadata": {
        "id": "sn1CP7Oti-8a",
        "colab_type": "code",
        "colab": {}
      },
      "source": [
        "ybar = np.mean(df['outcome'])\n",
        "Xbar = np.mean(df['bmi'])"
      ],
      "execution_count": 0,
      "outputs": []
    },
    {
      "cell_type": "code",
      "metadata": {
        "id": "egVfjhBai-8e",
        "colab_type": "code",
        "colab": {}
      },
      "source": [
        "beta0 = ybar - beta1 * Xbar"
      ],
      "execution_count": 0,
      "outputs": []
    },
    {
      "cell_type": "code",
      "metadata": {
        "id": "BBCyRvGei-8h",
        "colab_type": "code",
        "outputId": "337ee51f-aab6-4ccf-9c9c-c9cfcc810667",
        "colab": {
          "base_uri": "https://localhost:8080/",
          "height": 34
        }
      },
      "source": [
        "beta0"
      ],
      "execution_count": 29,
      "outputs": [
        {
          "output_type": "execute_result",
          "data": {
            "text/plain": [
              "-1.540575576873218"
            ]
          },
          "metadata": {
            "tags": []
          },
          "execution_count": 29
        }
      ]
    },
    {
      "cell_type": "code",
      "metadata": {
        "id": "cpFOrLgri-8k",
        "colab_type": "code",
        "colab": {}
      },
      "source": [
        "outcome_predict = beta0 + beta1 * df['bmi']"
      ],
      "execution_count": 0,
      "outputs": []
    },
    {
      "cell_type": "code",
      "metadata": {
        "id": "t-wUtf_7i-8n",
        "colab_type": "code",
        "outputId": "44c39336-0193-41ae-9799-49a18d974758",
        "colab": {
          "base_uri": "https://localhost:8080/",
          "height": 153
        }
      },
      "source": [
        "outcome_predict"
      ],
      "execution_count": 31,
      "outputs": [
        {
          "output_type": "execute_result",
          "data": {
            "text/plain": [
              "0   -0.111356\n",
              "1    0.301530\n",
              "2    0.523853\n",
              "3    0.682655\n",
              "4    0.047446\n",
              "5    0.365051\n",
              "6    1.190822\n",
              "Name: bmi, dtype: float64"
            ]
          },
          "metadata": {
            "tags": []
          },
          "execution_count": 31
        }
      ]
    },
    {
      "cell_type": "markdown",
      "metadata": {
        "id": "vH5cf3pAi-8r",
        "colab_type": "text"
      },
      "source": [
        "## Squashing / Sigmoid / Logistic function\n",
        "\n",
        "#### y = 1 / ( 1 + e^-(beta0 + beta1 * X) )\n",
        "\n",
        "![alt text](https://upload.wikimedia.org/wikipedia/commons/8/88/Logistic-curve.svg)"
      ]
    },
    {
      "cell_type": "code",
      "metadata": {
        "id": "znqWs1qCi-8r",
        "colab_type": "code",
        "outputId": "382ddc6e-afb1-4f5f-b177-502333cd092c",
        "colab": {
          "base_uri": "https://localhost:8080/",
          "height": 153
        }
      },
      "source": [
        "outcome_pred_prob = 1/(1+ np.exp(-outcome_predict))\n",
        "outcome_pred_prob"
      ],
      "execution_count": 32,
      "outputs": [
        {
          "output_type": "execute_result",
          "data": {
            "text/plain": [
              "0    0.472190\n",
              "1    0.574816\n",
              "2    0.628048\n",
              "3    0.664331\n",
              "4    0.511859\n",
              "5    0.590262\n",
              "6    0.766888\n",
              "Name: bmi, dtype: float64"
            ]
          },
          "metadata": {
            "tags": []
          },
          "execution_count": 32
        }
      ]
    },
    {
      "cell_type": "code",
      "metadata": {
        "id": "nBzli6M8i-8u",
        "colab_type": "code",
        "outputId": "0ccf2b5a-d093-4d7c-c4d6-01451acc7b41",
        "colab": {
          "base_uri": "https://localhost:8080/",
          "height": 34
        }
      },
      "source": [
        "outcome_pred = []\n",
        "for val in outcome_pred_prob:\n",
        "    if val > np.mean(outcome_pred_prob):\n",
        "        outcome_pred.append(1)\n",
        "    else:\n",
        "        outcome_pred.append(0)\n",
        "outcome_pred"
      ],
      "execution_count": 33,
      "outputs": [
        {
          "output_type": "execute_result",
          "data": {
            "text/plain": [
              "[0, 0, 1, 1, 0, 0, 1]"
            ]
          },
          "metadata": {
            "tags": []
          },
          "execution_count": 33
        }
      ]
    },
    {
      "cell_type": "code",
      "metadata": {
        "id": "7XNDdKDCi-8y",
        "colab_type": "code",
        "outputId": "0d29b9df-7400-4356-d7a9-286352a38697",
        "colab": {
          "base_uri": "https://localhost:8080/",
          "height": 122
        }
      },
      "source": [
        "from google.colab import drive\n",
        "drive.mount('/content/gdrive')"
      ],
      "execution_count": 34,
      "outputs": [
        {
          "output_type": "stream",
          "text": [
            "Go to this URL in a browser: https://accounts.google.com/o/oauth2/auth?client_id=947318989803-6bn6qk8qdgf4n4g3pfee6491hc0brc4i.apps.googleusercontent.com&redirect_uri=urn%3aietf%3awg%3aoauth%3a2.0%3aoob&response_type=code&scope=email%20https%3a%2f%2fwww.googleapis.com%2fauth%2fdocs.test%20https%3a%2f%2fwww.googleapis.com%2fauth%2fdrive%20https%3a%2f%2fwww.googleapis.com%2fauth%2fdrive.photos.readonly%20https%3a%2f%2fwww.googleapis.com%2fauth%2fpeopleapi.readonly\n",
            "\n",
            "Enter your authorization code:\n",
            "··········\n",
            "Mounted at /content/gdrive\n"
          ],
          "name": "stdout"
        }
      ]
    },
    {
      "cell_type": "code",
      "metadata": {
        "id": "FMGeTv1-kZS6",
        "colab_type": "code",
        "colab": {}
      },
      "source": [
        "df = pd.read_csv('/content/gdrive/My Drive/US_Heart_Patients.csv')"
      ],
      "execution_count": 0,
      "outputs": []
    },
    {
      "cell_type": "code",
      "metadata": {
        "id": "c83SlNqXlS4l",
        "colab_type": "code",
        "outputId": "bf2eaec5-1db1-49a8-89cd-196ba7cf19c0",
        "colab": {
          "base_uri": "https://localhost:8080/",
          "height": 34
        }
      },
      "source": [
        "df.shape"
      ],
      "execution_count": 36,
      "outputs": [
        {
          "output_type": "execute_result",
          "data": {
            "text/plain": [
              "(4240, 16)"
            ]
          },
          "metadata": {
            "tags": []
          },
          "execution_count": 36
        }
      ]
    },
    {
      "cell_type": "code",
      "metadata": {
        "id": "Uh7PZrmNl2GF",
        "colab_type": "code",
        "colab": {}
      },
      "source": [
        "import statsmodels.api as sm"
      ],
      "execution_count": 0,
      "outputs": []
    },
    {
      "cell_type": "code",
      "metadata": {
        "id": "QofeBJe6l6kx",
        "colab_type": "code",
        "outputId": "9fe38dea-c17c-40ed-8a42-97bcc0d2df12",
        "colab": {
          "base_uri": "https://localhost:8080/",
          "height": 204
        }
      },
      "source": [
        "df.head()"
      ],
      "execution_count": 38,
      "outputs": [
        {
          "output_type": "execute_result",
          "data": {
            "text/html": [
              "<div>\n",
              "<style scoped>\n",
              "    .dataframe tbody tr th:only-of-type {\n",
              "        vertical-align: middle;\n",
              "    }\n",
              "\n",
              "    .dataframe tbody tr th {\n",
              "        vertical-align: top;\n",
              "    }\n",
              "\n",
              "    .dataframe thead th {\n",
              "        text-align: right;\n",
              "    }\n",
              "</style>\n",
              "<table border=\"1\" class=\"dataframe\">\n",
              "  <thead>\n",
              "    <tr style=\"text-align: right;\">\n",
              "      <th></th>\n",
              "      <th>male</th>\n",
              "      <th>age</th>\n",
              "      <th>education</th>\n",
              "      <th>currentSmoker</th>\n",
              "      <th>cigsPerDay</th>\n",
              "      <th>BPMeds</th>\n",
              "      <th>prevalentStroke</th>\n",
              "      <th>prevalentHyp</th>\n",
              "      <th>diabetes</th>\n",
              "      <th>totChol</th>\n",
              "      <th>sysBP</th>\n",
              "      <th>diaBP</th>\n",
              "      <th>BMI</th>\n",
              "      <th>heartRate</th>\n",
              "      <th>glucose</th>\n",
              "      <th>TenYearCHD</th>\n",
              "    </tr>\n",
              "  </thead>\n",
              "  <tbody>\n",
              "    <tr>\n",
              "      <th>0</th>\n",
              "      <td>1</td>\n",
              "      <td>39</td>\n",
              "      <td>4.0</td>\n",
              "      <td>0</td>\n",
              "      <td>0.0</td>\n",
              "      <td>0.0</td>\n",
              "      <td>0</td>\n",
              "      <td>0</td>\n",
              "      <td>0</td>\n",
              "      <td>195.0</td>\n",
              "      <td>106.0</td>\n",
              "      <td>70.0</td>\n",
              "      <td>26.97</td>\n",
              "      <td>80.0</td>\n",
              "      <td>77.0</td>\n",
              "      <td>0</td>\n",
              "    </tr>\n",
              "    <tr>\n",
              "      <th>1</th>\n",
              "      <td>0</td>\n",
              "      <td>46</td>\n",
              "      <td>2.0</td>\n",
              "      <td>0</td>\n",
              "      <td>0.0</td>\n",
              "      <td>0.0</td>\n",
              "      <td>0</td>\n",
              "      <td>0</td>\n",
              "      <td>0</td>\n",
              "      <td>250.0</td>\n",
              "      <td>121.0</td>\n",
              "      <td>81.0</td>\n",
              "      <td>28.73</td>\n",
              "      <td>95.0</td>\n",
              "      <td>76.0</td>\n",
              "      <td>0</td>\n",
              "    </tr>\n",
              "    <tr>\n",
              "      <th>2</th>\n",
              "      <td>1</td>\n",
              "      <td>48</td>\n",
              "      <td>1.0</td>\n",
              "      <td>1</td>\n",
              "      <td>20.0</td>\n",
              "      <td>0.0</td>\n",
              "      <td>0</td>\n",
              "      <td>0</td>\n",
              "      <td>0</td>\n",
              "      <td>245.0</td>\n",
              "      <td>127.5</td>\n",
              "      <td>80.0</td>\n",
              "      <td>25.34</td>\n",
              "      <td>75.0</td>\n",
              "      <td>70.0</td>\n",
              "      <td>0</td>\n",
              "    </tr>\n",
              "    <tr>\n",
              "      <th>3</th>\n",
              "      <td>0</td>\n",
              "      <td>61</td>\n",
              "      <td>3.0</td>\n",
              "      <td>1</td>\n",
              "      <td>30.0</td>\n",
              "      <td>0.0</td>\n",
              "      <td>0</td>\n",
              "      <td>1</td>\n",
              "      <td>0</td>\n",
              "      <td>225.0</td>\n",
              "      <td>150.0</td>\n",
              "      <td>95.0</td>\n",
              "      <td>28.58</td>\n",
              "      <td>65.0</td>\n",
              "      <td>103.0</td>\n",
              "      <td>1</td>\n",
              "    </tr>\n",
              "    <tr>\n",
              "      <th>4</th>\n",
              "      <td>0</td>\n",
              "      <td>46</td>\n",
              "      <td>3.0</td>\n",
              "      <td>1</td>\n",
              "      <td>23.0</td>\n",
              "      <td>0.0</td>\n",
              "      <td>0</td>\n",
              "      <td>0</td>\n",
              "      <td>0</td>\n",
              "      <td>285.0</td>\n",
              "      <td>130.0</td>\n",
              "      <td>84.0</td>\n",
              "      <td>23.10</td>\n",
              "      <td>85.0</td>\n",
              "      <td>85.0</td>\n",
              "      <td>0</td>\n",
              "    </tr>\n",
              "  </tbody>\n",
              "</table>\n",
              "</div>"
            ],
            "text/plain": [
              "   male  age  education  currentSmoker  ...    BMI  heartRate  glucose  TenYearCHD\n",
              "0     1   39        4.0              0  ...  26.97       80.0     77.0           0\n",
              "1     0   46        2.0              0  ...  28.73       95.0     76.0           0\n",
              "2     1   48        1.0              1  ...  25.34       75.0     70.0           0\n",
              "3     0   61        3.0              1  ...  28.58       65.0    103.0           1\n",
              "4     0   46        3.0              1  ...  23.10       85.0     85.0           0\n",
              "\n",
              "[5 rows x 16 columns]"
            ]
          },
          "metadata": {
            "tags": []
          },
          "execution_count": 38
        }
      ]
    },
    {
      "cell_type": "code",
      "metadata": {
        "id": "dH3YmE9rmG7N",
        "colab_type": "code",
        "outputId": "4658cd26-13b0-4e69-b4ab-bc8430d223c6",
        "colab": {
          "base_uri": "https://localhost:8080/",
          "height": 408
        }
      },
      "source": [
        "df.info()"
      ],
      "execution_count": 39,
      "outputs": [
        {
          "output_type": "stream",
          "text": [
            "<class 'pandas.core.frame.DataFrame'>\n",
            "RangeIndex: 4240 entries, 0 to 4239\n",
            "Data columns (total 16 columns):\n",
            " #   Column           Non-Null Count  Dtype  \n",
            "---  ------           --------------  -----  \n",
            " 0   male             4240 non-null   int64  \n",
            " 1   age              4240 non-null   int64  \n",
            " 2   education        4135 non-null   float64\n",
            " 3   currentSmoker    4240 non-null   int64  \n",
            " 4   cigsPerDay       4211 non-null   float64\n",
            " 5   BPMeds           4187 non-null   float64\n",
            " 6   prevalentStroke  4240 non-null   int64  \n",
            " 7   prevalentHyp     4240 non-null   int64  \n",
            " 8   diabetes         4240 non-null   int64  \n",
            " 9   totChol          4190 non-null   float64\n",
            " 10  sysBP            4240 non-null   float64\n",
            " 11  diaBP            4240 non-null   float64\n",
            " 12  BMI              4221 non-null   float64\n",
            " 13  heartRate        4239 non-null   float64\n",
            " 14  glucose          3852 non-null   float64\n",
            " 15  TenYearCHD       4240 non-null   int64  \n",
            "dtypes: float64(9), int64(7)\n",
            "memory usage: 530.1 KB\n"
          ],
          "name": "stdout"
        }
      ]
    },
    {
      "cell_type": "code",
      "metadata": {
        "id": "a0f3kP1ZmgJu",
        "colab_type": "code",
        "outputId": "81482817-63a6-4621-b9e1-daf86678af79",
        "colab": {
          "base_uri": "https://localhost:8080/",
          "height": 306
        }
      },
      "source": [
        "df.isnull().sum()"
      ],
      "execution_count": 40,
      "outputs": [
        {
          "output_type": "execute_result",
          "data": {
            "text/plain": [
              "male                 0\n",
              "age                  0\n",
              "education          105\n",
              "currentSmoker        0\n",
              "cigsPerDay          29\n",
              "BPMeds              53\n",
              "prevalentStroke      0\n",
              "prevalentHyp         0\n",
              "diabetes             0\n",
              "totChol             50\n",
              "sysBP                0\n",
              "diaBP                0\n",
              "BMI                 19\n",
              "heartRate            1\n",
              "glucose            388\n",
              "TenYearCHD           0\n",
              "dtype: int64"
            ]
          },
          "metadata": {
            "tags": []
          },
          "execution_count": 40
        }
      ]
    },
    {
      "cell_type": "code",
      "metadata": {
        "id": "cASDU1ehms89",
        "colab_type": "code",
        "colab": {}
      },
      "source": [
        "df2 = df.dropna()"
      ],
      "execution_count": 0,
      "outputs": []
    },
    {
      "cell_type": "code",
      "metadata": {
        "id": "loiIMLjJm8HA",
        "colab_type": "code",
        "outputId": "a2aacec7-a2e4-48dd-d252-db40a1a3c6bb",
        "colab": {
          "base_uri": "https://localhost:8080/",
          "height": 34
        }
      },
      "source": [
        "df.shape[0] - df2.shape[0]"
      ],
      "execution_count": 42,
      "outputs": [
        {
          "output_type": "execute_result",
          "data": {
            "text/plain": [
              "582"
            ]
          },
          "metadata": {
            "tags": []
          },
          "execution_count": 42
        }
      ]
    },
    {
      "cell_type": "code",
      "metadata": {
        "id": "e7NMC6qL396f",
        "colab_type": "code",
        "outputId": "82a9e670-2af5-416c-99d3-8ddfca7518ef",
        "colab": {
          "base_uri": "https://localhost:8080/",
          "height": 102
        }
      },
      "source": [
        "df2.rename(columns={'male':'Gender'},inplace=True)"
      ],
      "execution_count": 43,
      "outputs": [
        {
          "output_type": "stream",
          "text": [
            "/usr/local/lib/python3.6/dist-packages/pandas/core/frame.py:4133: SettingWithCopyWarning: \n",
            "A value is trying to be set on a copy of a slice from a DataFrame\n",
            "\n",
            "See the caveats in the documentation: https://pandas.pydata.org/pandas-docs/stable/user_guide/indexing.html#returning-a-view-versus-a-copy\n",
            "  errors=errors,\n"
          ],
          "name": "stderr"
        }
      ]
    },
    {
      "cell_type": "code",
      "metadata": {
        "id": "xT0XSa3s3A2p",
        "colab_type": "code",
        "outputId": "6bf6ada0-6cf1-4466-908b-44904beb898c",
        "colab": {
          "base_uri": "https://localhost:8080/",
          "height": 514
        }
      },
      "source": [
        "plt.figure(figsize=(13,7))\n",
        "sns.heatmap(df2.corr(),annot = True,cbar=False)"
      ],
      "execution_count": 44,
      "outputs": [
        {
          "output_type": "execute_result",
          "data": {
            "text/plain": [
              "<matplotlib.axes._subplots.AxesSubplot at 0x7effc320f6a0>"
            ]
          },
          "metadata": {
            "tags": []
          },
          "execution_count": 44
        },
        {
          "output_type": "display_data",
          "data": {
            "image/png": "[encoded data removed]",
            "text/plain": [
              "<Figure size 936x504 with 1 Axes>"
            ]
          },
          "metadata": {
            "tags": [],
            "needs_background": "light"
          }
        }
      ]
    },
    {
      "cell_type": "code",
      "metadata": {
        "id": "idetRuDc3Ceg",
        "colab_type": "code",
        "colab": {}
      },
      "source": [
        "X = df2.drop('TenYearCHD',axis=1)"
      ],
      "execution_count": 0,
      "outputs": []
    },
    {
      "cell_type": "code",
      "metadata": {
        "id": "nUjSRdzo6ZXP",
        "colab_type": "code",
        "outputId": "36545afc-99e1-4225-ad0e-8d31e67ed46f",
        "colab": {
          "base_uri": "https://localhost:8080/",
          "height": 34
        }
      },
      "source": [
        "X.shape"
      ],
      "execution_count": 46,
      "outputs": [
        {
          "output_type": "execute_result",
          "data": {
            "text/plain": [
              "(3658, 15)"
            ]
          },
          "metadata": {
            "tags": []
          },
          "execution_count": 46
        }
      ]
    },
    {
      "cell_type": "code",
      "metadata": {
        "id": "QSBkfh2Y6Z8l",
        "colab_type": "code",
        "colab": {}
      },
      "source": [
        "y = df2['TenYearCHD']"
      ],
      "execution_count": 0,
      "outputs": []
    },
    {
      "cell_type": "code",
      "metadata": {
        "id": "pR6ijQu06iJd",
        "colab_type": "code",
        "colab": {}
      },
      "source": [
        "Xc = sm.add_constant(X)"
      ],
      "execution_count": 0,
      "outputs": []
    },
    {
      "cell_type": "code",
      "metadata": {
        "id": "JWr5FDp8637V",
        "colab_type": "code",
        "outputId": "1e844b80-e257-46f6-846a-fc018233f1e4",
        "colab": {
          "base_uri": "https://localhost:8080/",
          "height": 593
        }
      },
      "source": [
        "model = sm.Logit(y,Xc).fit()\n",
        "model.summary()"
      ],
      "execution_count": 49,
      "outputs": [
        {
          "output_type": "stream",
          "text": [
            "Optimization terminated successfully.\n",
            "         Current function value: 0.376500\n",
            "         Iterations 7\n"
          ],
          "name": "stdout"
        },
        {
          "output_type": "execute_result",
          "data": {
            "text/html": [
              "<table class=\"simpletable\">\n",
              "<caption>Logit Regression Results</caption>\n",
              "<tr>\n",
              "  <th>Dep. Variable:</th>      <td>TenYearCHD</td>    <th>  No. Observations:  </th>  <td>  3658</td>  \n",
              "</tr>\n",
              "<tr>\n",
              "  <th>Model:</th>                 <td>Logit</td>      <th>  Df Residuals:      </th>  <td>  3642</td>  \n",
              "</tr>\n",
              "<tr>\n",
              "  <th>Method:</th>                 <td>MLE</td>       <th>  Df Model:          </th>  <td>    15</td>  \n",
              "</tr>\n",
              "<tr>\n",
              "  <th>Date:</th>            <td>Thu, 23 Apr 2020</td> <th>  Pseudo R-squ.:     </th>  <td>0.1175</td>  \n",
              "</tr>\n",
              "<tr>\n",
              "  <th>Time:</th>                <td>01:25:35</td>     <th>  Log-Likelihood:    </th> <td> -1377.2</td> \n",
              "</tr>\n",
              "<tr>\n",
              "  <th>converged:</th>             <td>True</td>       <th>  LL-Null:           </th> <td> -1560.6</td> \n",
              "</tr>\n",
              "<tr>\n",
              "  <th>Covariance Type:</th>     <td>nonrobust</td>    <th>  LLR p-value:       </th> <td>6.676e-69</td>\n",
              "</tr>\n",
              "</table>\n",
              "<table class=\"simpletable\">\n",
              "<tr>\n",
              "         <td></td>            <th>coef</th>     <th>std err</th>      <th>z</th>      <th>P>|z|</th>  <th>[0.025</th>    <th>0.975]</th>  \n",
              "</tr>\n",
              "<tr>\n",
              "  <th>const</th>           <td>   -8.3282</td> <td>    0.715</td> <td>  -11.640</td> <td> 0.000</td> <td>   -9.730</td> <td>   -6.926</td>\n",
              "</tr>\n",
              "<tr>\n",
              "  <th>Gender</th>          <td>    0.5553</td> <td>    0.109</td> <td>    5.093</td> <td> 0.000</td> <td>    0.342</td> <td>    0.769</td>\n",
              "</tr>\n",
              "<tr>\n",
              "  <th>age</th>             <td>    0.0635</td> <td>    0.007</td> <td>    9.509</td> <td> 0.000</td> <td>    0.050</td> <td>    0.077</td>\n",
              "</tr>\n",
              "<tr>\n",
              "  <th>education</th>       <td>   -0.0478</td> <td>    0.049</td> <td>   -0.967</td> <td> 0.334</td> <td>   -0.145</td> <td>    0.049</td>\n",
              "</tr>\n",
              "<tr>\n",
              "  <th>currentSmoker</th>   <td>    0.0716</td> <td>    0.157</td> <td>    0.457</td> <td> 0.648</td> <td>   -0.236</td> <td>    0.379</td>\n",
              "</tr>\n",
              "<tr>\n",
              "  <th>cigsPerDay</th>      <td>    0.0179</td> <td>    0.006</td> <td>    2.872</td> <td> 0.004</td> <td>    0.006</td> <td>    0.030</td>\n",
              "</tr>\n",
              "<tr>\n",
              "  <th>BPMeds</th>          <td>    0.1625</td> <td>    0.234</td> <td>    0.693</td> <td> 0.488</td> <td>   -0.297</td> <td>    0.622</td>\n",
              "</tr>\n",
              "<tr>\n",
              "  <th>prevalentStroke</th> <td>    0.6937</td> <td>    0.490</td> <td>    1.417</td> <td> 0.157</td> <td>   -0.266</td> <td>    1.653</td>\n",
              "</tr>\n",
              "<tr>\n",
              "  <th>prevalentHyp</th>    <td>    0.2342</td> <td>    0.138</td> <td>    1.697</td> <td> 0.090</td> <td>   -0.036</td> <td>    0.505</td>\n",
              "</tr>\n",
              "<tr>\n",
              "  <th>diabetes</th>        <td>    0.0392</td> <td>    0.316</td> <td>    0.124</td> <td> 0.901</td> <td>   -0.579</td> <td>    0.658</td>\n",
              "</tr>\n",
              "<tr>\n",
              "  <th>totChol</th>         <td>    0.0023</td> <td>    0.001</td> <td>    2.070</td> <td> 0.038</td> <td>    0.000</td> <td>    0.005</td>\n",
              "</tr>\n",
              "<tr>\n",
              "  <th>sysBP</th>           <td>    0.0154</td> <td>    0.004</td> <td>    4.044</td> <td> 0.000</td> <td>    0.008</td> <td>    0.023</td>\n",
              "</tr>\n",
              "<tr>\n",
              "  <th>diaBP</th>           <td>   -0.0042</td> <td>    0.006</td> <td>   -0.646</td> <td> 0.518</td> <td>   -0.017</td> <td>    0.008</td>\n",
              "</tr>\n",
              "<tr>\n",
              "  <th>BMI</th>             <td>    0.0067</td> <td>    0.013</td> <td>    0.523</td> <td> 0.601</td> <td>   -0.018</td> <td>    0.032</td>\n",
              "</tr>\n",
              "<tr>\n",
              "  <th>heartRate</th>       <td>   -0.0032</td> <td>    0.004</td> <td>   -0.771</td> <td> 0.441</td> <td>   -0.012</td> <td>    0.005</td>\n",
              "</tr>\n",
              "<tr>\n",
              "  <th>glucose</th>         <td>    0.0071</td> <td>    0.002</td> <td>    3.190</td> <td> 0.001</td> <td>    0.003</td> <td>    0.012</td>\n",
              "</tr>\n",
              "</table>"
            ],
            "text/plain": [
              "<class 'statsmodels.iolib.summary.Summary'>\n",
              "\"\"\"\n",
              "                           Logit Regression Results                           \n",
              "==============================================================================\n",
              "Dep. Variable:             TenYearCHD   No. Observations:                 3658\n",
              "Model:                          Logit   Df Residuals:                     3642\n",
              "Method:                           MLE   Df Model:                           15\n",
              "Date:                Thu, 23 Apr 2020   Pseudo R-squ.:                  0.1175\n",
              "Time:                        01:25:35   Log-Likelihood:                -1377.2\n",
              "converged:                       True   LL-Null:                       -1560.6\n",
              "Covariance Type:            nonrobust   LLR p-value:                 6.676e-69\n",
              "===================================================================================\n",
              "                      coef    std err          z      P>|z|      [0.025      0.975]\n",
              "-----------------------------------------------------------------------------------\n",
              "const              -8.3282      0.715    -11.640      0.000      -9.730      -6.926\n",
              "Gender              0.5553      0.109      5.093      0.000       0.342       0.769\n",
              "age                 0.0635      0.007      9.509      0.000       0.050       0.077\n",
              "education          -0.0478      0.049     -0.967      0.334      -0.145       0.049\n",
              "currentSmoker       0.0716      0.157      0.457      0.648      -0.236       0.379\n",
              "cigsPerDay          0.0179      0.006      2.872      0.004       0.006       0.030\n",
              "BPMeds              0.1625      0.234      0.693      0.488      -0.297       0.622\n",
              "prevalentStroke     0.6937      0.490      1.417      0.157      -0.266       1.653\n",
              "prevalentHyp        0.2342      0.138      1.697      0.090      -0.036       0.505\n",
              "diabetes            0.0392      0.316      0.124      0.901      -0.579       0.658\n",
              "totChol             0.0023      0.001      2.070      0.038       0.000       0.005\n",
              "sysBP               0.0154      0.004      4.044      0.000       0.008       0.023\n",
              "diaBP              -0.0042      0.006     -0.646      0.518      -0.017       0.008\n",
              "BMI                 0.0067      0.013      0.523      0.601      -0.018       0.032\n",
              "heartRate          -0.0032      0.004     -0.771      0.441      -0.012       0.005\n",
              "glucose             0.0071      0.002      3.190      0.001       0.003       0.012\n",
              "===================================================================================\n",
              "\"\"\""
            ]
          },
          "metadata": {
            "tags": []
          },
          "execution_count": 49
        }
      ]
    },
    {
      "cell_type": "code",
      "metadata": {
        "id": "GWJY_tFH9_Im",
        "colab_type": "code",
        "colab": {}
      },
      "source": [
        ""
      ],
      "execution_count": 0,
      "outputs": []
    },
    {
      "cell_type": "code",
      "metadata": {
        "id": "r0pCoFPS7Rnq",
        "colab_type": "code",
        "colab": {}
      },
      "source": [
        "def backward_elimination(df,target):\n",
        "  X = df.drop(target,axis =1)\n",
        "  Xc = sm.add_constant(X)\n",
        "  remaining_cols = list(Xc.columns)\n",
        "  y = df[target]\n",
        "  while len(remaining_cols) > 0 : \n",
        "    X_temp = Xc[remaining_cols]\n",
        "    model = sm.Logit(y,X_temp).fit()\n",
        "    pvals = list(model.pvalues)\n",
        "    max_pval = max(pvals)\n",
        "    max_pval_feature = model.pvalues.idxmax()\n",
        "    if max_pval > 0.03:\n",
        "      remaining_cols.remove(max_pval_feature)\n",
        "      print(max_pval_feature,max_pval)\n",
        "    else:\n",
        "      break\n",
        "  return remaining_cols"
      ],
      "execution_count": 0,
      "outputs": []
    },
    {
      "cell_type": "code",
      "metadata": {
        "id": "vpsrAnGs_Auq",
        "colab_type": "code",
        "outputId": "342eb685-f77f-4de0-c616-155982e746fa",
        "colab": {
          "base_uri": "https://localhost:8080/",
          "height": 748
        }
      },
      "source": [
        "impt_features = backward_elimination(df2,'TenYearCHD')"
      ],
      "execution_count": 51,
      "outputs": [
        {
          "output_type": "stream",
          "text": [
            "Optimization terminated successfully.\n",
            "         Current function value: 0.376500\n",
            "         Iterations 7\n",
            "diabetes 0.9012045780435511\n",
            "Optimization terminated successfully.\n",
            "         Current function value: 0.376502\n",
            "         Iterations 7\n",
            "currentSmoker 0.64836503909236\n",
            "Optimization terminated successfully.\n",
            "         Current function value: 0.376531\n",
            "         Iterations 7\n",
            "BMI 0.6296050439469527\n",
            "Optimization terminated successfully.\n",
            "         Current function value: 0.376562\n",
            "         Iterations 7\n",
            "diaBP 0.5625804781393751\n",
            "Optimization terminated successfully.\n",
            "         Current function value: 0.376608\n",
            "         Iterations 7\n",
            "BPMeds 0.4697715086532108\n",
            "Optimization terminated successfully.\n",
            "         Current function value: 0.376679\n",
            "         Iterations 7\n",
            "heartRate 0.41602841295529747\n",
            "Optimization terminated successfully.\n",
            "         Current function value: 0.376770\n",
            "         Iterations 7\n",
            "education 0.3066346175601081\n",
            "Optimization terminated successfully.\n",
            "         Current function value: 0.376914\n",
            "         Iterations 7\n",
            "prevalentStroke 0.12008291603333385\n",
            "Optimization terminated successfully.\n",
            "         Current function value: 0.377226\n",
            "         Iterations 7\n",
            "prevalentHyp 0.0829954016839617\n",
            "Optimization terminated successfully.\n",
            "         Current function value: 0.377634\n",
            "         Iterations 7\n",
            "totChol 0.042221247653764324\n",
            "Optimization terminated successfully.\n",
            "         Current function value: 0.378192\n",
            "         Iterations 7\n"
          ],
          "name": "stdout"
        }
      ]
    },
    {
      "cell_type": "code",
      "metadata": {
        "id": "qqPr8mF-_FLS",
        "colab_type": "code",
        "outputId": "d8e7691d-de7e-4872-c0c4-9ba302b498d4",
        "colab": {
          "base_uri": "https://localhost:8080/",
          "height": 34
        }
      },
      "source": [
        "impt_features"
      ],
      "execution_count": 52,
      "outputs": [
        {
          "output_type": "execute_result",
          "data": {
            "text/plain": [
              "['const', 'Gender', 'age', 'cigsPerDay', 'sysBP', 'glucose']"
            ]
          },
          "metadata": {
            "tags": []
          },
          "execution_count": 52
        }
      ]
    },
    {
      "cell_type": "code",
      "metadata": {
        "id": "gp4cwQVo_rx_",
        "colab_type": "code",
        "outputId": "29c463c6-2081-47c4-81d0-551b755583e2",
        "colab": {
          "base_uri": "https://localhost:8080/",
          "height": 383
        }
      },
      "source": [
        "model = sm.Logit(y,Xc[impt_features]).fit()\n",
        "model.summary()"
      ],
      "execution_count": 53,
      "outputs": [
        {
          "output_type": "stream",
          "text": [
            "Optimization terminated successfully.\n",
            "         Current function value: 0.378192\n",
            "         Iterations 7\n"
          ],
          "name": "stdout"
        },
        {
          "output_type": "execute_result",
          "data": {
            "text/html": [
              "<table class=\"simpletable\">\n",
              "<caption>Logit Regression Results</caption>\n",
              "<tr>\n",
              "  <th>Dep. Variable:</th>      <td>TenYearCHD</td>    <th>  No. Observations:  </th>  <td>  3658</td>  \n",
              "</tr>\n",
              "<tr>\n",
              "  <th>Model:</th>                 <td>Logit</td>      <th>  Df Residuals:      </th>  <td>  3652</td>  \n",
              "</tr>\n",
              "<tr>\n",
              "  <th>Method:</th>                 <td>MLE</td>       <th>  Df Model:          </th>  <td>     5</td>  \n",
              "</tr>\n",
              "<tr>\n",
              "  <th>Date:</th>            <td>Thu, 23 Apr 2020</td> <th>  Pseudo R-squ.:     </th>  <td>0.1135</td>  \n",
              "</tr>\n",
              "<tr>\n",
              "  <th>Time:</th>                <td>01:25:36</td>     <th>  Log-Likelihood:    </th> <td> -1383.4</td> \n",
              "</tr>\n",
              "<tr>\n",
              "  <th>converged:</th>             <td>True</td>       <th>  LL-Null:           </th> <td> -1560.6</td> \n",
              "</tr>\n",
              "<tr>\n",
              "  <th>Covariance Type:</th>     <td>nonrobust</td>    <th>  LLR p-value:       </th> <td>2.041e-74</td>\n",
              "</tr>\n",
              "</table>\n",
              "<table class=\"simpletable\">\n",
              "<tr>\n",
              "       <td></td>         <th>coef</th>     <th>std err</th>      <th>z</th>      <th>P>|z|</th>  <th>[0.025</th>    <th>0.975]</th>  \n",
              "</tr>\n",
              "<tr>\n",
              "  <th>const</th>      <td>   -8.7081</td> <td>    0.421</td> <td>  -20.682</td> <td> 0.000</td> <td>   -9.533</td> <td>   -7.883</td>\n",
              "</tr>\n",
              "<tr>\n",
              "  <th>Gender</th>     <td>    0.5312</td> <td>    0.106</td> <td>    5.032</td> <td> 0.000</td> <td>    0.324</td> <td>    0.738</td>\n",
              "</tr>\n",
              "<tr>\n",
              "  <th>age</th>        <td>    0.0674</td> <td>    0.006</td> <td>   10.574</td> <td> 0.000</td> <td>    0.055</td> <td>    0.080</td>\n",
              "</tr>\n",
              "<tr>\n",
              "  <th>cigsPerDay</th> <td>    0.0195</td> <td>    0.004</td> <td>    4.683</td> <td> 0.000</td> <td>    0.011</td> <td>    0.028</td>\n",
              "</tr>\n",
              "<tr>\n",
              "  <th>sysBP</th>      <td>    0.0180</td> <td>    0.002</td> <td>    8.413</td> <td> 0.000</td> <td>    0.014</td> <td>    0.022</td>\n",
              "</tr>\n",
              "<tr>\n",
              "  <th>glucose</th>    <td>    0.0073</td> <td>    0.002</td> <td>    4.369</td> <td> 0.000</td> <td>    0.004</td> <td>    0.011</td>\n",
              "</tr>\n",
              "</table>"
            ],
            "text/plain": [
              "<class 'statsmodels.iolib.summary.Summary'>\n",
              "\"\"\"\n",
              "                           Logit Regression Results                           \n",
              "==============================================================================\n",
              "Dep. Variable:             TenYearCHD   No. Observations:                 3658\n",
              "Model:                          Logit   Df Residuals:                     3652\n",
              "Method:                           MLE   Df Model:                            5\n",
              "Date:                Thu, 23 Apr 2020   Pseudo R-squ.:                  0.1135\n",
              "Time:                        01:25:36   Log-Likelihood:                -1383.4\n",
              "converged:                       True   LL-Null:                       -1560.6\n",
              "Covariance Type:            nonrobust   LLR p-value:                 2.041e-74\n",
              "==============================================================================\n",
              "                 coef    std err          z      P>|z|      [0.025      0.975]\n",
              "------------------------------------------------------------------------------\n",
              "const         -8.7081      0.421    -20.682      0.000      -9.533      -7.883\n",
              "Gender         0.5312      0.106      5.032      0.000       0.324       0.738\n",
              "age            0.0674      0.006     10.574      0.000       0.055       0.080\n",
              "cigsPerDay     0.0195      0.004      4.683      0.000       0.011       0.028\n",
              "sysBP          0.0180      0.002      8.413      0.000       0.014       0.022\n",
              "glucose        0.0073      0.002      4.369      0.000       0.004       0.011\n",
              "==============================================================================\n",
              "\"\"\""
            ]
          },
          "metadata": {
            "tags": []
          },
          "execution_count": 53
        }
      ]
    },
    {
      "cell_type": "markdown",
      "metadata": {
        "id": "d-1N85XaImJH",
        "colab_type": "text"
      },
      "source": [
        "# Confusion Matrix\n",
        "For a confusion matrix, the abonormility is considered as positive case and the opposite to abnormality is considered as negative case.\n",
        "\n",
        "![alt text](https://2.bp.blogspot.com/-EvSXDotTOwc/XMfeOGZ-CVI/AAAAAAAAEiE/oePFfvhfOQM11dgRn9FkPxlegCXbgOF4QCLcBGAs/s1600/confusionMatrxiUpdated.jpg)"
      ]
    },
    {
      "cell_type": "markdown",
      "metadata": {
        "id": "fWDXMj2mPI-t",
        "colab_type": "text"
      },
      "source": [
        "# Pseudo R-square (Used Rarely)\n",
        "\n",
        "![alt text](https://thestatsgeek.com/wp-content/ql-cache/quicklatex.com-5131a3908febd4a52f24c502dd3a83c4_l3.svg)\n",
        "\n",
        "Numerator : Log of Likelihood  when all the features are taken into consideration\n",
        "\n",
        "Denominator : Log of Likelihood  when none of the features are taken into consideration. (The null model will classify all the records to the class with higher probability)\n",
        "\n",
        "So according to our model : \n",
        "\n",
        "Pseudo R-square =  1 - [ (-1381.4)/(-1560.6) ] = 0.1148\n",
        "\n",
        "MAXIMUM VALUE OF PSEUDO R_SQUARE IS AROUND 0.4"
      ]
    },
    {
      "cell_type": "code",
      "metadata": {
        "id": "FNxhCHkpYNIE",
        "colab_type": "code",
        "colab": {}
      },
      "source": [
        "impt_features.remove('const')"
      ],
      "execution_count": 0,
      "outputs": []
    },
    {
      "cell_type": "code",
      "metadata": {
        "id": "SzMfaGigPOt6",
        "colab_type": "code",
        "colab": {}
      },
      "source": [
        "from sklearn.model_selection import train_test_split\n",
        "X_train,X_test,y_train,y_test = train_test_split(X[impt_features],y,test_size = 0.3,random_state = 0)"
      ],
      "execution_count": 0,
      "outputs": []
    },
    {
      "cell_type": "code",
      "metadata": {
        "id": "CBD3c-nFXi5O",
        "colab_type": "code",
        "outputId": "e9695512-7867-4034-f33f-3908953262bb",
        "colab": {
          "base_uri": "https://localhost:8080/",
          "height": 68
        }
      },
      "source": [
        "from sklearn.linear_model import LogisticRegression\n",
        "from sklearn import metrics\n",
        "model = LogisticRegression()\n",
        "model.fit(X_train,y_train)\n",
        "y_pred = model.predict(X_test)\n",
        "accuracy = metrics.accuracy_score(y_test,y_pred)\n",
        "print(accuracy * 100)\n",
        "cm = metrics.confusion_matrix(y_test,y_pred)\n",
        "print(cm)"
      ],
      "execution_count": 56,
      "outputs": [
        {
          "output_type": "stream",
          "text": [
            "84.15300546448088\n",
            "[[907   9]\n",
            " [165  17]]\n"
          ],
          "name": "stdout"
        }
      ]
    },
    {
      "cell_type": "markdown",
      "metadata": {
        "id": "w5G_-ugFlvVy",
        "colab_type": "text"
      },
      "source": [
        "### Confusion Matrix :\n",
        "\n",
        "&nbsp;&nbsp;&nbsp;&nbsp;&nbsp;&nbsp;&nbsp;&nbsp;&nbsp;&nbsp;&nbsp;&nbsp;&nbsp;&nbsp;&nbsp;&nbsp;&nbsp;&nbsp;&nbsp;&nbsp;&nbsp;***Actual***\n",
        "\n",
        "***Predicted*** [ TN &nbsp;&nbsp;&nbsp;&nbsp;&nbsp;&nbsp;&nbsp; FP/alpha/type1 error\n",
        "\n",
        "&nbsp;&nbsp;&nbsp;&nbsp;&nbsp;&nbsp;&nbsp;&nbsp;&nbsp;&nbsp;&nbsp;&nbsp;&nbsp;&nbsp;&nbsp;&nbsp;&nbsp;&nbsp;&nbsp;&nbsp;&nbsp;FN/beta/type2 error &nbsp;&nbsp;&nbsp;&nbsp;&nbsp;&nbsp;&nbsp; TP]\n",
        "\n"
      ]
    },
    {
      "cell_type": "markdown",
      "metadata": {
        "id": "SaSVl7p7qj8r",
        "colab_type": "text"
      },
      "source": [
        "*   Alpha/ Type1 Error/ False Positive rate = FP/FP+TN\n",
        "*   Beta/ Type2 Error/ False Negative Rate = FN/FN+TP\n",
        "*   1- Alpha/ True Negative Rate/ Specificity = TN/TN+FP\n",
        "*   1- Beta/ True Positive Rate/ Sensitivity/Recall = TP/TP+FN"
      ]
    },
    {
      "cell_type": "code",
      "metadata": {
        "id": "hsHNZW4Il7iK",
        "colab_type": "code",
        "outputId": "da842137-2045-49f8-b3b3-a4ed996b4184",
        "colab": {
          "base_uri": "https://localhost:8080/",
          "height": 51
        }
      },
      "source": [
        "print('TPR/Sensitivity/Recall : ',17/182)\n",
        "print('Using metrics : ',metrics.recall_score(y_test,y_pred))"
      ],
      "execution_count": 57,
      "outputs": [
        {
          "output_type": "stream",
          "text": [
            "TPR/Sensitivity/Recall :  0.09340659340659341\n",
            "Using metrics :  0.09340659340659341\n"
          ],
          "name": "stdout"
        }
      ]
    },
    {
      "cell_type": "code",
      "metadata": {
        "id": "AdbtS1gUuoIZ",
        "colab_type": "code",
        "outputId": "72717bc9-4f3a-44f9-ac65-be602a587284",
        "colab": {
          "base_uri": "https://localhost:8080/",
          "height": 34
        }
      },
      "source": [
        "print('TNR/Specificity : ',907/916)"
      ],
      "execution_count": 58,
      "outputs": [
        {
          "output_type": "stream",
          "text": [
            "TNR/Specificity :  0.990174672489083\n"
          ],
          "name": "stdout"
        }
      ]
    },
    {
      "cell_type": "code",
      "metadata": {
        "id": "M7Nn_cPpmck_",
        "colab_type": "code",
        "outputId": "5ab22503-ea06-42de-eef1-b83db7d19f21",
        "colab": {
          "base_uri": "https://localhost:8080/",
          "height": 34
        }
      },
      "source": [
        "model.coef_"
      ],
      "execution_count": 59,
      "outputs": [
        {
          "output_type": "execute_result",
          "data": {
            "text/plain": [
              "array([[0.5213538 , 0.05738011, 0.01798024, 0.01886123, 0.00915603]])"
            ]
          },
          "metadata": {
            "tags": []
          },
          "execution_count": 59
        }
      ]
    },
    {
      "cell_type": "code",
      "metadata": {
        "id": "7tnyN6XO_AY6",
        "colab_type": "code",
        "outputId": "6945c234-5c7e-48cd-96eb-2254ca6b02bc",
        "colab": {
          "base_uri": "https://localhost:8080/",
          "height": 34
        }
      },
      "source": [
        "np.exp(model.coef_)"
      ],
      "execution_count": 60,
      "outputs": [
        {
          "output_type": "execute_result",
          "data": {
            "text/plain": [
              "array([[1.68430632, 1.05905829, 1.01814286, 1.01904022, 1.00919807]])"
            ]
          },
          "metadata": {
            "tags": []
          },
          "execution_count": 60
        }
      ]
    },
    {
      "cell_type": "code",
      "metadata": {
        "id": "tBYT8EX_tWo0",
        "colab_type": "code",
        "colab": {}
      },
      "source": [
        "backpain_df = pd.read_csv('/content/gdrive/My Drive/backpain - backpain.csv')"
      ],
      "execution_count": 0,
      "outputs": []
    },
    {
      "cell_type": "code",
      "metadata": {
        "id": "fCCRFFtdv0y-",
        "colab_type": "code",
        "outputId": "9231adda-713f-470c-b163-6e652a5bde72",
        "colab": {
          "base_uri": "https://localhost:8080/",
          "height": 224
        }
      },
      "source": [
        "backpain_df.head()"
      ],
      "execution_count": 62,
      "outputs": [
        {
          "output_type": "execute_result",
          "data": {
            "text/html": [
              "<div>\n",
              "<style scoped>\n",
              "    .dataframe tbody tr th:only-of-type {\n",
              "        vertical-align: middle;\n",
              "    }\n",
              "\n",
              "    .dataframe tbody tr th {\n",
              "        vertical-align: top;\n",
              "    }\n",
              "\n",
              "    .dataframe thead th {\n",
              "        text-align: right;\n",
              "    }\n",
              "</style>\n",
              "<table border=\"1\" class=\"dataframe\">\n",
              "  <thead>\n",
              "    <tr style=\"text-align: right;\">\n",
              "      <th></th>\n",
              "      <th>pelvic_incidence</th>\n",
              "      <th>pelvictilt</th>\n",
              "      <th>lumbar_lordosis_angle</th>\n",
              "      <th>sacral_slope</th>\n",
              "      <th>pelvic_radius</th>\n",
              "      <th>degree_spondylolisthesis</th>\n",
              "      <th>pelvic_slope</th>\n",
              "      <th>Direct_tilt</th>\n",
              "      <th>thoracic_slope</th>\n",
              "      <th>cervical_tilt</th>\n",
              "      <th>sacrum_angle</th>\n",
              "      <th>scoliosis_slope</th>\n",
              "      <th>Status</th>\n",
              "    </tr>\n",
              "  </thead>\n",
              "  <tbody>\n",
              "    <tr>\n",
              "      <th>0</th>\n",
              "      <td>63.027818</td>\n",
              "      <td>22.552586</td>\n",
              "      <td>39.609117</td>\n",
              "      <td>40.475232</td>\n",
              "      <td>98.672917</td>\n",
              "      <td>-0.254400</td>\n",
              "      <td>0.744503</td>\n",
              "      <td>12.5661</td>\n",
              "      <td>14.5386</td>\n",
              "      <td>15.30468</td>\n",
              "      <td>-28.658501</td>\n",
              "      <td>43.5123</td>\n",
              "      <td>Abnormal</td>\n",
              "    </tr>\n",
              "    <tr>\n",
              "      <th>1</th>\n",
              "      <td>39.056951</td>\n",
              "      <td>10.060991</td>\n",
              "      <td>25.015378</td>\n",
              "      <td>28.995960</td>\n",
              "      <td>114.405425</td>\n",
              "      <td>4.564259</td>\n",
              "      <td>0.415186</td>\n",
              "      <td>12.8874</td>\n",
              "      <td>17.5323</td>\n",
              "      <td>16.78486</td>\n",
              "      <td>-25.530607</td>\n",
              "      <td>16.1102</td>\n",
              "      <td>Abnormal</td>\n",
              "    </tr>\n",
              "    <tr>\n",
              "      <th>2</th>\n",
              "      <td>68.832021</td>\n",
              "      <td>22.218482</td>\n",
              "      <td>50.092194</td>\n",
              "      <td>46.613539</td>\n",
              "      <td>105.985135</td>\n",
              "      <td>-3.530317</td>\n",
              "      <td>0.474889</td>\n",
              "      <td>26.8343</td>\n",
              "      <td>17.4861</td>\n",
              "      <td>16.65897</td>\n",
              "      <td>-29.031888</td>\n",
              "      <td>19.2221</td>\n",
              "      <td>Abnormal</td>\n",
              "    </tr>\n",
              "    <tr>\n",
              "      <th>3</th>\n",
              "      <td>69.297008</td>\n",
              "      <td>24.652878</td>\n",
              "      <td>44.311238</td>\n",
              "      <td>44.644130</td>\n",
              "      <td>101.868495</td>\n",
              "      <td>11.211523</td>\n",
              "      <td>0.369345</td>\n",
              "      <td>23.5603</td>\n",
              "      <td>12.7074</td>\n",
              "      <td>11.42447</td>\n",
              "      <td>-30.470246</td>\n",
              "      <td>18.8329</td>\n",
              "      <td>Abnormal</td>\n",
              "    </tr>\n",
              "    <tr>\n",
              "      <th>4</th>\n",
              "      <td>49.712859</td>\n",
              "      <td>9.652075</td>\n",
              "      <td>28.317406</td>\n",
              "      <td>40.060784</td>\n",
              "      <td>108.168725</td>\n",
              "      <td>7.918501</td>\n",
              "      <td>0.543360</td>\n",
              "      <td>35.4940</td>\n",
              "      <td>15.9546</td>\n",
              "      <td>8.87237</td>\n",
              "      <td>-16.378376</td>\n",
              "      <td>24.9171</td>\n",
              "      <td>Abnormal</td>\n",
              "    </tr>\n",
              "  </tbody>\n",
              "</table>\n",
              "</div>"
            ],
            "text/plain": [
              "   pelvic_incidence  pelvictilt  ...  scoliosis_slope    Status\n",
              "0         63.027818   22.552586  ...          43.5123  Abnormal\n",
              "1         39.056951   10.060991  ...          16.1102  Abnormal\n",
              "2         68.832021   22.218482  ...          19.2221  Abnormal\n",
              "3         69.297008   24.652878  ...          18.8329  Abnormal\n",
              "4         49.712859    9.652075  ...          24.9171  Abnormal\n",
              "\n",
              "[5 rows x 13 columns]"
            ]
          },
          "metadata": {
            "tags": []
          },
          "execution_count": 62
        }
      ]
    },
    {
      "cell_type": "code",
      "metadata": {
        "id": "eC90zJlwTMs0",
        "colab_type": "code",
        "outputId": "f5658b15-1f1d-40a0-8d7c-2b7890d72d72",
        "colab": {
          "base_uri": "https://localhost:8080/",
          "height": 68
        }
      },
      "source": [
        "backpain_df['Status'].value_counts()"
      ],
      "execution_count": 63,
      "outputs": [
        {
          "output_type": "execute_result",
          "data": {
            "text/plain": [
              "Abnormal    210\n",
              "Normal      100\n",
              "Name: Status, dtype: int64"
            ]
          },
          "metadata": {
            "tags": []
          },
          "execution_count": 63
        }
      ]
    },
    {
      "cell_type": "code",
      "metadata": {
        "id": "fiNHNMSVTbr2",
        "colab_type": "code",
        "colab": {}
      },
      "source": [
        "backpain_df['Status'].replace({'Abnormal':1,'Normal':0},inplace = True)"
      ],
      "execution_count": 0,
      "outputs": []
    },
    {
      "cell_type": "code",
      "metadata": {
        "id": "sf6OUKa7TTOl",
        "colab_type": "code",
        "outputId": "49478223-131e-4107-97d4-a647a422cd3f",
        "colab": {
          "base_uri": "https://localhost:8080/",
          "height": 561
        }
      },
      "source": [
        "plt.figure(figsize=(13,7))\n",
        "sns.heatmap(backpain_df.corr(),annot = True,cbar=False)"
      ],
      "execution_count": 65,
      "outputs": [
        {
          "output_type": "execute_result",
          "data": {
            "text/plain": [
              "<matplotlib.axes._subplots.AxesSubplot at 0x7effc0f26320>"
            ]
          },
          "metadata": {
            "tags": []
          },
          "execution_count": 65
        },
        {
          "output_type": "display_data",
          "data": {
            "image/png": "[encoded data removed]",
            "text/plain": [
              "<Figure size 936x504 with 1 Axes>"
            ]
          },
          "metadata": {
            "tags": [],
            "needs_background": "light"
          }
        }
      ]
    },
    {
      "cell_type": "code",
      "metadata": {
        "id": "AhUNE4UQTY_h",
        "colab_type": "code",
        "outputId": "6e2825ba-7e41-4eb9-f845-48d6c7736047",
        "colab": {
          "base_uri": "https://localhost:8080/",
          "height": 649
        }
      },
      "source": [
        "X = backpain_df.drop('Status',axis = 1)\n",
        "y = backpain_df['Status']\n",
        "Xc = sm.add_constant(X)\n",
        "model = sm.Logit(y,Xc).fit()\n",
        "model.summary()"
      ],
      "execution_count": 66,
      "outputs": [
        {
          "output_type": "stream",
          "text": [
            "Warning: Maximum number of iterations has been exceeded.\n",
            "         Current function value: 0.284109\n",
            "         Iterations: 35\n"
          ],
          "name": "stdout"
        },
        {
          "output_type": "stream",
          "text": [
            "/usr/local/lib/python3.6/dist-packages/statsmodels/base/model.py:512: ConvergenceWarning: Maximum Likelihood optimization failed to converge. Check mle_retvals\n",
            "  \"Check mle_retvals\", ConvergenceWarning)\n"
          ],
          "name": "stderr"
        },
        {
          "output_type": "execute_result",
          "data": {
            "text/html": [
              "<table class=\"simpletable\">\n",
              "<caption>Logit Regression Results</caption>\n",
              "<tr>\n",
              "  <th>Dep. Variable:</th>        <td>Status</td>      <th>  No. Observations:  </th>  <td>   310</td>  \n",
              "</tr>\n",
              "<tr>\n",
              "  <th>Model:</th>                 <td>Logit</td>      <th>  Df Residuals:      </th>  <td>   297</td>  \n",
              "</tr>\n",
              "<tr>\n",
              "  <th>Method:</th>                 <td>MLE</td>       <th>  Df Model:          </th>  <td>    12</td>  \n",
              "</tr>\n",
              "<tr>\n",
              "  <th>Date:</th>            <td>Thu, 23 Apr 2020</td> <th>  Pseudo R-squ.:     </th>  <td>0.5482</td>  \n",
              "</tr>\n",
              "<tr>\n",
              "  <th>Time:</th>                <td>01:25:37</td>     <th>  Log-Likelihood:    </th> <td> -88.074</td> \n",
              "</tr>\n",
              "<tr>\n",
              "  <th>converged:</th>             <td>False</td>      <th>  LL-Null:           </th> <td> -194.93</td> \n",
              "</tr>\n",
              "<tr>\n",
              "  <th>Covariance Type:</th>     <td>nonrobust</td>    <th>  LLR p-value:       </th> <td>4.778e-39</td>\n",
              "</tr>\n",
              "</table>\n",
              "<table class=\"simpletable\">\n",
              "<tr>\n",
              "              <td></td>                <th>coef</th>     <th>std err</th>      <th>z</th>      <th>P>|z|</th>  <th>[0.025</th>    <th>0.975]</th>  \n",
              "</tr>\n",
              "<tr>\n",
              "  <th>const</th>                    <td>   15.1816</td> <td>    3.554</td> <td>    4.271</td> <td> 0.000</td> <td>    8.215</td> <td>   22.148</td>\n",
              "</tr>\n",
              "<tr>\n",
              "  <th>pelvic_incidence</th>         <td>    4.6895</td> <td> 1.38e+05</td> <td> 3.41e-05</td> <td> 1.000</td> <td> -2.7e+05</td> <td>  2.7e+05</td>\n",
              "</tr>\n",
              "<tr>\n",
              "  <th>pelvictilt</th>               <td>   -4.6083</td> <td> 1.38e+05</td> <td>-3.35e-05</td> <td> 1.000</td> <td> -2.7e+05</td> <td>  2.7e+05</td>\n",
              "</tr>\n",
              "<tr>\n",
              "  <th>lumbar_lordosis_angle</th>    <td>   -0.0221</td> <td>    0.023</td> <td>   -0.948</td> <td> 0.343</td> <td>   -0.068</td> <td>    0.024</td>\n",
              "</tr>\n",
              "<tr>\n",
              "  <th>sacral_slope</th>             <td>   -4.7842</td> <td> 1.38e+05</td> <td>-3.48e-05</td> <td> 1.000</td> <td> -2.7e+05</td> <td>  2.7e+05</td>\n",
              "</tr>\n",
              "<tr>\n",
              "  <th>pelvic_radius</th>            <td>   -0.1054</td> <td>    0.023</td> <td>   -4.484</td> <td> 0.000</td> <td>   -0.151</td> <td>   -0.059</td>\n",
              "</tr>\n",
              "<tr>\n",
              "  <th>degree_spondylolisthesis</th> <td>    0.1709</td> <td>    0.024</td> <td>    7.196</td> <td> 0.000</td> <td>    0.124</td> <td>    0.217</td>\n",
              "</tr>\n",
              "<tr>\n",
              "  <th>pelvic_slope</th>             <td>   -0.2188</td> <td>    0.688</td> <td>   -0.318</td> <td> 0.750</td> <td>   -1.567</td> <td>    1.130</td>\n",
              "</tr>\n",
              "<tr>\n",
              "  <th>Direct_tilt</th>              <td>    0.0137</td> <td>    0.023</td> <td>    0.587</td> <td> 0.557</td> <td>   -0.032</td> <td>    0.059</td>\n",
              "</tr>\n",
              "<tr>\n",
              "  <th>thoracic_slope</th>           <td>   -0.0522</td> <td>    0.058</td> <td>   -0.902</td> <td> 0.367</td> <td>   -0.166</td> <td>    0.061</td>\n",
              "</tr>\n",
              "<tr>\n",
              "  <th>cervical_tilt</th>            <td>    0.0496</td> <td>    0.066</td> <td>    0.747</td> <td> 0.455</td> <td>   -0.081</td> <td>    0.180</td>\n",
              "</tr>\n",
              "<tr>\n",
              "  <th>sacrum_angle</th>             <td>    0.0049</td> <td>    0.016</td> <td>    0.311</td> <td> 0.756</td> <td>   -0.026</td> <td>    0.036</td>\n",
              "</tr>\n",
              "<tr>\n",
              "  <th>scoliosis_slope</th>          <td>   -0.0098</td> <td>    0.019</td> <td>   -0.527</td> <td> 0.598</td> <td>   -0.046</td> <td>    0.027</td>\n",
              "</tr>\n",
              "</table><br/><br/>Possibly complete quasi-separation: A fraction 0.12 of observations can be<br/>perfectly predicted. This might indicate that there is complete<br/>quasi-separation. In this case some parameters will not be identified."
            ],
            "text/plain": [
              "<class 'statsmodels.iolib.summary.Summary'>\n",
              "\"\"\"\n",
              "                           Logit Regression Results                           \n",
              "==============================================================================\n",
              "Dep. Variable:                 Status   No. Observations:                  310\n",
              "Model:                          Logit   Df Residuals:                      297\n",
              "Method:                           MLE   Df Model:                           12\n",
              "Date:                Thu, 23 Apr 2020   Pseudo R-squ.:                  0.5482\n",
              "Time:                        01:25:37   Log-Likelihood:                -88.074\n",
              "converged:                      False   LL-Null:                       -194.93\n",
              "Covariance Type:            nonrobust   LLR p-value:                 4.778e-39\n",
              "============================================================================================\n",
              "                               coef    std err          z      P>|z|      [0.025      0.975]\n",
              "--------------------------------------------------------------------------------------------\n",
              "const                       15.1816      3.554      4.271      0.000       8.215      22.148\n",
              "pelvic_incidence             4.6895   1.38e+05   3.41e-05      1.000    -2.7e+05     2.7e+05\n",
              "pelvictilt                  -4.6083   1.38e+05  -3.35e-05      1.000    -2.7e+05     2.7e+05\n",
              "lumbar_lordosis_angle       -0.0221      0.023     -0.948      0.343      -0.068       0.024\n",
              "sacral_slope                -4.7842   1.38e+05  -3.48e-05      1.000    -2.7e+05     2.7e+05\n",
              "pelvic_radius               -0.1054      0.023     -4.484      0.000      -0.151      -0.059\n",
              "degree_spondylolisthesis     0.1709      0.024      7.196      0.000       0.124       0.217\n",
              "pelvic_slope                -0.2188      0.688     -0.318      0.750      -1.567       1.130\n",
              "Direct_tilt                  0.0137      0.023      0.587      0.557      -0.032       0.059\n",
              "thoracic_slope              -0.0522      0.058     -0.902      0.367      -0.166       0.061\n",
              "cervical_tilt                0.0496      0.066      0.747      0.455      -0.081       0.180\n",
              "sacrum_angle                 0.0049      0.016      0.311      0.756      -0.026       0.036\n",
              "scoliosis_slope             -0.0098      0.019     -0.527      0.598      -0.046       0.027\n",
              "============================================================================================\n",
              "\n",
              "Possibly complete quasi-separation: A fraction 0.12 of observations can be\n",
              "perfectly predicted. This might indicate that there is complete\n",
              "quasi-separation. In this case some parameters will not be identified.\n",
              "\"\"\""
            ]
          },
          "metadata": {
            "tags": []
          },
          "execution_count": 66
        }
      ]
    },
    {
      "cell_type": "code",
      "metadata": {
        "id": "c3BdjRpMfOgD",
        "colab_type": "code",
        "outputId": "9ed9bff7-2cc7-4fda-983d-bc9e58f5b9e7",
        "colab": {
          "base_uri": "https://localhost:8080/",
          "height": 731
        }
      },
      "source": [
        "backward_elimination(backpain_df,'Status')"
      ],
      "execution_count": 67,
      "outputs": [
        {
          "output_type": "stream",
          "text": [
            "Warning: Maximum number of iterations has been exceeded.\n",
            "         Current function value: 0.284109\n",
            "         Iterations: 35\n",
            "pelvictilt 0.9999732661799048\n",
            "Optimization terminated successfully.\n",
            "         Current function value: 0.284109\n",
            "         Iterations 9\n",
            "sacrum_angle 0.7561508115923491\n",
            "Optimization terminated successfully.\n",
            "         Current function value: 0.284265\n",
            "         Iterations 9\n",
            "pelvic_slope 0.7765062744532797\n",
            "Optimization terminated successfully.\n",
            "         Current function value: 0.284395\n",
            "         Iterations 9\n",
            "scoliosis_slope 0.6078216638197805\n",
            "Optimization terminated successfully.\n",
            "         Current function value: 0.284820\n",
            "         Iterations 9\n",
            "Direct_tilt 0.5088302706897315\n",
            "Optimization terminated successfully.\n",
            "         Current function value: 0.285529\n",
            "         Iterations 9\n",
            "cervical_tilt 0.4065543756139306\n",
            "Optimization terminated successfully.\n",
            "         Current function value: 0.286646\n",
            "         Iterations 9\n",
            "thoracic_slope 0.4633299601764963\n",
            "Optimization terminated successfully.\n",
            "         Current function value: 0.287518\n",
            "         Iterations 9\n",
            "lumbar_lordosis_angle 0.41279744994945156\n",
            "Optimization terminated successfully.\n",
            "         Current function value: 0.288610\n",
            "         Iterations 9\n"
          ],
          "name": "stdout"
        },
        {
          "output_type": "stream",
          "text": [
            "/usr/local/lib/python3.6/dist-packages/statsmodels/base/model.py:512: ConvergenceWarning: Maximum Likelihood optimization failed to converge. Check mle_retvals\n",
            "  \"Check mle_retvals\", ConvergenceWarning)\n"
          ],
          "name": "stderr"
        },
        {
          "output_type": "execute_result",
          "data": {
            "text/plain": [
              "['const',\n",
              " 'pelvic_incidence',\n",
              " 'sacral_slope',\n",
              " 'pelvic_radius',\n",
              " 'degree_spondylolisthesis']"
            ]
          },
          "metadata": {
            "tags": []
          },
          "execution_count": 67
        }
      ]
    },
    {
      "cell_type": "code",
      "metadata": {
        "id": "VUFSoeSGUer4",
        "colab_type": "code",
        "colab": {}
      },
      "source": [
        "X_final = Xc[['pelvic_incidence',\n",
        " 'sacral_slope',\n",
        " 'pelvic_radius',\n",
        " 'degree_spondylolisthesis']]\n",
        "Y = y"
      ],
      "execution_count": 0,
      "outputs": []
    },
    {
      "cell_type": "code",
      "metadata": {
        "id": "kbhPi5JNVH1r",
        "colab_type": "code",
        "colab": {}
      },
      "source": [
        "X_train, X_test, y_train, y_test = train_test_split(X_final,Y,test_size = 0.3,random_state = 0)"
      ],
      "execution_count": 0,
      "outputs": []
    },
    {
      "cell_type": "code",
      "metadata": {
        "id": "gOz8BqwzVW8C",
        "colab_type": "code",
        "colab": {}
      },
      "source": [
        "log_reg = LogisticRegression()\n",
        "log_reg.fit(X_train,y_train)\n",
        "y_pred = log_reg.predict(X_test)"
      ],
      "execution_count": 0,
      "outputs": []
    },
    {
      "cell_type": "code",
      "metadata": {
        "id": "sdiI6Se9Z8gx",
        "colab_type": "code",
        "outputId": "fd37cb44-1362-456e-9406-8a9ab70e7dcf",
        "colab": {
          "base_uri": "https://localhost:8080/",
          "height": 34
        }
      },
      "source": [
        "log_reg.coef_"
      ],
      "execution_count": 71,
      "outputs": [
        {
          "output_type": "execute_result",
          "data": {
            "text/plain": [
              "array([[ 0.0543883 , -0.17636683, -0.12346274,  0.19020728]])"
            ]
          },
          "metadata": {
            "tags": []
          },
          "execution_count": 71
        }
      ]
    },
    {
      "cell_type": "code",
      "metadata": {
        "id": "sapELdiTaDKq",
        "colab_type": "code",
        "outputId": "ca2f1e9c-6723-438e-f6af-99921e23a6a1",
        "colab": {
          "base_uri": "https://localhost:8080/",
          "height": 34
        }
      },
      "source": [
        "log_reg.intercept_"
      ],
      "execution_count": 72,
      "outputs": [
        {
          "output_type": "execute_result",
          "data": {
            "text/plain": [
              "array([17.43144677])"
            ]
          },
          "metadata": {
            "tags": []
          },
          "execution_count": 72
        }
      ]
    },
    {
      "cell_type": "code",
      "metadata": {
        "id": "OZdisbpoaHHD",
        "colab_type": "code",
        "outputId": "638dc768-0daa-4d8f-a272-2b16a78b986a",
        "colab": {
          "base_uri": "https://localhost:8080/",
          "height": 68
        }
      },
      "source": [
        "accuracy = metrics.accuracy_score(y_test,y_pred)\n",
        "print(accuracy * 100)\n",
        "cm = metrics.confusion_matrix(y_test,y_pred)\n",
        "print(cm)"
      ],
      "execution_count": 73,
      "outputs": [
        {
          "output_type": "stream",
          "text": [
            "82.79569892473118\n",
            "[[25  5]\n",
            " [11 52]]\n"
          ],
          "name": "stdout"
        }
      ]
    },
    {
      "cell_type": "code",
      "metadata": {
        "id": "5GM_dx2Mdoru",
        "colab_type": "code",
        "outputId": "82963334-ae38-4b37-e540-3eee6ec594a3",
        "colab": {
          "base_uri": "https://localhost:8080/",
          "height": 51
        }
      },
      "source": [
        "print('TPR/Sensitivity/Recall : ',52/63)\n",
        "print('Using metrics : ',metrics.recall_score(y_test,y_pred))"
      ],
      "execution_count": 74,
      "outputs": [
        {
          "output_type": "stream",
          "text": [
            "TPR/Sensitivity/Recall :  0.8253968253968254\n",
            "Using metrics :  0.8253968253968254\n"
          ],
          "name": "stdout"
        }
      ]
    },
    {
      "cell_type": "code",
      "metadata": {
        "id": "7b_d3fpqd1v7",
        "colab_type": "code",
        "outputId": "0e0d6bed-7271-421c-f149-e942a4e63df2",
        "colab": {
          "base_uri": "https://localhost:8080/",
          "height": 34
        }
      },
      "source": [
        "print('TNR/Specificity : ',25/30)"
      ],
      "execution_count": 75,
      "outputs": [
        {
          "output_type": "stream",
          "text": [
            "TNR/Specificity :  0.8333333333333334\n"
          ],
          "name": "stdout"
        }
      ]
    },
    {
      "cell_type": "markdown",
      "metadata": {
        "id": "sQ47EROondtc",
        "colab_type": "text"
      },
      "source": [
        "# Overfitting vs Undefitting vs Ideal Model\n",
        "\n",
        "![alt text](https://miro.medium.com/max/1000/1*i5BamDkqO1dnGxBVaTHtHw.png)\n",
        "\n",
        "Model 1 : High training error and high testing error\n",
        "\n",
        "Model 2 : Low training error and high testing error\n",
        "\n",
        "Model 3 : Low training error and low testing error (Rightly fit model)"
      ]
    },
    {
      "cell_type": "markdown",
      "metadata": {
        "id": "b8a-0sMImBn8",
        "colab_type": "text"
      },
      "source": [
        "# For Classifiction Model\n",
        "\n",
        "p = 1 / ( 1 + e^-(beta0 + beta1 * X) )\n",
        "\n",
        "y = threshold(p)\n",
        "\n",
        "Let,\n",
        "\n",
        "z = beta0 + beta1 * X\n",
        "\n",
        "y_prob = 1 / ( 1 + e^-(z) ) = e^z / ( 1 + e^z )\n",
        "\n",
        "For interpretation of the above equation:\n",
        "\n",
        "**p / (1 - p)** = e^z / ( 1 + e^z ) / 1 - (e^z / ( 1 + e^z )) = **e^z**\n",
        "\n",
        "p / (1 - p) --> ODDS (prob of success / prob of failure)\n",
        "\n",
        "log(ODDS) = log(p / (1 - p)) = log(e^z) = z --> beta0 + beta1 * X"
      ]
    },
    {
      "cell_type": "code",
      "metadata": {
        "id": "lhuMjF-omECZ",
        "colab_type": "code",
        "outputId": "8018501c-c66c-4a87-9e22-fa5682ab9af3",
        "colab": {
          "base_uri": "https://localhost:8080/",
          "height": 34
        }
      },
      "source": [
        "np.exp(log_reg.coef_)"
      ],
      "execution_count": 76,
      "outputs": [
        {
          "output_type": "execute_result",
          "data": {
            "text/plain": [
              "array([[1.05589453, 0.83831041, 0.88385458, 1.20950028]])"
            ]
          },
          "metadata": {
            "tags": []
          },
          "execution_count": 76
        }
      ]
    },
    {
      "cell_type": "code",
      "metadata": {
        "id": "vZv7MT_E-X56",
        "colab_type": "code",
        "outputId": "095b34be-0966-4d28-8c87-eda0d7c01743",
        "colab": {
          "base_uri": "https://localhost:8080/",
          "height": 85
        }
      },
      "source": [
        "['pelvic_incidence',\n",
        " 'sacral_slope',\n",
        " 'pelvic_radius',\n",
        " 'degree_spondylolisthesis']"
      ],
      "execution_count": 77,
      "outputs": [
        {
          "output_type": "execute_result",
          "data": {
            "text/plain": [
              "['pelvic_incidence',\n",
              " 'sacral_slope',\n",
              " 'pelvic_radius',\n",
              " 'degree_spondylolisthesis']"
            ]
          },
          "metadata": {
            "tags": []
          },
          "execution_count": 77
        }
      ]
    },
    {
      "cell_type": "markdown",
      "metadata": {
        "id": "VTLwg4D4CucZ",
        "colab_type": "text"
      },
      "source": [
        "Every 1 unit increase in the pelvic incidence contributes to 5.58% increase in probablitiy of Abnormility.\n",
        "\n",
        "Every 1 unit increase in the sacral slope contributes to 16.16% decrease in probablitiy of Abnormality.\n",
        "\n",
        "Every 1 unit increase in the degree_spondylolisthesis contributes to 21% increase in probablitiy of Abnormility.\n",
        "\n",
        "Every 1 unit increase in the pelvic radius contributes to 11.7% decrease in probablitiy of Abnormality."
      ]
    },
    {
      "cell_type": "markdown",
      "metadata": {
        "id": "27Bcf5dyRe1M",
        "colab_type": "text"
      },
      "source": [
        "## Cost function for Classification models\n",
        "\n",
        "**Log loss :** \n",
        "\n",
        "The summation of log loss should be minimal.\n",
        "\n",
        "Measure of uncertainity/ Entropy calculation\n",
        "\n",
        "Entropy :\n",
        "\n",
        "![alt text](https://www.saedsayad.com/images/Entropy_3.png)\n",
        "\n",
        "**Cost function of Classification --> min( sum(log loss) )**"
      ]
    },
    {
      "cell_type": "markdown",
      "metadata": {
        "id": "lYgI52SbT2In",
        "colab_type": "text"
      },
      "source": [
        "# Decision Trees\n",
        "\n",
        "![alt text](https://46gyn61z4i0t1u1pnq2bbk2e-wpengine.netdna-ssl.com/wp-content/uploads/2018/07/decision-tree.png)"
      ]
    },
    {
      "cell_type": "code",
      "metadata": {
        "id": "WO9DgXvtT42z",
        "colab_type": "code",
        "colab": {}
      },
      "source": [
        "df_dt = pd.DataFrame({'ID' : ['s1','s2','s3','s4','s5','s6','s7'],\n",
        "                      'Salary ($1000)': [15,17,28,10,40,50,55],\n",
        "                      'Age (yrs)': [28,25,30,35,38,32,40],\n",
        "                      'Loan Defaulter' : [1,0,1,1,0,1,0]})"
      ],
      "execution_count": 0,
      "outputs": []
    },
    {
      "cell_type": "code",
      "metadata": {
        "id": "c-2e7bpAVQT_",
        "colab_type": "code",
        "colab": {
          "base_uri": "https://localhost:8080/",
          "height": 266
        },
        "outputId": "2a22db9d-70fa-4e6d-8fc0-3e99fba12170"
      },
      "source": [
        "df_dt"
      ],
      "execution_count": 79,
      "outputs": [
        {
          "output_type": "execute_result",
          "data": {
            "text/html": [
              "<div>\n",
              "<style scoped>\n",
              "    .dataframe tbody tr th:only-of-type {\n",
              "        vertical-align: middle;\n",
              "    }\n",
              "\n",
              "    .dataframe tbody tr th {\n",
              "        vertical-align: top;\n",
              "    }\n",
              "\n",
              "    .dataframe thead th {\n",
              "        text-align: right;\n",
              "    }\n",
              "</style>\n",
              "<table border=\"1\" class=\"dataframe\">\n",
              "  <thead>\n",
              "    <tr style=\"text-align: right;\">\n",
              "      <th></th>\n",
              "      <th>ID</th>\n",
              "      <th>Salary ($1000)</th>\n",
              "      <th>Age (yrs)</th>\n",
              "      <th>Loan Defaulter</th>\n",
              "    </tr>\n",
              "  </thead>\n",
              "  <tbody>\n",
              "    <tr>\n",
              "      <th>0</th>\n",
              "      <td>s1</td>\n",
              "      <td>15</td>\n",
              "      <td>28</td>\n",
              "      <td>1</td>\n",
              "    </tr>\n",
              "    <tr>\n",
              "      <th>1</th>\n",
              "      <td>s2</td>\n",
              "      <td>17</td>\n",
              "      <td>25</td>\n",
              "      <td>0</td>\n",
              "    </tr>\n",
              "    <tr>\n",
              "      <th>2</th>\n",
              "      <td>s3</td>\n",
              "      <td>28</td>\n",
              "      <td>30</td>\n",
              "      <td>1</td>\n",
              "    </tr>\n",
              "    <tr>\n",
              "      <th>3</th>\n",
              "      <td>s4</td>\n",
              "      <td>10</td>\n",
              "      <td>35</td>\n",
              "      <td>1</td>\n",
              "    </tr>\n",
              "    <tr>\n",
              "      <th>4</th>\n",
              "      <td>s5</td>\n",
              "      <td>40</td>\n",
              "      <td>38</td>\n",
              "      <td>0</td>\n",
              "    </tr>\n",
              "    <tr>\n",
              "      <th>5</th>\n",
              "      <td>s6</td>\n",
              "      <td>50</td>\n",
              "      <td>32</td>\n",
              "      <td>1</td>\n",
              "    </tr>\n",
              "    <tr>\n",
              "      <th>6</th>\n",
              "      <td>s7</td>\n",
              "      <td>55</td>\n",
              "      <td>40</td>\n",
              "      <td>0</td>\n",
              "    </tr>\n",
              "  </tbody>\n",
              "</table>\n",
              "</div>"
            ],
            "text/plain": [
              "   ID  Salary ($1000)  Age (yrs)  Loan Defaulter\n",
              "0  s1              15         28               1\n",
              "1  s2              17         25               0\n",
              "2  s3              28         30               1\n",
              "3  s4              10         35               1\n",
              "4  s5              40         38               0\n",
              "5  s6              50         32               1\n",
              "6  s7              55         40               0"
            ]
          },
          "metadata": {
            "tags": []
          },
          "execution_count": 79
        }
      ]
    },
    {
      "cell_type": "markdown",
      "metadata": {
        "id": "pi6coPcNXAXx",
        "colab_type": "text"
      },
      "source": [
        "Assume the root node is a null model.\n",
        "\n",
        "So y_pred = [1,1,1,1,1,1,1]\n",
        "\n",
        "and y = [1,0,1,1,0,1,0]\n",
        "\n",
        "p1 = 4/7 --> as 4 of then have been correctly classified.\n",
        "\n",
        "p0 = 3/7 --> as 3 of then have been incorrectly classified.\n",
        "\n",
        "Entropy = - [ ( (4/7) * log(4/7) ) + ( (3/7) * log(3/7) ) ] = 0.9857\n",
        "\n"
      ]
    },
    {
      "cell_type": "code",
      "metadata": {
        "id": "raWOAa8hYBUP",
        "colab_type": "code",
        "colab": {
          "base_uri": "https://localhost:8080/",
          "height": 296
        },
        "outputId": "602bdd7c-7db9-484b-c0f9-3bc38799aeb5"
      },
      "source": [
        "sns.scatterplot(df_dt['Age (yrs)'], df_dt['Salary ($1000)'], hue = df_dt['Loan Defaulter'])\n",
        "plt.vlines(36.5,ymin = 0 , ymax = 60,label = 'Depth1',color = 'red')\n",
        "plt.legend()"
      ],
      "execution_count": 80,
      "outputs": [
        {
          "output_type": "execute_result",
          "data": {
            "text/plain": [
              "<matplotlib.legend.Legend at 0x7effc0d0b748>"
            ]
          },
          "metadata": {
            "tags": []
          },
          "execution_count": 80
        },
        {
          "output_type": "display_data",
          "data": {
            "image/png": "[encoded data removed]",
            "text/plain": [
              "<Figure size 432x288 with 1 Axes>"
            ]
          },
          "metadata": {
            "tags": [],
            "needs_background": "light"
          }
        }
      ]
    },
    {
      "cell_type": "markdown",
      "metadata": {
        "id": "fqF3XFgebKPj",
        "colab_type": "text"
      },
      "source": [
        "### Depth level 1\n",
        "\n",
        "node1 -> { s1,s2,s3,s4,s6 } --> s2 misclassified {Still an impure node} \n",
        "\n",
        "**Entropy at node 1 :** \n",
        "\n",
        "p0 : 1/5 and p1 : 4/5\n",
        "\n",
        "Entropy = - [ ( (4/5) * log(4/5) ) + ( (1/5) * log(1/5) ) ] = 0.7219\n",
        "\n",
        "Assume we had got some entropy at node 2 as 0.315,\n",
        "\n",
        "So summation of both entropies would be 1.0369 which is not expected. Our summation of the entropies of the nodes should be less than its root entropy. So we use **WEIGHTED ENTROPIES**.\n",
        "\n",
        "*** Weighted Entropt of a node : entropy * (no. of points in current node/ no. of points in the root node) ***\n",
        "\n",
        "Weighted Entropy for node 1 : 0.7219 * 5/7 = 0.5156\n",
        "\n",
        "node2 -> { s5,s7 } --> no misclassification - {PURE Leaf} - Entropy/log loss is zero\n",
        "\n",
        "So total entropy = 0.5156 + 0\n",
        "\n",
        "Information gain = entropy(root node) - entropy(current node) = 0.9857 - 0.5156 = 0.4696"
      ]
    },
    {
      "cell_type": "code",
      "metadata": {
        "id": "5vB-JB4Xv3pC",
        "colab_type": "code",
        "colab": {
          "base_uri": "https://localhost:8080/",
          "height": 351
        },
        "outputId": "af157528-4e8c-4102-b82f-918e6313d80b"
      },
      "source": [
        "plt.figure(figsize = (7,5))\n",
        "sns.scatterplot(df_dt['Age (yrs)'], df_dt['Salary ($1000)'], hue = df_dt['Loan Defaulter'])\n",
        "plt.vlines(36.5,ymin = 0 , ymax = 60,label = 'Depth1',color = 'red')\n",
        "plt.vlines(26.5,ymin = 0 , ymax = 60,label = 'Depth2',color = 'green')\n",
        "plt.legend()"
      ],
      "execution_count": 81,
      "outputs": [
        {
          "output_type": "execute_result",
          "data": {
            "text/plain": [
              "<matplotlib.legend.Legend at 0x7effc0c4e5f8>"
            ]
          },
          "metadata": {
            "tags": []
          },
          "execution_count": 81
        },
        {
          "output_type": "display_data",
          "data": {
            "image/png": "[encoded data removed]",
            "text/plain": [
              "<Figure size 504x360 with 1 Axes>"
            ]
          },
          "metadata": {
            "tags": [],
            "needs_background": "light"
          }
        }
      ]
    },
    {
      "cell_type": "markdown",
      "metadata": {
        "id": "APUQT6azkodB",
        "colab_type": "text"
      },
      "source": [
        "### Depth level 2\n",
        "\n",
        "root_node -> { s1,s2,s3,s4,s6 }\n",
        "\n",
        "node1 -> { s2 } --> no misclassification - {PURE Leaf} - Entropy/log loss is zero\n",
        "\n",
        "node1 -> { s1,s3,s4,s6 } --> no misclassification - {PURE Leaf} - Entropy/log loss is zero\n",
        "\n",
        "So total entropy = 0 + 0\n",
        "\n",
        "Information gain = entropy(root node) - entropy(current node) = 0.5156 - 0 = 0.5156\n",
        "\n",
        "**A fully grown decision tree is always overfit.**"
      ]
    },
    {
      "cell_type": "markdown",
      "metadata": {
        "id": "u_itQ5pCpGeo",
        "colab_type": "text"
      },
      "source": [
        "### Decision Tree as a Regressor"
      ]
    },
    {
      "cell_type": "code",
      "metadata": {
        "id": "MnlpC93zufc9",
        "colab_type": "code",
        "colab": {}
      },
      "source": [
        "df_dtr = pd.DataFrame({'ID' : ['s1','s2','s3','s4','s5','s6','s7','s8','s9','s10'],\n",
        "                       'Ht' : [152,180,167,175,142,172,160,172,165,167],\n",
        "                       'Age' : [45,26,30,34,40,36,19,28,23,32],\n",
        "                       'Wt' : [77,47,55,59,72,60,40,60,45,58]})"
      ],
      "execution_count": 0,
      "outputs": []
    },
    {
      "cell_type": "code",
      "metadata": {
        "id": "y1fw0V8Bp8--",
        "colab_type": "code",
        "colab": {
          "base_uri": "https://localhost:8080/",
          "height": 359
        },
        "outputId": "b83b95d7-820a-4d8f-a59d-fb8b206e3f15"
      },
      "source": [
        "df_dtr"
      ],
      "execution_count": 86,
      "outputs": [
        {
          "output_type": "execute_result",
          "data": {
            "text/html": [
              "<div>\n",
              "<style scoped>\n",
              "    .dataframe tbody tr th:only-of-type {\n",
              "        vertical-align: middle;\n",
              "    }\n",
              "\n",
              "    .dataframe tbody tr th {\n",
              "        vertical-align: top;\n",
              "    }\n",
              "\n",
              "    .dataframe thead th {\n",
              "        text-align: right;\n",
              "    }\n",
              "</style>\n",
              "<table border=\"1\" class=\"dataframe\">\n",
              "  <thead>\n",
              "    <tr style=\"text-align: right;\">\n",
              "      <th></th>\n",
              "      <th>ID</th>\n",
              "      <th>Ht</th>\n",
              "      <th>Age</th>\n",
              "      <th>Wt</th>\n",
              "    </tr>\n",
              "  </thead>\n",
              "  <tbody>\n",
              "    <tr>\n",
              "      <th>0</th>\n",
              "      <td>s1</td>\n",
              "      <td>152</td>\n",
              "      <td>45</td>\n",
              "      <td>77</td>\n",
              "    </tr>\n",
              "    <tr>\n",
              "      <th>1</th>\n",
              "      <td>s2</td>\n",
              "      <td>180</td>\n",
              "      <td>26</td>\n",
              "      <td>47</td>\n",
              "    </tr>\n",
              "    <tr>\n",
              "      <th>2</th>\n",
              "      <td>s3</td>\n",
              "      <td>167</td>\n",
              "      <td>30</td>\n",
              "      <td>55</td>\n",
              "    </tr>\n",
              "    <tr>\n",
              "      <th>3</th>\n",
              "      <td>s4</td>\n",
              "      <td>175</td>\n",
              "      <td>34</td>\n",
              "      <td>59</td>\n",
              "    </tr>\n",
              "    <tr>\n",
              "      <th>4</th>\n",
              "      <td>s5</td>\n",
              "      <td>142</td>\n",
              "      <td>40</td>\n",
              "      <td>72</td>\n",
              "    </tr>\n",
              "    <tr>\n",
              "      <th>5</th>\n",
              "      <td>s6</td>\n",
              "      <td>172</td>\n",
              "      <td>36</td>\n",
              "      <td>60</td>\n",
              "    </tr>\n",
              "    <tr>\n",
              "      <th>6</th>\n",
              "      <td>s7</td>\n",
              "      <td>160</td>\n",
              "      <td>19</td>\n",
              "      <td>40</td>\n",
              "    </tr>\n",
              "    <tr>\n",
              "      <th>7</th>\n",
              "      <td>s8</td>\n",
              "      <td>172</td>\n",
              "      <td>28</td>\n",
              "      <td>60</td>\n",
              "    </tr>\n",
              "    <tr>\n",
              "      <th>8</th>\n",
              "      <td>s9</td>\n",
              "      <td>165</td>\n",
              "      <td>23</td>\n",
              "      <td>45</td>\n",
              "    </tr>\n",
              "    <tr>\n",
              "      <th>9</th>\n",
              "      <td>s10</td>\n",
              "      <td>167</td>\n",
              "      <td>32</td>\n",
              "      <td>58</td>\n",
              "    </tr>\n",
              "  </tbody>\n",
              "</table>\n",
              "</div>"
            ],
            "text/plain": [
              "    ID   Ht  Age  Wt\n",
              "0   s1  152   45  77\n",
              "1   s2  180   26  47\n",
              "2   s3  167   30  55\n",
              "3   s4  175   34  59\n",
              "4   s5  142   40  72\n",
              "5   s6  172   36  60\n",
              "6   s7  160   19  40\n",
              "7   s8  172   28  60\n",
              "8   s9  165   23  45\n",
              "9  s10  167   32  58"
            ]
          },
          "metadata": {
            "tags": []
          },
          "execution_count": 86
        }
      ]
    },
    {
      "cell_type": "markdown",
      "metadata": {
        "id": "u5sV5pV0qlab",
        "colab_type": "text"
      },
      "source": [
        "Assume the root node is a null model.\n",
        "\n",
        "So y_pred = ybar = [57.3,57.3,57.3,57.3,57.3,57.3,57.3,57.3,57.3,57.3]\n",
        "\n",
        "and y = [77,47,55,59,72,60,40,60,45,58]\n",
        "\n",
        "Cost function ---> MSE\n",
        "\n",
        "MSE = 118.4"
      ]
    },
    {
      "cell_type": "markdown",
      "metadata": {
        "id": "dFlmKGR_ufhn",
        "colab_type": "text"
      },
      "source": [
        "### Depth level 1 (Age > 35)\n",
        "\n",
        "node1 -> { s2,s3,s4,s7,s8,s9,s10 }\n",
        "\n",
        "ybar_node1 = 52\n",
        "\n",
        "**MSE at node 1 :** \n",
        "\n",
        "MSE_node1 = 53.71\n",
        "\n",
        "node2 -> { s1,s5,s6 }\n",
        "\n",
        "ybar_node1 = 69.6\n",
        "\n",
        "**MSE at node 2 :** \n",
        "\n",
        "MSE_node2 = 50.88\n",
        "\n",
        "So total MSE = 53.71 + 50.88 = 104.5\n",
        "\n",
        "Information gain = MSE(root node) - MSE(current node) = 118.4 - 104.5 = 13.9"
      ]
    },
    {
      "cell_type": "markdown",
      "metadata": {
        "id": "qD5uFDgQxLk6",
        "colab_type": "text"
      },
      "source": [
        "### Depth level 2 (Height > 170)\n",
        "\n",
        "node11 -> { s3,s7,s9,s10 }\n",
        "\n",
        "ybar_node11 = 49.25\n",
        "\n",
        "**MSE at node11 :** \n",
        "\n",
        "MSE_node11 = 53.25\n",
        "\n",
        "node12 -> { s2,s4,s8 }\n",
        "\n",
        "ybar_node12 = 55.3\n",
        "\n",
        "**MSE at node12 :** \n",
        "\n",
        "MSE_node12 = 34.89\n",
        "\n",
        "node21 -> { s1,s5 }\n",
        "\n",
        "ybar_node21 = 74.5\n",
        "\n",
        "**MSE at node21 :** \n",
        "\n",
        "MSE_node21 = 6.25\n",
        "\n",
        "node22 -> { s6 }\n",
        "\n",
        "ybar_node22 = 60\n",
        "\n",
        "**MSE at node22 :** \n",
        "\n",
        "MSE_node22 = 0\n",
        "\n",
        "So total MSE = 53.25 + 34.89 + 6.25 + 0 = 94.38\n",
        "\n",
        "Information gain = MSE(root node) - MSE(current node) = 104.59 - 94.38 = 10.12"
      ]
    },
    {
      "cell_type": "code",
      "metadata": {
        "id": "38kiMs3LuW5g",
        "colab_type": "code",
        "colab": {}
      },
      "source": [
        ""
      ],
      "execution_count": 0,
      "outputs": []
    }
  ]
}