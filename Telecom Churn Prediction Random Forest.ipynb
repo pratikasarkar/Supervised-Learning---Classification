{
 "cells": [
  {
   "cell_type": "code",
   "execution_count": 1,
   "metadata": {},
   "outputs": [],
   "source": [
    "import pandas as pd\n",
    "import numpy as np\n",
    "import matplotlib.pyplot as plt\n",
    "import seaborn as sns\n",
    "import os\n",
    "os.chdir('C:\\\\Users\\\\Pratik Asarkar\\\\GreatLearning\\\\Practice\\\\Machine Learning - Classification')"
   ]
  },
  {
   "cell_type": "code",
   "execution_count": 2,
   "metadata": {},
   "outputs": [],
   "source": [
    "df = pd.read_csv('telco_chrun_encoded.csv')\n",
    "df = df.sample(frac = 0.25,random_state = 3)"
   ]
  },
  {
   "cell_type": "code",
   "execution_count": 3,
   "metadata": {},
   "outputs": [
    {
     "data": {
      "text/html": [
       "<div>\n",
       "<style scoped>\n",
       "    .dataframe tbody tr th:only-of-type {\n",
       "        vertical-align: middle;\n",
       "    }\n",
       "\n",
       "    .dataframe tbody tr th {\n",
       "        vertical-align: top;\n",
       "    }\n",
       "\n",
       "    .dataframe thead th {\n",
       "        text-align: right;\n",
       "    }\n",
       "</style>\n",
       "<table border=\"1\" class=\"dataframe\">\n",
       "  <thead>\n",
       "    <tr style=\"text-align: right;\">\n",
       "      <th></th>\n",
       "      <th>gender</th>\n",
       "      <th>senior</th>\n",
       "      <th>partner</th>\n",
       "      <th>dependents</th>\n",
       "      <th>tenure</th>\n",
       "      <th>phone_service</th>\n",
       "      <th>multiple_lines</th>\n",
       "      <th>online_security</th>\n",
       "      <th>online_backup</th>\n",
       "      <th>device_protection</th>\n",
       "      <th>...</th>\n",
       "      <th>total_charges</th>\n",
       "      <th>churn</th>\n",
       "      <th>avg_monthly_charges</th>\n",
       "      <th>internet_service-fiber_optic</th>\n",
       "      <th>internet_service-no</th>\n",
       "      <th>contract-one_year</th>\n",
       "      <th>contract-two_year</th>\n",
       "      <th>payment_method-credit_card_auto</th>\n",
       "      <th>payment_method-electronic_check</th>\n",
       "      <th>payment_method-mailed_check</th>\n",
       "    </tr>\n",
       "  </thead>\n",
       "  <tbody>\n",
       "    <tr>\n",
       "      <td>5571</td>\n",
       "      <td>0</td>\n",
       "      <td>0</td>\n",
       "      <td>0</td>\n",
       "      <td>0</td>\n",
       "      <td>48</td>\n",
       "      <td>1</td>\n",
       "      <td>0</td>\n",
       "      <td>0</td>\n",
       "      <td>0</td>\n",
       "      <td>0</td>\n",
       "      <td>...</td>\n",
       "      <td>1004.50</td>\n",
       "      <td>0</td>\n",
       "      <td>20.927083</td>\n",
       "      <td>0</td>\n",
       "      <td>1</td>\n",
       "      <td>1</td>\n",
       "      <td>0</td>\n",
       "      <td>0</td>\n",
       "      <td>0</td>\n",
       "      <td>0</td>\n",
       "    </tr>\n",
       "    <tr>\n",
       "      <td>3432</td>\n",
       "      <td>0</td>\n",
       "      <td>0</td>\n",
       "      <td>1</td>\n",
       "      <td>0</td>\n",
       "      <td>18</td>\n",
       "      <td>1</td>\n",
       "      <td>1</td>\n",
       "      <td>0</td>\n",
       "      <td>0</td>\n",
       "      <td>0</td>\n",
       "      <td>...</td>\n",
       "      <td>1687.95</td>\n",
       "      <td>1</td>\n",
       "      <td>93.775000</td>\n",
       "      <td>1</td>\n",
       "      <td>0</td>\n",
       "      <td>0</td>\n",
       "      <td>0</td>\n",
       "      <td>0</td>\n",
       "      <td>1</td>\n",
       "      <td>0</td>\n",
       "    </tr>\n",
       "    <tr>\n",
       "      <td>2170</td>\n",
       "      <td>1</td>\n",
       "      <td>0</td>\n",
       "      <td>0</td>\n",
       "      <td>0</td>\n",
       "      <td>30</td>\n",
       "      <td>1</td>\n",
       "      <td>0</td>\n",
       "      <td>0</td>\n",
       "      <td>0</td>\n",
       "      <td>0</td>\n",
       "      <td>...</td>\n",
       "      <td>2555.90</td>\n",
       "      <td>1</td>\n",
       "      <td>85.196667</td>\n",
       "      <td>1</td>\n",
       "      <td>0</td>\n",
       "      <td>0</td>\n",
       "      <td>0</td>\n",
       "      <td>0</td>\n",
       "      <td>1</td>\n",
       "      <td>0</td>\n",
       "    </tr>\n",
       "    <tr>\n",
       "      <td>4230</td>\n",
       "      <td>0</td>\n",
       "      <td>0</td>\n",
       "      <td>0</td>\n",
       "      <td>0</td>\n",
       "      <td>5</td>\n",
       "      <td>1</td>\n",
       "      <td>0</td>\n",
       "      <td>0</td>\n",
       "      <td>0</td>\n",
       "      <td>1</td>\n",
       "      <td>...</td>\n",
       "      <td>346.40</td>\n",
       "      <td>1</td>\n",
       "      <td>69.280000</td>\n",
       "      <td>0</td>\n",
       "      <td>0</td>\n",
       "      <td>0</td>\n",
       "      <td>0</td>\n",
       "      <td>0</td>\n",
       "      <td>1</td>\n",
       "      <td>0</td>\n",
       "    </tr>\n",
       "    <tr>\n",
       "      <td>510</td>\n",
       "      <td>0</td>\n",
       "      <td>0</td>\n",
       "      <td>0</td>\n",
       "      <td>0</td>\n",
       "      <td>61</td>\n",
       "      <td>1</td>\n",
       "      <td>1</td>\n",
       "      <td>1</td>\n",
       "      <td>0</td>\n",
       "      <td>1</td>\n",
       "      <td>...</td>\n",
       "      <td>6300.15</td>\n",
       "      <td>0</td>\n",
       "      <td>103.281148</td>\n",
       "      <td>1</td>\n",
       "      <td>0</td>\n",
       "      <td>0</td>\n",
       "      <td>0</td>\n",
       "      <td>0</td>\n",
       "      <td>1</td>\n",
       "      <td>0</td>\n",
       "    </tr>\n",
       "  </tbody>\n",
       "</table>\n",
       "<p>5 rows × 25 columns</p>\n",
       "</div>"
      ],
      "text/plain": [
       "      gender  senior  partner  dependents  tenure  phone_service  \\\n",
       "5571       0       0        0           0      48              1   \n",
       "3432       0       0        1           0      18              1   \n",
       "2170       1       0        0           0      30              1   \n",
       "4230       0       0        0           0       5              1   \n",
       "510        0       0        0           0      61              1   \n",
       "\n",
       "      multiple_lines  online_security  online_backup  device_protection  ...  \\\n",
       "5571               0                0              0                  0  ...   \n",
       "3432               1                0              0                  0  ...   \n",
       "2170               0                0              0                  0  ...   \n",
       "4230               0                0              0                  1  ...   \n",
       "510                1                1              0                  1  ...   \n",
       "\n",
       "      total_charges  churn  avg_monthly_charges  internet_service-fiber_optic  \\\n",
       "5571        1004.50      0            20.927083                             0   \n",
       "3432        1687.95      1            93.775000                             1   \n",
       "2170        2555.90      1            85.196667                             1   \n",
       "4230         346.40      1            69.280000                             0   \n",
       "510         6300.15      0           103.281148                             1   \n",
       "\n",
       "      internet_service-no  contract-one_year  contract-two_year  \\\n",
       "5571                    1                  1                  0   \n",
       "3432                    0                  0                  0   \n",
       "2170                    0                  0                  0   \n",
       "4230                    0                  0                  0   \n",
       "510                     0                  0                  0   \n",
       "\n",
       "      payment_method-credit_card_auto  payment_method-electronic_check  \\\n",
       "5571                                0                                0   \n",
       "3432                                0                                1   \n",
       "2170                                0                                1   \n",
       "4230                                0                                1   \n",
       "510                                 0                                1   \n",
       "\n",
       "      payment_method-mailed_check  \n",
       "5571                            0  \n",
       "3432                            0  \n",
       "2170                            0  \n",
       "4230                            0  \n",
       "510                             0  \n",
       "\n",
       "[5 rows x 25 columns]"
      ]
     },
     "execution_count": 3,
     "metadata": {},
     "output_type": "execute_result"
    }
   ],
   "source": [
    "df.head()"
   ]
  },
  {
   "cell_type": "code",
   "execution_count": 4,
   "metadata": {},
   "outputs": [
    {
     "name": "stdout",
     "output_type": "stream",
     "text": [
      "<class 'pandas.core.frame.DataFrame'>\n",
      "Int64Index: 1758 entries, 5571 to 3151\n",
      "Data columns (total 25 columns):\n",
      "gender                             1758 non-null int64\n",
      "senior                             1758 non-null int64\n",
      "partner                            1758 non-null int64\n",
      "dependents                         1758 non-null int64\n",
      "tenure                             1758 non-null int64\n",
      "phone_service                      1758 non-null int64\n",
      "multiple_lines                     1758 non-null int64\n",
      "online_security                    1758 non-null int64\n",
      "online_backup                      1758 non-null int64\n",
      "device_protection                  1758 non-null int64\n",
      "tech_support                       1758 non-null int64\n",
      "streaming_tv                       1758 non-null int64\n",
      "streaming_movies                   1758 non-null int64\n",
      "paperless_billing                  1758 non-null int64\n",
      "monthly_charges                    1758 non-null float64\n",
      "total_charges                      1758 non-null float64\n",
      "churn                              1758 non-null int64\n",
      "avg_monthly_charges                1758 non-null float64\n",
      "internet_service-fiber_optic       1758 non-null int64\n",
      "internet_service-no                1758 non-null int64\n",
      "contract-one_year                  1758 non-null int64\n",
      "contract-two_year                  1758 non-null int64\n",
      "payment_method-credit_card_auto    1758 non-null int64\n",
      "payment_method-electronic_check    1758 non-null int64\n",
      "payment_method-mailed_check        1758 non-null int64\n",
      "dtypes: float64(3), int64(22)\n",
      "memory usage: 357.1 KB\n"
     ]
    }
   ],
   "source": [
    "df.info()"
   ]
  },
  {
   "cell_type": "code",
   "execution_count": 5,
   "metadata": {},
   "outputs": [],
   "source": [
    "y = df['churn']\n",
    "X = df.drop('churn',axis = 1)"
   ]
  },
  {
   "cell_type": "code",
   "execution_count": null,
   "metadata": {},
   "outputs": [],
   "source": []
  },
  {
   "cell_type": "code",
   "execution_count": 6,
   "metadata": {},
   "outputs": [
    {
     "name": "stdout",
     "output_type": "stream",
     "text": [
      "0    1318\n",
      "1     440\n",
      "Name: churn, dtype: int64\n"
     ]
    },
    {
     "data": {
      "text/plain": [
       "<matplotlib.axes._subplots.AxesSubplot at 0x1860fab1508>"
      ]
     },
     "execution_count": 6,
     "metadata": {},
     "output_type": "execute_result"
    },
    {
     "data": {
      "image/png": "[encoded data removed]",
      "text/plain": [
       "<Figure size 432x288 with 1 Axes>"
      ]
     },
     "metadata": {
      "needs_background": "light"
     },
     "output_type": "display_data"
    }
   ],
   "source": [
    "print(y.value_counts())\n",
    "y.value_counts().plot(kind = 'bar')"
   ]
  },
  {
   "cell_type": "markdown",
   "metadata": {},
   "source": [
    "##### BUILDING PREDICTIVE ALGORITHM USING RANDOM FOREST"
   ]
  },
  {
   "cell_type": "code",
   "execution_count": 7,
   "metadata": {},
   "outputs": [],
   "source": [
    "from sklearn.model_selection import train_test_split\n",
    "X_train, X_test, y_train, y_test = train_test_split(X,y,test_size = 0.3,random_state = 3)"
   ]
  },
  {
   "cell_type": "code",
   "execution_count": 8,
   "metadata": {},
   "outputs": [],
   "source": [
    "from sklearn.preprocessing import StandardScaler\n",
    "ss = StandardScaler()\n",
    "X_stand = ss.fit_transform(X)\n",
    "\n",
    "X_train_stand = ss.fit_transform(X_train)\n",
    "X_test_stand = ss.transform(X_test)"
   ]
  },
  {
   "cell_type": "code",
   "execution_count": 9,
   "metadata": {},
   "outputs": [],
   "source": [
    "from sklearn.ensemble import RandomForestClassifier\n",
    "rfc = RandomForestClassifier(n_estimators=100)"
   ]
  },
  {
   "cell_type": "code",
   "execution_count": 10,
   "metadata": {},
   "outputs": [
    {
     "name": "stdout",
     "output_type": "stream",
     "text": [
      "Confusion matrix - Train : \n",
      " [[912   0]\n",
      " [  0 318]]\n",
      "Overall accuracy :  1.0\n",
      "AUC - Train :  1.0\n",
      "\n",
      "Confusion matrix - Test : \n",
      " [[363  43]\n",
      " [ 66  56]]\n",
      "Overall accuracy - Test :  0.7935606060606061\n",
      "AUC - Test :  0.8251534361624808\n"
     ]
    },
    {
     "data": {
      "image/png": "[encoded data removed]",
      "text/plain": [
       "<Figure size 432x288 with 1 Axes>"
      ]
     },
     "metadata": {
      "needs_background": "light"
     },
     "output_type": "display_data"
    }
   ],
   "source": [
    "#### TRAIN\n",
    "from sklearn.metrics import confusion_matrix,roc_auc_score,roc_curve,accuracy_score\n",
    "\n",
    "rfc.fit(X_train_stand,y_train)\n",
    "y_train_ypred = rfc.predict(X_train_stand)\n",
    "y_train_prob = rfc.predict_proba(X_train_stand)[:,-1]\n",
    "\n",
    "y_train_ypred\n",
    "\n",
    "y_train_prob\n",
    "\n",
    "print('Confusion matrix - Train : \\n',confusion_matrix(y_train,y_train_ypred))\n",
    "\n",
    "print('Overall accuracy : ',accuracy_score(y_train,y_train_ypred))\n",
    "\n",
    "print('AUC - Train : ',roc_auc_score(y_train,y_train_prob))\n",
    "print()\n",
    "\n",
    "#### TEST\n",
    "\n",
    "y_test_ypred = rfc.predict(X_test_stand)\n",
    "y_test_prob = rfc.predict_proba(X_test_stand)[:,-1]\n",
    "\n",
    "print('Confusion matrix - Test : \\n',confusion_matrix(y_test,y_test_ypred))\n",
    "\n",
    "print('Overall accuracy - Test : ',accuracy_score(y_test,y_test_ypred))\n",
    "\n",
    "print('AUC - Test : ',roc_auc_score(y_test,y_test_prob))\n",
    "\n",
    "fpr,tpr,thresholds = roc_curve(y_test,y_test_prob)\n",
    "\n",
    "plt.plot(fpr,tpr)\n",
    "plt.plot(fpr,fpr)\n",
    "plt.xlabel('FPR')\n",
    "plt.ylabel('TPR')\n",
    "plt.show()"
   ]
  },
  {
   "cell_type": "markdown",
   "metadata": {},
   "source": [
    "##### HYPERPARAMETERS TUNING FOR RANDOM FOREST"
   ]
  },
  {
   "cell_type": "code",
   "execution_count": 11,
   "metadata": {},
   "outputs": [
    {
     "data": {
      "text/plain": [
       "RandomizedSearchCV(cv=3, error_score=nan,\n",
       "                   estimator=RandomForestClassifier(bootstrap=True,\n",
       "                                                    ccp_alpha=0.0,\n",
       "                                                    class_weight=None,\n",
       "                                                    criterion='gini',\n",
       "                                                    max_depth=None,\n",
       "                                                    max_features='auto',\n",
       "                                                    max_leaf_nodes=None,\n",
       "                                                    max_samples=None,\n",
       "                                                    min_impurity_decrease=0.0,\n",
       "                                                    min_impurity_split=None,\n",
       "                                                    min_samples_leaf=1,\n",
       "                                                    min_samples_split=2,\n",
       "                                                    min_weight_fraction_leaf=0.0,\n",
       "                                                    n_estimators=100,\n",
       "                                                    n_jobs...\n",
       "                                        'min_samples_leaf': <scipy.stats._distn_infrastructure.rv_frozen object at 0x000001861229B9C8>,\n",
       "                                        'min_samples_split': <scipy.stats._distn_infrastructure.rv_frozen object at 0x0000018611CFFBC8>,\n",
       "                                        'n_estimators': <scipy.stats._distn_infrastructure.rv_frozen object at 0x00000186120EAF08>},\n",
       "                   pre_dispatch='2*n_jobs', random_state=3, refit=True,\n",
       "                   return_train_score=True, scoring='roc_auc', verbose=0)"
      ]
     },
     "execution_count": 11,
     "metadata": {},
     "output_type": "execute_result"
    }
   ],
   "source": [
    "from sklearn.model_selection import RandomizedSearchCV\n",
    "from scipy.stats import randint as sp_randint\n",
    "\n",
    "rfc = RandomForestClassifier(random_state = 3)\n",
    "\n",
    "params = {\n",
    "    'n_estimators' : sp_randint(50,200),\n",
    "    'max_features' : sp_randint(1,24),\n",
    "    'max_depth' : sp_randint(2,10),\n",
    "    'min_samples_split' : sp_randint(2,20),\n",
    "    'min_samples_leaf' : sp_randint(1,20),\n",
    "    'criterion' : ['gini','entropy']\n",
    "}\n",
    "\n",
    "rsearchcv_rfc = RandomizedSearchCV(rfc,param_distributions=params,scoring = 'roc_auc',\\\n",
    "                   n_iter=200,cv = 3,random_state = 3,return_train_score=True, n_jobs=-1)\n",
    "\n",
    "rsearchcv_rfc.fit(X_stand,y)\n"
   ]
  },
  {
   "cell_type": "code",
   "execution_count": 12,
   "metadata": {},
   "outputs": [
    {
     "data": {
      "text/plain": [
       "{'criterion': 'entropy',\n",
       " 'max_depth': 8,\n",
       " 'max_features': 1,\n",
       " 'min_samples_leaf': 4,\n",
       " 'min_samples_split': 2,\n",
       " 'n_estimators': 123}"
      ]
     },
     "execution_count": 12,
     "metadata": {},
     "output_type": "execute_result"
    }
   ],
   "source": [
    "rsearchcv_rfc.best_params_"
   ]
  },
  {
   "cell_type": "code",
   "execution_count": 13,
   "metadata": {},
   "outputs": [
    {
     "data": {
      "text/html": [
       "<div>\n",
       "<style scoped>\n",
       "    .dataframe tbody tr th:only-of-type {\n",
       "        vertical-align: middle;\n",
       "    }\n",
       "\n",
       "    .dataframe tbody tr th {\n",
       "        vertical-align: top;\n",
       "    }\n",
       "\n",
       "    .dataframe thead th {\n",
       "        text-align: right;\n",
       "    }\n",
       "</style>\n",
       "<table border=\"1\" class=\"dataframe\">\n",
       "  <thead>\n",
       "    <tr style=\"text-align: right;\">\n",
       "      <th></th>\n",
       "      <th>mean_fit_time</th>\n",
       "      <th>std_fit_time</th>\n",
       "      <th>mean_score_time</th>\n",
       "      <th>std_score_time</th>\n",
       "      <th>param_criterion</th>\n",
       "      <th>param_max_depth</th>\n",
       "      <th>param_max_features</th>\n",
       "      <th>param_min_samples_leaf</th>\n",
       "      <th>param_min_samples_split</th>\n",
       "      <th>param_n_estimators</th>\n",
       "      <th>...</th>\n",
       "      <th>split1_test_score</th>\n",
       "      <th>split2_test_score</th>\n",
       "      <th>mean_test_score</th>\n",
       "      <th>std_test_score</th>\n",
       "      <th>rank_test_score</th>\n",
       "      <th>split0_train_score</th>\n",
       "      <th>split1_train_score</th>\n",
       "      <th>split2_train_score</th>\n",
       "      <th>mean_train_score</th>\n",
       "      <th>std_train_score</th>\n",
       "    </tr>\n",
       "  </thead>\n",
       "  <tbody>\n",
       "    <tr>\n",
       "      <td>90</td>\n",
       "      <td>0.367407</td>\n",
       "      <td>0.008353</td>\n",
       "      <td>0.030176</td>\n",
       "      <td>0.001518</td>\n",
       "      <td>entropy</td>\n",
       "      <td>8</td>\n",
       "      <td>1</td>\n",
       "      <td>4</td>\n",
       "      <td>2</td>\n",
       "      <td>123</td>\n",
       "      <td>...</td>\n",
       "      <td>0.835131</td>\n",
       "      <td>0.853927</td>\n",
       "      <td>0.846856</td>\n",
       "      <td>0.00835</td>\n",
       "      <td>1</td>\n",
       "      <td>0.917711</td>\n",
       "      <td>0.92089</td>\n",
       "      <td>0.915516</td>\n",
       "      <td>0.918039</td>\n",
       "      <td>0.002206</td>\n",
       "    </tr>\n",
       "  </tbody>\n",
       "</table>\n",
       "<p>1 rows × 22 columns</p>\n",
       "</div>"
      ],
      "text/plain": [
       "    mean_fit_time  std_fit_time  mean_score_time  std_score_time  \\\n",
       "90       0.367407      0.008353         0.030176        0.001518   \n",
       "\n",
       "   param_criterion param_max_depth param_max_features param_min_samples_leaf  \\\n",
       "90         entropy               8                  1                      4   \n",
       "\n",
       "   param_min_samples_split param_n_estimators  ... split1_test_score  \\\n",
       "90                       2                123  ...          0.835131   \n",
       "\n",
       "    split2_test_score  mean_test_score  std_test_score  rank_test_score  \\\n",
       "90           0.853927         0.846856         0.00835                1   \n",
       "\n",
       "    split0_train_score  split1_train_score  split2_train_score  \\\n",
       "90            0.917711             0.92089            0.915516   \n",
       "\n",
       "    mean_train_score  std_train_score  \n",
       "90          0.918039         0.002206  \n",
       "\n",
       "[1 rows x 22 columns]"
      ]
     },
     "execution_count": 13,
     "metadata": {},
     "output_type": "execute_result"
    }
   ],
   "source": [
    "rscv_df = pd.DataFrame(rsearchcv_rfc.cv_results_)\n",
    "rscv_df[rscv_df['rank_test_score'] == 1]"
   ]
  },
  {
   "cell_type": "code",
   "execution_count": 14,
   "metadata": {},
   "outputs": [],
   "source": [
    "from sklearn.ensemble import RandomForestClassifier\n",
    "rfc = RandomForestClassifier(**rsearchcv_rfc.best_params_)"
   ]
  },
  {
   "cell_type": "code",
   "execution_count": 15,
   "metadata": {},
   "outputs": [
    {
     "name": "stdout",
     "output_type": "stream",
     "text": [
      "Confusion matrix - Train : \n",
      " [[889  23]\n",
      " [184 134]]\n",
      "Overall accuracy :  0.8317073170731707\n",
      "AUC - Train :  0.9167959698775241\n",
      "\n",
      "Confusion matrix - Test : \n",
      " [[388  18]\n",
      " [ 85  37]]\n",
      "Overall accuracy - Test :  0.8049242424242424\n",
      "AUC - Test :  0.8414560284260679\n"
     ]
    },
    {
     "data": {
      "image/png": "[encoded data removed]",
      "text/plain": [
       "<Figure size 432x288 with 1 Axes>"
      ]
     },
     "metadata": {
      "needs_background": "light"
     },
     "output_type": "display_data"
    }
   ],
   "source": [
    "#### TRAIN\n",
    "from sklearn.metrics import confusion_matrix,roc_auc_score,roc_curve,accuracy_score\n",
    "\n",
    "rfc.fit(X_train_stand,y_train)\n",
    "y_train_ypred = rfc.predict(X_train_stand)\n",
    "y_train_prob = rfc.predict_proba(X_train_stand)[:,-1]\n",
    "\n",
    "y_train_ypred\n",
    "\n",
    "y_train_prob\n",
    "\n",
    "print('Confusion matrix - Train : \\n',confusion_matrix(y_train,y_train_ypred))\n",
    "\n",
    "print('Overall accuracy : ',accuracy_score(y_train,y_train_ypred))\n",
    "\n",
    "print('AUC - Train : ',roc_auc_score(y_train,y_train_prob))\n",
    "print()\n",
    "\n",
    "#### TEST\n",
    "\n",
    "y_test_ypred = rfc.predict(X_test_stand)\n",
    "y_test_prob = rfc.predict_proba(X_test_stand)[:,-1]\n",
    "\n",
    "print('Confusion matrix - Test : \\n',confusion_matrix(y_test,y_test_ypred))\n",
    "\n",
    "print('Overall accuracy - Test : ',accuracy_score(y_test,y_test_ypred))\n",
    "\n",
    "print('AUC - Test : ',roc_auc_score(y_test,y_test_prob))\n",
    "\n",
    "fpr,tpr,thresholds = roc_curve(y_test,y_test_prob)\n",
    "\n",
    "plt.plot(fpr,tpr)\n",
    "plt.plot(fpr,fpr)\n",
    "plt.xlabel('FPR')\n",
    "plt.ylabel('TPR')\n",
    "plt.show()"
   ]
  },
  {
   "cell_type": "code",
   "execution_count": 16,
   "metadata": {},
   "outputs": [
    {
     "data": {
      "text/html": [
       "<div>\n",
       "<style scoped>\n",
       "    .dataframe tbody tr th:only-of-type {\n",
       "        vertical-align: middle;\n",
       "    }\n",
       "\n",
       "    .dataframe tbody tr th {\n",
       "        vertical-align: top;\n",
       "    }\n",
       "\n",
       "    .dataframe thead th {\n",
       "        text-align: right;\n",
       "    }\n",
       "</style>\n",
       "<table border=\"1\" class=\"dataframe\">\n",
       "  <thead>\n",
       "    <tr style=\"text-align: right;\">\n",
       "      <th></th>\n",
       "      <th>importance</th>\n",
       "    </tr>\n",
       "  </thead>\n",
       "  <tbody>\n",
       "    <tr>\n",
       "      <td>tenure</td>\n",
       "      <td>0.134006</td>\n",
       "    </tr>\n",
       "    <tr>\n",
       "      <td>total_charges</td>\n",
       "      <td>0.112217</td>\n",
       "    </tr>\n",
       "    <tr>\n",
       "      <td>avg_monthly_charges</td>\n",
       "      <td>0.099961</td>\n",
       "    </tr>\n",
       "    <tr>\n",
       "      <td>monthly_charges</td>\n",
       "      <td>0.099366</td>\n",
       "    </tr>\n",
       "    <tr>\n",
       "      <td>contract-two_year</td>\n",
       "      <td>0.083490</td>\n",
       "    </tr>\n",
       "    <tr>\n",
       "      <td>payment_method-electronic_check</td>\n",
       "      <td>0.056463</td>\n",
       "    </tr>\n",
       "    <tr>\n",
       "      <td>internet_service-fiber_optic</td>\n",
       "      <td>0.047326</td>\n",
       "    </tr>\n",
       "    <tr>\n",
       "      <td>internet_service-no</td>\n",
       "      <td>0.042525</td>\n",
       "    </tr>\n",
       "    <tr>\n",
       "      <td>contract-one_year</td>\n",
       "      <td>0.038152</td>\n",
       "    </tr>\n",
       "    <tr>\n",
       "      <td>online_security</td>\n",
       "      <td>0.032662</td>\n",
       "    </tr>\n",
       "    <tr>\n",
       "      <td>dependents</td>\n",
       "      <td>0.029701</td>\n",
       "    </tr>\n",
       "    <tr>\n",
       "      <td>online_backup</td>\n",
       "      <td>0.026340</td>\n",
       "    </tr>\n",
       "    <tr>\n",
       "      <td>paperless_billing</td>\n",
       "      <td>0.025842</td>\n",
       "    </tr>\n",
       "    <tr>\n",
       "      <td>partner</td>\n",
       "      <td>0.025347</td>\n",
       "    </tr>\n",
       "    <tr>\n",
       "      <td>tech_support</td>\n",
       "      <td>0.023664</td>\n",
       "    </tr>\n",
       "    <tr>\n",
       "      <td>device_protection</td>\n",
       "      <td>0.018158</td>\n",
       "    </tr>\n",
       "    <tr>\n",
       "      <td>payment_method-credit_card_auto</td>\n",
       "      <td>0.018025</td>\n",
       "    </tr>\n",
       "    <tr>\n",
       "      <td>gender</td>\n",
       "      <td>0.014784</td>\n",
       "    </tr>\n",
       "    <tr>\n",
       "      <td>streaming_movies</td>\n",
       "      <td>0.014417</td>\n",
       "    </tr>\n",
       "    <tr>\n",
       "      <td>senior</td>\n",
       "      <td>0.013222</td>\n",
       "    </tr>\n",
       "    <tr>\n",
       "      <td>payment_method-mailed_check</td>\n",
       "      <td>0.012933</td>\n",
       "    </tr>\n",
       "    <tr>\n",
       "      <td>streaming_tv</td>\n",
       "      <td>0.012086</td>\n",
       "    </tr>\n",
       "    <tr>\n",
       "      <td>multiple_lines</td>\n",
       "      <td>0.011924</td>\n",
       "    </tr>\n",
       "    <tr>\n",
       "      <td>phone_service</td>\n",
       "      <td>0.007390</td>\n",
       "    </tr>\n",
       "  </tbody>\n",
       "</table>\n",
       "</div>"
      ],
      "text/plain": [
       "                                 importance\n",
       "tenure                             0.134006\n",
       "total_charges                      0.112217\n",
       "avg_monthly_charges                0.099961\n",
       "monthly_charges                    0.099366\n",
       "contract-two_year                  0.083490\n",
       "payment_method-electronic_check    0.056463\n",
       "internet_service-fiber_optic       0.047326\n",
       "internet_service-no                0.042525\n",
       "contract-one_year                  0.038152\n",
       "online_security                    0.032662\n",
       "dependents                         0.029701\n",
       "online_backup                      0.026340\n",
       "paperless_billing                  0.025842\n",
       "partner                            0.025347\n",
       "tech_support                       0.023664\n",
       "device_protection                  0.018158\n",
       "payment_method-credit_card_auto    0.018025\n",
       "gender                             0.014784\n",
       "streaming_movies                   0.014417\n",
       "senior                             0.013222\n",
       "payment_method-mailed_check        0.012933\n",
       "streaming_tv                       0.012086\n",
       "multiple_lines                     0.011924\n",
       "phone_service                      0.007390"
      ]
     },
     "execution_count": 16,
     "metadata": {},
     "output_type": "execute_result"
    }
   ],
   "source": [
    "imp = pd.DataFrame(rfc.feature_importances_,index = X.columns,columns=['importance'])\n",
    "imp = imp.sort_values('importance',ascending = False)\n",
    "imp"
   ]
  },
  {
   "cell_type": "markdown",
   "metadata": {},
   "source": [
    "### KNN ALGORITHM"
   ]
  },
  {
   "cell_type": "code",
   "execution_count": null,
   "metadata": {},
   "outputs": [],
   "source": []
  },
  {
   "cell_type": "code",
   "execution_count": 17,
   "metadata": {},
   "outputs": [
    {
     "data": {
      "text/plain": [
       "RandomizedSearchCV(cv=3, error_score=nan,\n",
       "                   estimator=KNeighborsClassifier(algorithm='auto',\n",
       "                                                  leaf_size=30,\n",
       "                                                  metric='minkowski',\n",
       "                                                  metric_params=None,\n",
       "                                                  n_jobs=None, n_neighbors=5,\n",
       "                                                  p=2, weights='uniform'),\n",
       "                   iid='deprecated', n_iter=50, n_jobs=-1,\n",
       "                   param_distributions={'n_neighbors': <scipy.stats._distn_infrastructure.rv_frozen object at 0x0000018612395F08>,\n",
       "                                        'p': <scipy.stats._distn_infrastructure.rv_frozen object at 0x00000186123F7588>},\n",
       "                   pre_dispatch='2*n_jobs', random_state=3, refit=True,\n",
       "                   return_train_score=True, scoring=None, verbose=0)"
      ]
     },
     "execution_count": 17,
     "metadata": {},
     "output_type": "execute_result"
    }
   ],
   "source": [
    "from sklearn.neighbors import KNeighborsClassifier\n",
    "from sklearn.model_selection import RandomizedSearchCV, GridSearchCV\n",
    "from scipy.stats import randint as sp_randint\n",
    "\n",
    "knn = KNeighborsClassifier()\n",
    "\n",
    "params = {\n",
    "    'n_neighbors' : sp_randint(1,15),\n",
    "    'p' : sp_randint(1,5)\n",
    "}\n",
    "\n",
    "rsearch_knn = RandomizedSearchCV(knn, param_distributions=params,cv = 3, return_train_score = True, random_state = 3,n_iter=50,\\\n",
    "                             n_jobs = -1)\n",
    "\n",
    "rsearch_knn.fit(X_stand,y)"
   ]
  },
  {
   "cell_type": "code",
   "execution_count": 18,
   "metadata": {},
   "outputs": [
    {
     "data": {
      "text/plain": [
       "{'n_neighbors': 12, 'p': 3}"
      ]
     },
     "execution_count": 18,
     "metadata": {},
     "output_type": "execute_result"
    }
   ],
   "source": [
    "rsearch_knn.best_params_"
   ]
  },
  {
   "cell_type": "code",
   "execution_count": 19,
   "metadata": {},
   "outputs": [
    {
     "name": "stdout",
     "output_type": "stream",
     "text": [
      "Confusion matrix - Train : \n",
      " [[827  85]\n",
      " [134 184]]\n",
      "Overall accuracy :  0.8219512195121951\n",
      "Classification Report - Train \n",
      ":                precision    recall  f1-score   support\n",
      "\n",
      "           0       0.86      0.91      0.88       912\n",
      "           1       0.68      0.58      0.63       318\n",
      "\n",
      "    accuracy                           0.82      1230\n",
      "   macro avg       0.77      0.74      0.75      1230\n",
      "weighted avg       0.81      0.82      0.82      1230\n",
      "\n",
      "AUC - Train :  0.8720139578506013\n",
      "\n",
      "Confusion matrix - Test : \n",
      " [[359  47]\n",
      " [ 59  63]]\n",
      "Overall accuracy - Test :  0.7992424242424242\n",
      "Classification Report - Test : \n",
      "               precision    recall  f1-score   support\n",
      "\n",
      "           0       0.86      0.88      0.87       406\n",
      "           1       0.57      0.52      0.54       122\n",
      "\n",
      "    accuracy                           0.80       528\n",
      "   macro avg       0.72      0.70      0.71       528\n",
      "weighted avg       0.79      0.80      0.80       528\n",
      "\n",
      "AUC - Test :  0.8129290155858837\n"
     ]
    },
    {
     "data": {
      "image/png": "[encoded data removed]",
      "text/plain": [
       "<Figure size 432x288 with 1 Axes>"
      ]
     },
     "metadata": {
      "needs_background": "light"
     },
     "output_type": "display_data"
    }
   ],
   "source": [
    "knn  = KNeighborsClassifier(**rsearch_knn.best_params_)\n",
    "\n",
    "#### TRAIN\n",
    "from sklearn.metrics import confusion_matrix,roc_auc_score,roc_curve,accuracy_score, classification_report\n",
    "\n",
    "knn.fit(X_train_stand,y_train)\n",
    "y_train_ypred = knn.predict(X_train_stand)\n",
    "y_train_prob = knn.predict_proba(X_train_stand)[:,-1]\n",
    "\n",
    "y_train_ypred\n",
    "\n",
    "y_train_prob\n",
    "\n",
    "print('Confusion matrix - Train : \\n',confusion_matrix(y_train,y_train_ypred))\n",
    "\n",
    "print('Overall accuracy : ',accuracy_score(y_train,y_train_ypred))\n",
    "\n",
    "print('Classification Report - Train \\n: ',classification_report(y_train,y_train_ypred))\n",
    "\n",
    "print('AUC - Train : ',roc_auc_score(y_train,y_train_prob))\n",
    "print()\n",
    "\n",
    "#### TEST\n",
    "\n",
    "y_test_ypred = knn.predict(X_test_stand)\n",
    "y_test_prob = knn.predict_proba(X_test_stand)[:,-1]\n",
    "\n",
    "print('Confusion matrix - Test : \\n',confusion_matrix(y_test,y_test_ypred))\n",
    "\n",
    "print('Overall accuracy - Test : ',accuracy_score(y_test,y_test_ypred))\n",
    "\n",
    "print('Classification Report - Test : \\n',classification_report(y_test,y_test_ypred))\n",
    "\n",
    "print('AUC - Test : ',roc_auc_score(y_test,y_test_prob))\n",
    "\n",
    "fpr,tpr,thresholds = roc_curve(y_test,y_test_prob)\n",
    "\n",
    "plt.plot(fpr,tpr)\n",
    "plt.plot(fpr,fpr)\n",
    "plt.xlabel('FPR')\n",
    "plt.ylabel('TPR')\n",
    "plt.show()"
   ]
  },
  {
   "cell_type": "markdown",
   "metadata": {},
   "source": [
    "### STACKING RESULTS OF 3 LEARNERS (RANDOM FOREST, KNN AND LOGISTIC REGRESSION)"
   ]
  },
  {
   "cell_type": "code",
   "execution_count": 20,
   "metadata": {},
   "outputs": [
    {
     "name": "stdout",
     "output_type": "stream",
     "text": [
      "Confusion matrix - Train : \n",
      " [[826  86]\n",
      " [146 172]]\n",
      "Overall accuracy :  0.8113821138211382\n",
      "Classification Report - Train \n",
      ":                precision    recall  f1-score   support\n",
      "\n",
      "           0       0.85      0.91      0.88       912\n",
      "           1       0.67      0.54      0.60       318\n",
      "\n",
      "    accuracy                           0.81      1230\n",
      "   macro avg       0.76      0.72      0.74      1230\n",
      "weighted avg       0.80      0.81      0.80      1230\n",
      "\n",
      "AUC - Train :  0.8558320920225091\n",
      "\n",
      "Confusion matrix - Test : \n",
      " [[359  47]\n",
      " [ 57  65]]\n",
      "Overall accuracy - Test :  0.803030303030303\n",
      "Classification Report - Test : \n",
      "               precision    recall  f1-score   support\n",
      "\n",
      "           0       0.86      0.88      0.87       406\n",
      "           1       0.58      0.53      0.56       122\n",
      "\n",
      "    accuracy                           0.80       528\n",
      "   macro avg       0.72      0.71      0.71       528\n",
      "weighted avg       0.80      0.80      0.80       528\n",
      "\n",
      "AUC - Test :  0.843111523863361\n"
     ]
    },
    {
     "data": {
      "image/png": "[encoded data removed]",
      "text/plain": [
       "<Figure size 432x288 with 1 Axes>"
      ]
     },
     "metadata": {
      "needs_background": "light"
     },
     "output_type": "display_data"
    }
   ],
   "source": [
    "from sklearn.linear_model import LogisticRegression\n",
    "lr = LogisticRegression(solver = 'liblinear')\n",
    "\n",
    "lr.fit(X_train_stand,y_train)\n",
    "\n",
    "\n",
    "#### TRAIN\n",
    "from sklearn.metrics import confusion_matrix,roc_auc_score,roc_curve,accuracy_score, classification_report\n",
    "\n",
    "lr.fit(X_train_stand,y_train)\n",
    "y_train_ypred = lr.predict(X_train_stand)\n",
    "y_train_prob = lr.predict_proba(X_train_stand)[:,-1]\n",
    "\n",
    "y_train_ypred\n",
    "\n",
    "y_train_prob\n",
    "\n",
    "print('Confusion matrix - Train : \\n',confusion_matrix(y_train,y_train_ypred))\n",
    "\n",
    "print('Overall accuracy : ',accuracy_score(y_train,y_train_ypred))\n",
    "\n",
    "print('Classification Report - Train \\n: ',classification_report(y_train,y_train_ypred))\n",
    "\n",
    "print('AUC - Train : ',roc_auc_score(y_train,y_train_prob))\n",
    "print()\n",
    "\n",
    "#### TEST\n",
    "\n",
    "y_test_ypred = lr.predict(X_test_stand)\n",
    "y_test_prob = lr.predict_proba(X_test_stand)[:,-1]\n",
    "\n",
    "print('Confusion matrix - Test : \\n',confusion_matrix(y_test,y_test_ypred))\n",
    "\n",
    "print('Overall accuracy - Test : ',accuracy_score(y_test,y_test_ypred))\n",
    "\n",
    "print('Classification Report - Test : \\n',classification_report(y_test,y_test_ypred))\n",
    "\n",
    "print('AUC - Test : ',roc_auc_score(y_test,y_test_prob))\n",
    "\n",
    "fpr,tpr,thresholds = roc_curve(y_test,y_test_prob)\n",
    "\n",
    "plt.plot(fpr,tpr)\n",
    "plt.plot(fpr,fpr)\n",
    "plt.xlabel('FPR')\n",
    "plt.ylabel('TPR')\n",
    "plt.show()"
   ]
  },
  {
   "cell_type": "code",
   "execution_count": 22,
   "metadata": {},
   "outputs": [],
   "source": [
    "from sklearn.ensemble import VotingClassifier\n",
    "lr = LogisticRegression(solver = 'liblinear')\n",
    "knn = KNeighborsClassifier(**rsearch_knn.best_params_)\n",
    "rfc = RandomForestClassifier(**rsearchcv_rfc.best_params_)"
   ]
  },
  {
   "cell_type": "markdown",
   "metadata": {},
   "source": [
    "##### HARD VOTING"
   ]
  },
  {
   "cell_type": "code",
   "execution_count": 24,
   "metadata": {},
   "outputs": [
    {
     "name": "stdout",
     "output_type": "stream",
     "text": [
      "Overall accuracy - Train :  0.8235772357723578\n",
      "Overall accuracy - Test :  0.8011363636363636\n"
     ]
    }
   ],
   "source": [
    "clf = VotingClassifier(estimators=[('lr',lr), ('knn',knn), ('rfc',rfc)], voting='hard')\n",
    "clf.fit(X_train_stand,y_train)\n",
    "\n",
    "y_train_predict = clf.predict(X_train_stand)\n",
    "y_test_predict = clf.predict(X_test_stand)\n",
    "\n",
    "# print('Confusion matrix - Train : \\n',confusion_matrix(y_train,y_train_ypred))\n",
    "\n",
    "print('Overall accuracy - Train : ',accuracy_score(y_train,y_train_predict))\n",
    "print('Overall accuracy - Test : ',accuracy_score(y_test,y_test_predict))\n",
    "\n",
    "# print('Classification Report - Train \\n: ',classification_report(y_train,y_train_ypred))\n",
    "\n",
    "# print('AUC - Train : ',roc_auc_score(y_train,y_train_prob))"
   ]
  },
  {
   "cell_type": "markdown",
   "metadata": {},
   "source": [
    "##### SOFT VOTING - Equal Weightages"
   ]
  },
  {
   "cell_type": "code",
   "execution_count": 25,
   "metadata": {},
   "outputs": [
    {
     "name": "stdout",
     "output_type": "stream",
     "text": [
      "Confusion matrix - Train : \n",
      " [[849  63]\n",
      " [140 178]]\n",
      "Overall accuracy :  0.8349593495934959\n",
      "Classification Report - Train \n",
      ":                precision    recall  f1-score   support\n",
      "\n",
      "           0       0.86      0.93      0.89       912\n",
      "           1       0.74      0.56      0.64       318\n",
      "\n",
      "    accuracy                           0.83      1230\n",
      "   macro avg       0.80      0.75      0.77      1230\n",
      "weighted avg       0.83      0.83      0.83      1230\n",
      "\n",
      "AUC - Train :  0.8894440306741698\n",
      "\n",
      "Confusion matrix - Test : \n",
      " [[367  39]\n",
      " [ 62  60]]\n",
      "Overall accuracy - Test :  0.8087121212121212\n",
      "Classification Report - Test : \n",
      "               precision    recall  f1-score   support\n",
      "\n",
      "           0       0.86      0.90      0.88       406\n",
      "           1       0.61      0.49      0.54       122\n",
      "\n",
      "    accuracy                           0.81       528\n",
      "   macro avg       0.73      0.70      0.71       528\n",
      "weighted avg       0.80      0.81      0.80       528\n",
      "\n",
      "AUC - Test :  0.8388920293951385\n"
     ]
    },
    {
     "data": {
      "image/png": "[encoded data removed]",
      "text/plain": [
       "<Figure size 432x288 with 1 Axes>"
      ]
     },
     "metadata": {
      "needs_background": "light"
     },
     "output_type": "display_data"
    }
   ],
   "source": [
    "clf = VotingClassifier(estimators=[('lr',lr), ('knn',knn), ('rfc',rfc)], voting='soft')\n",
    "clf.fit(X_train_stand,y_train)\n",
    "\n",
    "#### TRAIN\n",
    "from sklearn.metrics import confusion_matrix,roc_auc_score,roc_curve,accuracy_score, classification_report\n",
    "\n",
    "clf.fit(X_train_stand,y_train)\n",
    "y_train_ypred = clf.predict(X_train_stand)\n",
    "y_train_prob = clf.predict_proba(X_train_stand)[:,-1]\n",
    "\n",
    "y_train_ypred\n",
    "\n",
    "y_train_prob\n",
    "\n",
    "print('Confusion matrix - Train : \\n',confusion_matrix(y_train,y_train_ypred))\n",
    "\n",
    "print('Overall accuracy : ',accuracy_score(y_train,y_train_ypred))\n",
    "\n",
    "print('Classification Report - Train \\n: ',classification_report(y_train,y_train_ypred))\n",
    "\n",
    "print('AUC - Train : ',roc_auc_score(y_train,y_train_prob))\n",
    "print()\n",
    "\n",
    "#### TEST\n",
    "\n",
    "y_test_ypred = clf.predict(X_test_stand)\n",
    "y_test_prob = clf.predict_proba(X_test_stand)[:,-1]\n",
    "\n",
    "print('Confusion matrix - Test : \\n',confusion_matrix(y_test,y_test_ypred))\n",
    "\n",
    "print('Overall accuracy - Test : ',accuracy_score(y_test,y_test_ypred))\n",
    "\n",
    "print('Classification Report - Test : \\n',classification_report(y_test,y_test_ypred))\n",
    "\n",
    "print('AUC - Test : ',roc_auc_score(y_test,y_test_prob))\n",
    "\n",
    "fpr,tpr,thresholds = roc_curve(y_test,y_test_prob)\n",
    "\n",
    "plt.plot(fpr,tpr)\n",
    "plt.plot(fpr,fpr)\n",
    "plt.xlabel('FPR')\n",
    "plt.ylabel('TPR')\n",
    "plt.show()"
   ]
  },
  {
   "cell_type": "markdown",
   "metadata": {},
   "source": [
    "##### SOFT VOTING - Unequal Weightage"
   ]
  },
  {
   "cell_type": "code",
   "execution_count": 26,
   "metadata": {},
   "outputs": [
    {
     "name": "stdout",
     "output_type": "stream",
     "text": [
      "Confusion matrix - Train : \n",
      " [[853  59]\n",
      " [149 169]]\n",
      "Overall accuracy :  0.8308943089430895\n",
      "Classification Report - Train \n",
      ":                precision    recall  f1-score   support\n",
      "\n",
      "           0       0.85      0.94      0.89       912\n",
      "           1       0.74      0.53      0.62       318\n",
      "\n",
      "    accuracy                           0.83      1230\n",
      "   macro avg       0.80      0.73      0.76      1230\n",
      "weighted avg       0.82      0.83      0.82      1230\n",
      "\n",
      "AUC - Train :  0.8981125179300452\n",
      "\n",
      "Confusion matrix - Test : \n",
      " [[368  38]\n",
      " [ 66  56]]\n",
      "Overall accuracy - Test :  0.803030303030303\n",
      "Classification Report - Test : \n",
      "               precision    recall  f1-score   support\n",
      "\n",
      "           0       0.85      0.91      0.88       406\n",
      "           1       0.60      0.46      0.52       122\n",
      "\n",
      "    accuracy                           0.80       528\n",
      "   macro avg       0.72      0.68      0.70       528\n",
      "weighted avg       0.79      0.80      0.79       528\n",
      "\n",
      "AUC - Test :  0.8378825809577647\n"
     ]
    },
    {
     "data": {
      "image/png": "[encoded data removed]",
      "text/plain": [
       "<Figure size 432x288 with 1 Axes>"
      ]
     },
     "metadata": {
      "needs_background": "light"
     },
     "output_type": "display_data"
    }
   ],
   "source": [
    "clf = VotingClassifier(estimators=[('lr',lr), ('knn',knn), ('rfc',rfc)], voting='soft',weights=[1,2,3])\n",
    "clf.fit(X_train_stand,y_train)\n",
    "\n",
    "#### TRAIN\n",
    "from sklearn.metrics import confusion_matrix,roc_auc_score,roc_curve,accuracy_score, classification_report\n",
    "\n",
    "clf.fit(X_train_stand,y_train)\n",
    "y_train_ypred = clf.predict(X_train_stand)\n",
    "y_train_prob = clf.predict_proba(X_train_stand)[:,-1]\n",
    "\n",
    "y_train_ypred\n",
    "\n",
    "y_train_prob\n",
    "\n",
    "print('Confusion matrix - Train : \\n',confusion_matrix(y_train,y_train_ypred))\n",
    "\n",
    "print('Overall accuracy : ',accuracy_score(y_train,y_train_ypred))\n",
    "\n",
    "print('Classification Report - Train \\n: ',classification_report(y_train,y_train_ypred))\n",
    "\n",
    "print('AUC - Train : ',roc_auc_score(y_train,y_train_prob))\n",
    "print()\n",
    "\n",
    "#### TEST\n",
    "\n",
    "y_test_ypred = clf.predict(X_test_stand)\n",
    "y_test_prob = clf.predict_proba(X_test_stand)[:,-1]\n",
    "\n",
    "print('Confusion matrix - Test : \\n',confusion_matrix(y_test,y_test_ypred))\n",
    "\n",
    "print('Overall accuracy - Test : ',accuracy_score(y_test,y_test_ypred))\n",
    "\n",
    "print('Classification Report - Test : \\n',classification_report(y_test,y_test_ypred))\n",
    "\n",
    "print('AUC - Test : ',roc_auc_score(y_test,y_test_prob))\n",
    "\n",
    "fpr,tpr,thresholds = roc_curve(y_test,y_test_prob)\n",
    "\n",
    "plt.plot(fpr,tpr)\n",
    "plt.plot(fpr,fpr)\n",
    "plt.xlabel('FPR')\n",
    "plt.ylabel('TPR')\n",
    "plt.show()"
   ]
  },
  {
   "cell_type": "code",
   "execution_count": null,
   "metadata": {},
   "outputs": [],
   "source": []
  }
 ],
 "metadata": {
  "kernelspec": {
   "display_name": "Python 3",
   "language": "python",
   "name": "python3"
  },
  "language_info": {
   "codemirror_mode": {
    "name": "ipython",
    "version": 3
   },
   "file_extension": ".py",
   "mimetype": "text/x-python",
   "name": "python",
   "nbconvert_exporter": "python",
   "pygments_lexer": "ipython3",
   "version": "3.7.4"
  }
 },
 "nbformat": 4,
 "nbformat_minor": 2
}
