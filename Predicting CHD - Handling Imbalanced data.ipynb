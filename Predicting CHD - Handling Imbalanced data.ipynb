{
 "cells": [
  {
   "cell_type": "code",
   "execution_count": 1,
   "metadata": {},
   "outputs": [],
   "source": [
    "import pandas as pd\n",
    "import numpy as np\n",
    "import matplotlib.pyplot as plt\n",
    "import seaborn as sns\n",
    "import os\n",
    "os.chdir('C:\\\\Users\\\\Pratik Asarkar\\\\GreatLearning\\\\Practice\\\\Machine Learning - Classification')"
   ]
  },
  {
   "cell_type": "code",
   "execution_count": 2,
   "metadata": {},
   "outputs": [],
   "source": [
    "df = pd.read_csv('US_Heart_Patients.csv')\n",
    "df = df.sample(frac = 1,random_state = 3)"
   ]
  },
  {
   "cell_type": "code",
   "execution_count": 3,
   "metadata": {},
   "outputs": [
    {
     "data": {
      "text/html": [
       "<div>\n",
       "<style scoped>\n",
       "    .dataframe tbody tr th:only-of-type {\n",
       "        vertical-align: middle;\n",
       "    }\n",
       "\n",
       "    .dataframe tbody tr th {\n",
       "        vertical-align: top;\n",
       "    }\n",
       "\n",
       "    .dataframe thead th {\n",
       "        text-align: right;\n",
       "    }\n",
       "</style>\n",
       "<table border=\"1\" class=\"dataframe\">\n",
       "  <thead>\n",
       "    <tr style=\"text-align: right;\">\n",
       "      <th></th>\n",
       "      <th>male</th>\n",
       "      <th>age</th>\n",
       "      <th>education</th>\n",
       "      <th>currentSmoker</th>\n",
       "      <th>cigsPerDay</th>\n",
       "      <th>BPMeds</th>\n",
       "      <th>prevalentStroke</th>\n",
       "      <th>prevalentHyp</th>\n",
       "      <th>diabetes</th>\n",
       "      <th>totChol</th>\n",
       "      <th>sysBP</th>\n",
       "      <th>diaBP</th>\n",
       "      <th>BMI</th>\n",
       "      <th>heartRate</th>\n",
       "      <th>glucose</th>\n",
       "      <th>TenYearCHD</th>\n",
       "    </tr>\n",
       "  </thead>\n",
       "  <tbody>\n",
       "    <tr>\n",
       "      <td>3546</td>\n",
       "      <td>0</td>\n",
       "      <td>54</td>\n",
       "      <td>1.0</td>\n",
       "      <td>0</td>\n",
       "      <td>0.0</td>\n",
       "      <td>0.0</td>\n",
       "      <td>0</td>\n",
       "      <td>0</td>\n",
       "      <td>0</td>\n",
       "      <td>241.0</td>\n",
       "      <td>106.0</td>\n",
       "      <td>77.0</td>\n",
       "      <td>27.64</td>\n",
       "      <td>78.0</td>\n",
       "      <td>74.0</td>\n",
       "      <td>0</td>\n",
       "    </tr>\n",
       "    <tr>\n",
       "      <td>1127</td>\n",
       "      <td>0</td>\n",
       "      <td>42</td>\n",
       "      <td>3.0</td>\n",
       "      <td>1</td>\n",
       "      <td>10.0</td>\n",
       "      <td>0.0</td>\n",
       "      <td>0</td>\n",
       "      <td>0</td>\n",
       "      <td>0</td>\n",
       "      <td>253.0</td>\n",
       "      <td>109.0</td>\n",
       "      <td>74.0</td>\n",
       "      <td>24.38</td>\n",
       "      <td>88.0</td>\n",
       "      <td>60.0</td>\n",
       "      <td>0</td>\n",
       "    </tr>\n",
       "    <tr>\n",
       "      <td>3088</td>\n",
       "      <td>0</td>\n",
       "      <td>58</td>\n",
       "      <td>1.0</td>\n",
       "      <td>0</td>\n",
       "      <td>0.0</td>\n",
       "      <td>1.0</td>\n",
       "      <td>1</td>\n",
       "      <td>1</td>\n",
       "      <td>0</td>\n",
       "      <td>274.0</td>\n",
       "      <td>159.0</td>\n",
       "      <td>90.0</td>\n",
       "      <td>28.40</td>\n",
       "      <td>72.0</td>\n",
       "      <td>81.0</td>\n",
       "      <td>0</td>\n",
       "    </tr>\n",
       "    <tr>\n",
       "      <td>437</td>\n",
       "      <td>1</td>\n",
       "      <td>45</td>\n",
       "      <td>1.0</td>\n",
       "      <td>1</td>\n",
       "      <td>30.0</td>\n",
       "      <td>0.0</td>\n",
       "      <td>0</td>\n",
       "      <td>0</td>\n",
       "      <td>0</td>\n",
       "      <td>240.0</td>\n",
       "      <td>141.0</td>\n",
       "      <td>89.0</td>\n",
       "      <td>25.01</td>\n",
       "      <td>95.0</td>\n",
       "      <td>76.0</td>\n",
       "      <td>0</td>\n",
       "    </tr>\n",
       "    <tr>\n",
       "      <td>3188</td>\n",
       "      <td>1</td>\n",
       "      <td>63</td>\n",
       "      <td>1.0</td>\n",
       "      <td>0</td>\n",
       "      <td>0.0</td>\n",
       "      <td>0.0</td>\n",
       "      <td>0</td>\n",
       "      <td>1</td>\n",
       "      <td>0</td>\n",
       "      <td>190.0</td>\n",
       "      <td>148.0</td>\n",
       "      <td>90.0</td>\n",
       "      <td>27.13</td>\n",
       "      <td>72.0</td>\n",
       "      <td>86.0</td>\n",
       "      <td>0</td>\n",
       "    </tr>\n",
       "  </tbody>\n",
       "</table>\n",
       "</div>"
      ],
      "text/plain": [
       "      male  age  education  currentSmoker  cigsPerDay  BPMeds  \\\n",
       "3546     0   54        1.0              0         0.0     0.0   \n",
       "1127     0   42        3.0              1        10.0     0.0   \n",
       "3088     0   58        1.0              0         0.0     1.0   \n",
       "437      1   45        1.0              1        30.0     0.0   \n",
       "3188     1   63        1.0              0         0.0     0.0   \n",
       "\n",
       "      prevalentStroke  prevalentHyp  diabetes  totChol  sysBP  diaBP    BMI  \\\n",
       "3546                0             0         0    241.0  106.0   77.0  27.64   \n",
       "1127                0             0         0    253.0  109.0   74.0  24.38   \n",
       "3088                1             1         0    274.0  159.0   90.0  28.40   \n",
       "437                 0             0         0    240.0  141.0   89.0  25.01   \n",
       "3188                0             1         0    190.0  148.0   90.0  27.13   \n",
       "\n",
       "      heartRate  glucose  TenYearCHD  \n",
       "3546       78.0     74.0           0  \n",
       "1127       88.0     60.0           0  \n",
       "3088       72.0     81.0           0  \n",
       "437        95.0     76.0           0  \n",
       "3188       72.0     86.0           0  "
      ]
     },
     "execution_count": 3,
     "metadata": {},
     "output_type": "execute_result"
    }
   ],
   "source": [
    "df.head()"
   ]
  },
  {
   "cell_type": "code",
   "execution_count": 4,
   "metadata": {},
   "outputs": [
    {
     "data": {
      "text/plain": [
       "0    3596\n",
       "1     644\n",
       "Name: TenYearCHD, dtype: int64"
      ]
     },
     "execution_count": 4,
     "metadata": {},
     "output_type": "execute_result"
    }
   ],
   "source": [
    "df['TenYearCHD'].value_counts()"
   ]
  },
  {
   "cell_type": "code",
   "execution_count": 5,
   "metadata": {},
   "outputs": [
    {
     "data": {
      "text/plain": [
       "<matplotlib.axes._subplots.AxesSubplot at 0x230c51774c8>"
      ]
     },
     "execution_count": 5,
     "metadata": {},
     "output_type": "execute_result"
    },
    {
     "data": {
      "image/png": "[encoded data removed]",
      "text/plain": [
       "<Figure size 432x288 with 1 Axes>"
      ]
     },
     "metadata": {
      "needs_background": "light"
     },
     "output_type": "display_data"
    }
   ],
   "source": [
    "df['TenYearCHD'].value_counts(normalize = True).plot(kind = 'bar')"
   ]
  },
  {
   "cell_type": "code",
   "execution_count": 6,
   "metadata": {},
   "outputs": [
    {
     "data": {
      "text/plain": [
       "education     105\n",
       "cigsPerDay     29\n",
       "BPMeds         53\n",
       "totChol        50\n",
       "BMI            19\n",
       "heartRate       1\n",
       "glucose       388\n",
       "dtype: int64"
      ]
     },
     "execution_count": 6,
     "metadata": {},
     "output_type": "execute_result"
    }
   ],
   "source": [
    "ms = df.isnull().sum()\n",
    "ms[ms > 0]"
   ]
  },
  {
   "cell_type": "code",
   "execution_count": 7,
   "metadata": {},
   "outputs": [],
   "source": [
    "df = df.fillna(method = 'ffill')"
   ]
  },
  {
   "cell_type": "code",
   "execution_count": 8,
   "metadata": {},
   "outputs": [],
   "source": [
    "y = df['TenYearCHD']\n",
    "X = df.drop('TenYearCHD',axis = 1)"
   ]
  },
  {
   "cell_type": "code",
   "execution_count": 9,
   "metadata": {},
   "outputs": [],
   "source": [
    "from sklearn.model_selection import train_test_split"
   ]
  },
  {
   "cell_type": "code",
   "execution_count": 10,
   "metadata": {},
   "outputs": [],
   "source": [
    "X_train, X_test, y_train, y_test = train_test_split(X,y,test_size = 0.3,random_state = 3)"
   ]
  },
  {
   "cell_type": "code",
   "execution_count": 11,
   "metadata": {},
   "outputs": [],
   "source": [
    "from sklearn.linear_model import LogisticRegression\n",
    "lr = LogisticRegression(solver='liblinear')"
   ]
  },
  {
   "cell_type": "code",
   "execution_count": 12,
   "metadata": {},
   "outputs": [],
   "source": [
    "from sklearn.metrics import confusion_matrix,roc_auc_score,roc_curve,accuracy_score\n",
    "def model_eval(algo,Xtrain,ytrain,Xtest,ytest):\n",
    "    algo.fit(Xtrain,ytrain)\n",
    "    y_train_ypred = algo.predict(Xtrain)\n",
    "    y_train_prob = algo.predict_proba(Xtrain)[:,-1]\n",
    "\n",
    "    print('Confusion matrix - Train : \\n',confusion_matrix(ytrain,y_train_ypred))\n",
    "\n",
    "    print('Overall accuracy : ',accuracy_score(ytrain,y_train_ypred))\n",
    "\n",
    "    print('AUC - Train : ',roc_auc_score(ytrain,y_train_prob))\n",
    "    print()\n",
    "\n",
    "    #### TEST\n",
    "\n",
    "    y_test_ypred = algo.predict(Xtest)\n",
    "    y_test_prob = algo.predict_proba(Xtest)[:,-1]\n",
    "\n",
    "    print('Confusion matrix - Test : \\n',confusion_matrix(ytest,y_test_ypred))\n",
    "\n",
    "    print('Overall accuracy - Test : ',accuracy_score(ytest,y_test_ypred))\n",
    "\n",
    "    print('AUC - Test : ',roc_auc_score(ytest,y_test_prob))\n",
    "\n",
    "    fpr,tpr,thresholds = roc_curve(ytest,y_test_prob)\n",
    "\n",
    "    plt.plot(fpr,tpr)\n",
    "    plt.plot(fpr,fpr)\n",
    "    plt.xlabel('FPR')\n",
    "    plt.ylabel('TPR')\n",
    "    plt.show()"
   ]
  },
  {
   "cell_type": "code",
   "execution_count": 13,
   "metadata": {},
   "outputs": [
    {
     "name": "stdout",
     "output_type": "stream",
     "text": [
      "Confusion matrix - Train : \n",
      " [[2520   13]\n",
      " [ 400   35]]\n",
      "Overall accuracy :  0.8608490566037735\n",
      "AUC - Train :  0.7314002296127894\n",
      "\n",
      "Confusion matrix - Test : \n",
      " [[1060    3]\n",
      " [ 200    9]]\n",
      "Overall accuracy - Test :  0.8404088050314465\n",
      "AUC - Test :  0.7003605395940892\n"
     ]
    },
    {
     "data": {
      "image/png": "[encoded data removed]",
      "text/plain": [
       "<Figure size 432x288 with 1 Axes>"
      ]
     },
     "metadata": {
      "needs_background": "light"
     },
     "output_type": "display_data"
    }
   ],
   "source": [
    "model_eval(lr,X_train,y_train,X_test,y_test)"
   ]
  },
  {
   "cell_type": "markdown",
   "metadata": {},
   "source": [
    "### UNDERSAMPLING MAJORITY CLASS"
   ]
  },
  {
   "cell_type": "code",
   "execution_count": 14,
   "metadata": {},
   "outputs": [
    {
     "name": "stdout",
     "output_type": "stream",
     "text": [
      "Before undersampling : \n",
      " 0    2533\n",
      "1     435\n",
      "Name: TenYearCHD, dtype: int64\n",
      "\n",
      "After undersampling : \n",
      " 1    435\n",
      "0    435\n",
      "Name: TenYearCHD, dtype: int64\n"
     ]
    }
   ],
   "source": [
    "Xy_train = pd.concat([X_train,y_train],axis = 1)\n",
    "\n",
    "print('Before undersampling : \\n',Xy_train['TenYearCHD'].value_counts())\n",
    "print()\n",
    "\n",
    "Xy_train_0 = Xy_train[Xy_train['TenYearCHD'] == 0]\n",
    "Xy_train_1 = Xy_train[Xy_train['TenYearCHD'] == 1]\n",
    "\n",
    "len_0 = len(Xy_train_0)\n",
    "len_1 = len(Xy_train_1)\n",
    "\n",
    "# Undersampling\n",
    "Xy_train_0_us = Xy_train_0.sample(len_1,random_state = 3)\n",
    "\n",
    "Xy_train_us = pd.concat([Xy_train_0_us,Xy_train_1])\n",
    "\n",
    "print('After undersampling : \\n',Xy_train_us['TenYearCHD'].value_counts())\n",
    "\n",
    "y_train_us = Xy_train_us['TenYearCHD']\n",
    "X_train_us = Xy_train_us.drop('TenYearCHD',axis = 1)"
   ]
  },
  {
   "cell_type": "code",
   "execution_count": 15,
   "metadata": {},
   "outputs": [
    {
     "name": "stdout",
     "output_type": "stream",
     "text": [
      "Confusion matrix - Train : \n",
      " [[290 145]\n",
      " [137 298]]\n",
      "Overall accuracy :  0.6758620689655173\n",
      "AUC - Train :  0.7478398731668647\n",
      "\n",
      "Confusion matrix - Test : \n",
      " [[705 358]\n",
      " [ 75 134]]\n",
      "Overall accuracy - Test :  0.6595911949685535\n",
      "AUC - Test :  0.7070447006081011\n"
     ]
    },
    {
     "data": {
      "image/png": "[encoded data removed]",
      "text/plain": [
       "<Figure size 432x288 with 1 Axes>"
      ]
     },
     "metadata": {
      "needs_background": "light"
     },
     "output_type": "display_data"
    }
   ],
   "source": [
    "model_eval(lr,X_train_us,y_train_us,X_test,y_test)"
   ]
  },
  {
   "cell_type": "markdown",
   "metadata": {},
   "source": [
    "### OVERSAMPLING MINORITY CLASS"
   ]
  },
  {
   "cell_type": "code",
   "execution_count": 16,
   "metadata": {},
   "outputs": [
    {
     "name": "stdout",
     "output_type": "stream",
     "text": [
      "Before oversampling : \n",
      " 0    2533\n",
      "1     435\n",
      "Name: TenYearCHD, dtype: int64\n",
      "\n",
      "After oversampling : \n",
      " 1    2533\n",
      "0    2533\n",
      "Name: TenYearCHD, dtype: int64\n"
     ]
    }
   ],
   "source": [
    "Xy_train = pd.concat([X_train,y_train],axis = 1)\n",
    "\n",
    "print('Before oversampling : \\n',Xy_train['TenYearCHD'].value_counts())\n",
    "print()\n",
    "\n",
    "Xy_train_0 = Xy_train[Xy_train['TenYearCHD'] == 0]\n",
    "Xy_train_1 = Xy_train[Xy_train['TenYearCHD'] == 1]\n",
    "\n",
    "len_0 = len(Xy_train_0)\n",
    "len_1 = len(Xy_train_1)\n",
    "\n",
    "# OverSampling\n",
    "Xy_train_1_os = Xy_train_1.sample(len_0,replace = True,random_state = 3)\n",
    "\n",
    "Xy_train_os = pd.concat([Xy_train_1_os,Xy_train_0])\n",
    "\n",
    "print('After oversampling : \\n',Xy_train_os['TenYearCHD'].value_counts())\n",
    "\n",
    "y_train_os = Xy_train_os['TenYearCHD']\n",
    "X_train_os = Xy_train_os.drop('TenYearCHD',axis = 1)"
   ]
  },
  {
   "cell_type": "code",
   "execution_count": 17,
   "metadata": {},
   "outputs": [
    {
     "name": "stdout",
     "output_type": "stream",
     "text": [
      "Confusion matrix - Train : \n",
      " [[1717  816]\n",
      " [ 797 1736]]\n",
      "Overall accuracy :  0.6816028424792736\n",
      "AUC - Train :  0.7351958490600738\n",
      "\n",
      "Confusion matrix - Test : \n",
      " [[719 344]\n",
      " [ 71 138]]\n",
      "Overall accuracy - Test :  0.6737421383647799\n",
      "AUC - Test :  0.7101414701553335\n"
     ]
    },
    {
     "data": {
      "image/png": "[encoded data removed]",
      "text/plain": [
       "<Figure size 432x288 with 1 Axes>"
      ]
     },
     "metadata": {
      "needs_background": "light"
     },
     "output_type": "display_data"
    }
   ],
   "source": [
    "model_eval(lr,X_train_os,y_train_os,X_test,y_test)"
   ]
  },
  {
   "cell_type": "code",
   "execution_count": 18,
   "metadata": {},
   "outputs": [],
   "source": [
    "# !pip install imblearn"
   ]
  },
  {
   "cell_type": "code",
   "execution_count": 20,
   "metadata": {},
   "outputs": [],
   "source": [
    "from imblearn.over_sampling import SMOTE\n",
    "smote = SMOTE(sampling_strategy = 'minority',random_state = 3)\n",
    "\n",
    "X_train_sm, y_train_sm = smote.fit_sample(X_train,y_train)"
   ]
  },
  {
   "cell_type": "code",
   "execution_count": 21,
   "metadata": {},
   "outputs": [
    {
     "name": "stdout",
     "output_type": "stream",
     "text": [
      "Confusion matrix - Train : \n",
      " [[1724  809]\n",
      " [ 770 1763]]\n",
      "Overall accuracy :  0.6883142518752468\n",
      "AUC - Train :  0.7501404671911502\n",
      "\n",
      "Confusion matrix - Test : \n",
      " [[714 349]\n",
      " [ 97 112]]\n",
      "Overall accuracy - Test :  0.64937106918239\n",
      "AUC - Test :  0.6514243789581712\n"
     ]
    },
    {
     "data": {
      "image/png": "[encoded data removed]",
      "text/plain": [
       "<Figure size 432x288 with 1 Axes>"
      ]
     },
     "metadata": {
      "needs_background": "light"
     },
     "output_type": "display_data"
    }
   ],
   "source": [
    "model_eval(lr,X_train_sm,y_train_sm,X_test,y_test)"
   ]
  },
  {
   "cell_type": "code",
   "execution_count": null,
   "metadata": {},
   "outputs": [],
   "source": []
  }
 ],
 "metadata": {
  "kernelspec": {
   "display_name": "Python 3",
   "language": "python",
   "name": "python3"
  },
  "language_info": {
   "codemirror_mode": {
    "name": "ipython",
    "version": 3
   },
   "file_extension": ".py",
   "mimetype": "text/x-python",
   "name": "python",
   "nbconvert_exporter": "python",
   "pygments_lexer": "ipython3",
   "version": "3.7.4"
  }
 },
 "nbformat": 4,
 "nbformat_minor": 2
}
